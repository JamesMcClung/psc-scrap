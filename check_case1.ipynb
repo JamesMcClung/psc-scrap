{
 "cells": [
  {
   "cell_type": "markdown",
   "id": "ce10475c-b515-4f93-a474-ac1087fbeeb5",
   "metadata": {},
   "source": [
    "# Testing the initial conditions for consistency\n",
    "I will be assuming that the ions are uniformly distributed with a charge of +1."
   ]
  },
  {
   "cell_type": "markdown",
   "id": "3cf0381e-4fa3-47ef-8070-4e167ee99f41",
   "metadata": {},
   "source": [
    "## Load data"
   ]
  },
  {
   "cell_type": "code",
   "execution_count": 48,
   "id": "139e2047-4cee-4d4a-b4fc-d4b0db5c26f5",
   "metadata": {},
   "outputs": [],
   "source": [
    "%matplotlib inline\n",
    "import numpy as np\n",
    "import pandas as pd\n",
    "import matplotlib.pyplot as plt"
   ]
  },
  {
   "cell_type": "code",
   "execution_count": 2,
   "id": "7559d121-37b5-41b6-96c8-9f36bbee7e60",
   "metadata": {},
   "outputs": [
    {
     "data": {
      "text/html": [
       "<div>\n",
       "<style scoped>\n",
       "    .dataframe tbody tr th:only-of-type {\n",
       "        vertical-align: middle;\n",
       "    }\n",
       "\n",
       "    .dataframe tbody tr th {\n",
       "        vertical-align: top;\n",
       "    }\n",
       "\n",
       "    .dataframe thead th {\n",
       "        text-align: right;\n",
       "    }\n",
       "</style>\n",
       "<table border=\"1\" class=\"dataframe\">\n",
       "  <thead>\n",
       "    <tr style=\"text-align: right;\">\n",
       "      <th></th>\n",
       "      <th>radius</th>\n",
       "      <th>number_density</th>\n",
       "      <th>azimuthal_velocity</th>\n",
       "      <th>temperature</th>\n",
       "      <th>radial_electric_field</th>\n",
       "    </tr>\n",
       "  </thead>\n",
       "  <tbody>\n",
       "    <tr>\n",
       "      <th>0</th>\n",
       "      <td>0.000000</td>\n",
       "      <td>0.213281</td>\n",
       "      <td>0.000000e+00</td>\n",
       "      <td>0.000001</td>\n",
       "      <td>0.000000</td>\n",
       "    </tr>\n",
       "    <tr>\n",
       "      <th>1</th>\n",
       "      <td>0.000005</td>\n",
       "      <td>0.213299</td>\n",
       "      <td>-4.499460e-10</td>\n",
       "      <td>0.000001</td>\n",
       "      <td>0.000002</td>\n",
       "    </tr>\n",
       "    <tr>\n",
       "      <th>2</th>\n",
       "      <td>0.000010</td>\n",
       "      <td>0.213353</td>\n",
       "      <td>-3.598273e-09</td>\n",
       "      <td>0.000001</td>\n",
       "      <td>0.000004</td>\n",
       "    </tr>\n",
       "    <tr>\n",
       "      <th>3</th>\n",
       "      <td>0.000015</td>\n",
       "      <td>0.213444</td>\n",
       "      <td>-1.213689e-08</td>\n",
       "      <td>0.000001</td>\n",
       "      <td>0.000006</td>\n",
       "    </tr>\n",
       "    <tr>\n",
       "      <th>4</th>\n",
       "      <td>0.000020</td>\n",
       "      <td>0.213571</td>\n",
       "      <td>-2.874479e-08</td>\n",
       "      <td>0.000001</td>\n",
       "      <td>0.000008</td>\n",
       "    </tr>\n",
       "  </tbody>\n",
       "</table>\n",
       "</div>"
      ],
      "text/plain": [
       "     radius  number_density  azimuthal_velocity  temperature  \\\n",
       "0  0.000000        0.213281        0.000000e+00     0.000001   \n",
       "1  0.000005        0.213299       -4.499460e-10     0.000001   \n",
       "2  0.000010        0.213353       -3.598273e-09     0.000001   \n",
       "3  0.000015        0.213444       -1.213689e-08     0.000001   \n",
       "4  0.000020        0.213571       -2.874479e-08     0.000001   \n",
       "\n",
       "   radial_electric_field  \n",
       "0               0.000000  \n",
       "1               0.000002  \n",
       "2               0.000004  \n",
       "3               0.000006  \n",
       "4               0.000008  "
      ]
     },
     "execution_count": 2,
     "metadata": {},
     "output_type": "execute_result"
    }
   ],
   "source": [
    "data = pd.read_csv(\"case1-input.txt\", sep=\"\\s+\")\n",
    "data.columns = [\"radius\", \"number_density\", \"azimuthal_velocity\", \"temperature\", \"radial_electric_field\"]\n",
    "data.head()"
   ]
  },
  {
   "cell_type": "markdown",
   "id": "6657ccc2-17cd-4340-91eb-081d40f65d0d",
   "metadata": {},
   "source": [
    "## Gauss' Law\n",
    "Check that E = div(rho), where rho is the charge density. Note that we are assuming an underlying uniform distribution of ions."
   ]
  },
  {
   "cell_type": "code",
   "execution_count": 3,
   "id": "6d7a146f-cbda-4b2b-b65e-f72afc85360c",
   "metadata": {},
   "outputs": [],
   "source": [
    "qe = -1 # electron charge\n",
    "qi = 1 # ion charge\n",
    "ni = 1 # ion density\n",
    "rho = data.number_density * qe + ni * qi\n",
    "div_E = (data.radial_electric_field * data.radius).diff() / (data.radius.diff() * data.radius)"
   ]
  },
  {
   "cell_type": "code",
   "execution_count": 22,
   "id": "cdc96f9c-e2b7-495e-a383-f0d88267931b",
   "metadata": {},
   "outputs": [
    {
     "data": {
      "image/png": "[encoded data removed]",
      "text/plain": [
       "<Figure size 432x288 with 1 Axes>"
      ]
     },
     "metadata": {
      "needs_background": "light"
     },
     "output_type": "display_data"
    }
   ],
   "source": [
    "plt.plot(data.radius[1:], rho[1:])\n",
    "plt.plot(data.radius[1:], div_E[1:])\n",
    "plt.legend([\"rho\", \"div_E\"])\n",
    "plt.title(\"rho and divE\")\n",
    "plt.show()"
   ]
  },
  {
   "cell_type": "code",
   "execution_count": 20,
   "id": "beb6d6f1-b31d-4bfc-b321-b540f4a02811",
   "metadata": {},
   "outputs": [
    {
     "data": {
      "image/png": "[encoded data removed]",
      "text/plain": [
       "<Figure size 432x288 with 1 Axes>"
      ]
     },
     "metadata": {
      "needs_background": "light"
     },
     "output_type": "display_data"
    }
   ],
   "source": [
    "start=1\n",
    "end=-1\n",
    "plt.plot(data.radius[start:end], rho[start:end] / div_E[start:end])\n",
    "plt.ylim(.8,1.1)\n",
    "plt.title(\"rho/divE; should be 1\")\n",
    "plt.show()"
   ]
  },
  {
   "cell_type": "markdown",
   "id": "0ecf68d4-102a-4609-853a-d3f2a0b38139",
   "metadata": {},
   "source": [
    "It seems that the uniform ion distribution was correct. However, E has some issues for small and large radii. This probably explains the discrepancy at small radii between psc's calculated E and the initial E from file. Note that E=0 when radius>.015:"
   ]
  },
  {
   "cell_type": "code",
   "execution_count": 18,
   "id": "5ce9b084-b517-4a01-bc33-665292aac0af",
   "metadata": {},
   "outputs": [
    {
     "data": {
      "text/plain": [
       "3001    0.0\n",
       "3002    0.0\n",
       "3003    0.0\n",
       "3004    0.0\n",
       "3005    0.0\n",
       "       ... \n",
       "4396    0.0\n",
       "4397    0.0\n",
       "4398    0.0\n",
       "4399    0.0\n",
       "4400    0.0\n",
       "Length: 1400, dtype: float64"
      ]
     },
     "execution_count": 18,
     "metadata": {},
     "output_type": "execute_result"
    }
   ],
   "source": [
    "box_half_size = .015\n",
    "div_E[data.radius > box_half_size]"
   ]
  },
  {
   "cell_type": "markdown",
   "id": "aa0abc64-618f-4a79-b0e0-1d0186434f46",
   "metadata": {},
   "source": [
    "## No Net Charge\n",
    "Periodic boundary conditions require that the net charge is 0. I will do this in two different ways: once by directly integrating charge density over the *square* region, and also by computing the surface integral of E•dA over the square region.\n",
    "\n",
    "Actually, the latter method has effectively been done. We've seen that E=0 when r>.015, so the surface integral is 0 as it should be."
   ]
  },
  {
   "cell_type": "code",
   "execution_count": 64,
   "id": "2fdcb606-84d9-427a-8140-eddc3548a000",
   "metadata": {},
   "outputs": [
    {
     "data": {
      "text/plain": [
       "-8.790741732309676e-12"
      ]
     },
     "execution_count": 64,
     "metadata": {},
     "output_type": "execute_result"
    }
   ],
   "source": [
    "# naive integral over entire circle of (rho r dr dtheta), where integral over theta is 2pi\n",
    "(rho * data.radius * 2*np.pi * data.radius.diff()).sum()"
   ]
  },
  {
   "cell_type": "code",
   "execution_count": 89,
   "id": "b2e76c21-9e68-44c1-bcb7-d0e872950481",
   "metadata": {},
   "outputs": [
    {
     "name": "stdout",
     "output_type": "stream",
     "text": [
      "arclen contains nan: False\n"
     ]
    },
    {
     "data": {
      "image/png": "[encoded data removed]",
      "text/plain": [
       "<Figure size 432x288 with 1 Axes>"
      ]
     },
     "metadata": {
      "needs_background": "light"
     },
     "output_type": "display_data"
    }
   ],
   "source": [
    "arclen = data.radius * 8 * (np.pi/4 - np.arccos(np.minimum(1, .015/data.radius)))\n",
    "arclen[data.radius > box_half_size * 2**.5] = 0\n",
    "\n",
    "print(f\"arclen contains nan: {arclen.isnull().values.any()}\")\n",
    "\n",
    "plt.plot(data.radius, arclen)\n",
    "plt.title(\"arc length\")\n",
    "plt.ylabel(\"perimeter of circle contained within square\")\n",
    "plt.xlabel(\"radius of circle\")\n",
    "plt.show()"
   ]
  },
  {
   "cell_type": "code",
   "execution_count": 100,
   "id": "937e93ad-7da2-4f75-bc1b-b8cd1ccaed24",
   "metadata": {},
   "outputs": [
    {
     "data": {
      "text/plain": [
       "-1.0038567465478331e-08"
      ]
     },
     "execution_count": 100,
     "metadata": {},
     "output_type": "execute_result"
    }
   ],
   "source": [
    "# integral over square of (rho r dr dtheta), where integral over theta is arclen\n",
    "net_charge = (rho * data.radius * arclen * data.radius.diff()).sum()\n",
    "net_charge"
   ]
  },
  {
   "cell_type": "markdown",
   "id": "59e1a516-8ee1-49aa-8bd1-290a4d9e8938",
   "metadata": {},
   "source": [
    "So the total charge in the square region is about -1e-8. The total charge would be a thousand times smaller (-9e-12) if we calculate it for the circular region detailed in the input file. I don't particularly like that fact, but maybe 1e-8 is small enough."
   ]
  },
  {
   "cell_type": "markdown",
   "id": "58a9d569-60a4-498b-b11b-66300e67e8f4",
   "metadata": {},
   "source": [
    "# Conclusions\n",
    "The discrepancy in E for small radius is enough that I want to recalculate E for the initial conditions instead of using the given E. I also might consider slightly increasing the ion density or charge to bring the net charge closer to 0. I could do this by using the following value for `ni`:"
   ]
  },
  {
   "cell_type": "code",
   "execution_count": 102,
   "id": "887c7b81-42d5-49e8-910b-7191e8c1b2ec",
   "metadata": {},
   "outputs": [
    {
     "data": {
      "text/plain": [
       "1.000022307927701"
      ]
     },
     "execution_count": 102,
     "metadata": {},
     "output_type": "execute_result"
    }
   ],
   "source": [
    "ni -= net_charge / (2*box_half_size) ** 2\n",
    "ni"
   ]
  },
  {
   "cell_type": "markdown",
   "id": "e4730199-b05b-458e-90df-4629e261db60",
   "metadata": {},
   "source": [
    "# Appendix\n",
    "Here are some other plots that are nice."
   ]
  },
  {
   "cell_type": "code",
   "execution_count": 99,
   "id": "16a11098-6ecf-4f75-a04f-f76f603a27e7",
   "metadata": {},
   "outputs": [
    {
     "data": {
      "image/png": "[encoded data removed]",
      "text/plain": [
       "<Figure size 432x288 with 1 Axes>"
      ]
     },
     "metadata": {
      "needs_background": "light"
     },
     "output_type": "display_data"
    }
   ],
   "source": [
    "rho_r = rho * data.radius\n",
    "int_rho_r = (rho_r * data.radius.diff()).cumsum()\n",
    "\n",
    "max1 = rho.abs().max()\n",
    "max2 = rho_r.abs().max()\n",
    "max3 = int_rho_r.abs().max()\n",
    "\n",
    "# scale everything\n",
    "plt.plot(data.radius, rho / max1)\n",
    "plt.plot(data.radius, rho * data.radius / max2)\n",
    "plt.plot(data.radius, (rho * data.radius * data.radius.diff()).cumsum() / max3)\n",
    "plt.legend([\"rho\", \"rho * radius\", \"integral\"])\n",
    "plt.show()"
   ]
  },
  {
   "cell_type": "code",
   "execution_count": null,
   "id": "2b3e318f-c76d-4ec7-81cf-2916e64268dd",
   "metadata": {},
   "outputs": [],
   "source": []
  }
 ],
 "metadata": {
  "kernelspec": {
   "display_name": "Python 3",
   "language": "python",
   "name": "python3"
  },
  "language_info": {
   "codemirror_mode": {
    "name": "ipython",
    "version": 3
   },
   "file_extension": ".py",
   "mimetype": "text/x-python",
   "name": "python",
   "nbconvert_exporter": "python",
   "pygments_lexer": "ipython3",
   "version": "3.9.2"
  }
 },
 "nbformat": 4,
 "nbformat_minor": 5
}
