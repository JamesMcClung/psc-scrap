{
 "cells": [
  {
   "cell_type": "markdown",
   "id": "73b78c3c-cc94-4f9e-b5c0-8965eab0506a",
   "metadata": {},
   "source": [
    "# Load Data"
   ]
  },
  {
   "cell_type": "code",
   "execution_count": null,
   "id": "0d9a8bd2-61de-425b-97df-574473a1ca40",
   "metadata": {},
   "outputs": [],
   "source": [
    "import matplotlib.pyplot as plt\n",
    "import xarray as xr\n",
    "import util\n",
    "\n",
    "plt.rcParams['figure.figsize'] = [16, 3]\n",
    "\n",
    "import sys\n",
    "sys.path.append('/mnt/lustre/IAM851/jm1667/psc/python')\n",
    "import psc\n",
    "\n",
    "import logging\n",
    "# logging.basicConfig(level=logging.DEBUG)\n",
    "\n",
    "%config InlineBackend.figure_format = 'retina'"
   ]
  },
  {
   "cell_type": "code",
   "execution_count": 2,
   "id": "5f5b52a2-def0-42a2-8707-4fbf1fa2cbc4",
   "metadata": {},
   "outputs": [
    {
     "name": "stdout",
     "output_type": "stream",
     "text": [
      "/mnt/lustre/IAM851/jm1667/psc-runs/case1/trials/B1_n512/\n"
     ]
    }
   ],
   "source": [
    "case = \"case1\"\n",
    "B = 1\n",
    "res = 512\n",
    "mod = [\"\", \"_v-1\", '_v0', '_dup', '_T0', '_v2'][0]\n",
    "\n",
    "run = util.Run(case, B, res, mod)\n",
    "print(run.path)"
   ]
  },
  {
   "cell_type": "code",
   "execution_count": 3,
   "id": "d0f35688-4462-4102-bc52-36b5b6f1c9c5",
   "metadata": {},
   "outputs": [
    {
     "name": "stdout",
     "output_type": "stream",
     "text": [
      "nsteps in sim: 1000000\n",
      "nframes in animation = 10\n",
      "steps per frame: 100000\n",
      "directory to save in: case1/B1_n512_10x100000\n"
     ]
    }
   ],
   "source": [
    "run.initFMNS(nframes=10)\n",
    "run.printMetadata()"
   ]
  },
  {
   "cell_type": "code",
   "execution_count": 4,
   "id": "e4ed5c4b-0dbb-450e-bbda-7ec1d7c9e8a0",
   "metadata": {},
   "outputs": [],
   "source": [
    "import matplotlib.animation as animation\n",
    "from IPython.display import HTML\n",
    "import numpy as np"
   ]
  },
  {
   "cell_type": "code",
   "execution_count": 5,
   "id": "8b5ab743-25c7-45e1-a2dd-b4018888d16a",
   "metadata": {},
   "outputs": [
    {
     "name": "stdout",
     "output_type": "stream",
     "text": [
      "quantity: Electron Density\n"
     ]
    }
   ],
   "source": [
    "paramsId = 0\n",
    "params = [\n",
    "        util.DataParams('Electron Density', 0, None, 'inferno', 'pfd_moments', 'rho_e', coef=-1),\n",
    "        util.DataParams('Ion Density', 0, None, 'inferno', 'pfd_moments', 'rho_i'),\n",
    "        util.DataParams('Y-ial E', -.0005, .0005, 'RdBu', 'pfd', 'ey_ec'),\n",
    "        util.DataParams('Y-ial B', -3e-8, 3e-8, 'RdBu', 'pfd', 'hy_fc', skipFirst=True),\n",
    "        util.DataParams('X-ial B', -B*1.2, B*1.2, 'RdBu', 'pfd', 'hx_fc'),\n",
    "        util.DataParams('Y-ial J', -.0005, .0005, 'RdBu', 'pfd', 'jy_ec', skipFirst=True),\n",
    "        util.DataParams('Radial J', None, None, 'RdBu', 'pfd', ['jy_ec', 'jz_ec'], skipFirst=True, combine='radial'),\n",
    "        util.DataParams('Azimuthal J', None, None, 'RdBu', 'pfd', ['jy_ec', 'jz_ec'], skipFirst=True, combine='azimuthal'),\n",
    "        util.DataParams('Electron Temperature', 0, None, 'inferno', 'pfd_moments', ['tyy_e', 'tzz_e'], skipFirst=False, combine='sum'),\n",
    "        ][paramsId]\n",
    "print(f\"quantity: {params.title}\")"
   ]
  },
  {
   "cell_type": "code",
   "execution_count": 6,
   "id": "48b7f2d7-d54b-4dfc-8d8a-c14c887486f3",
   "metadata": {},
   "outputs": [],
   "source": [
    "# load data\n",
    "run.loadData(params)"
   ]
  },
  {
   "cell_type": "code",
   "execution_count": 7,
   "id": "9b793c96-308d-41d0-9dc8-c4e1a6615d38",
   "metadata": {},
   "outputs": [
    {
     "name": "stdout",
     "output_type": "stream",
     "text": [
      "view: Central = slice(-0.003, 0.003, None)\n"
     ]
    }
   ],
   "source": [
    "# slice data\n",
    "run.sliceData(sliceID = 1)\n",
    "run.printViewInfo()"
   ]
  },
  {
   "cell_type": "code",
   "execution_count": 8,
   "id": "597ecf21-783d-481e-bb4a-ef8894352057",
   "metadata": {},
   "outputs": [
    {
     "data": {
      "application/vnd.jupyter.widget-view+json": {
       "model_id": "451bd3d4ebaa4a35bdd5cbc8dbb69f99",
       "version_major": 2,
       "version_minor": 0
      },
      "text/plain": [
       "Canvas(toolbar=Toolbar(toolitems=[('Home', 'Reset original view', 'home', 'home'), ('Back', 'Back to previous …"
      ]
     },
     "metadata": {},
     "output_type": "display_data"
    }
   ],
   "source": [
    "# view a particular frame\n",
    "%matplotlib ipympl\n",
    "\n",
    "run.viewFrame(frameIdx=0)"
   ]
  },
  {
   "cell_type": "markdown",
   "id": "c9801e20-cf44-4baf-b4f8-af085bc666a0",
   "metadata": {},
   "source": [
    "# Stability"
   ]
  },
  {
   "cell_type": "code",
   "execution_count": 9,
   "id": "add2a1a0-0654-44ed-99c3-d462969b92b0",
   "metadata": {},
   "outputs": [
    {
     "data": {
      "application/vnd.jupyter.widget-view+json": {
       "model_id": "132fd33d8e1e41d68e1107eca06fe192",
       "version_major": 2,
       "version_minor": 0
      },
      "text/plain": [
       "Canvas(toolbar=Toolbar(toolitems=[('Home', 'Reset original view', 'home', 'home'), ('Back', 'Back to previous …"
      ]
     },
     "metadata": {},
     "output_type": "display_data"
    },
    {
     "name": "stdout",
     "output_type": "stream",
     "text": [
      "local min indices: [0, 4, 9]\n"
     ]
    }
   ],
   "source": [
    "%matplotlib ipympl\n",
    "\n",
    "run.viewStability()\n",
    "run.printLmis()"
   ]
  },
  {
   "cell_type": "markdown",
   "id": "f13b9340-c968-44be-b4a2-9a556fb442e7",
   "metadata": {},
   "source": [
    "# Radial Dependence"
   ]
  },
  {
   "cell_type": "code",
   "execution_count": 10,
   "id": "92569e06-87d0-453e-809d-ec1687c966d5",
   "metadata": {},
   "outputs": [],
   "source": [
    "run.prepRadial()"
   ]
  },
  {
   "cell_type": "code",
   "execution_count": 12,
   "id": "8ce191c2-bfd2-4eb7-9677-ecfdc79f8d74",
   "metadata": {},
   "outputs": [],
   "source": [
    "minMeanses, minTimes = run.getMeansVsRadiusesAndTimes(run.lmis)\n",
    "maxMeanses, maxTimes = run.getMeansVsRadiusesAndTimes((lmi1 + lmi2) // 2 for lmi1, lmi2 in zip(run.lmis[:-1], run.lmis[1:]))\n",
    "midMeanses, midTimes = run.getMeansVsRadiusesAndTimes((3*lmi1 + lmi2) // 4 for lmi1, lmi2 in zip(run.lmis[:-1], run.lmis[1:]))\n",
    "means0 = run.getMeansVsRadius(0)\n",
    "# minmeanses, minstdses = tuple(zip(*[getMeansAndStds(slicedDatas[lmi]) for lmi in lmis]))\n",
    "# maxmeanses, maxstdses = tuple(zip(*[getMeansAndStds(slicedDatas[(lmi1 + lmi2) // 2]) for lmi1, lmi2 in zip(lmis[:-1], lmis[1:])]))\n",
    "# midmeanses, midstdses = tuple(zip(*[getMeansAndStds(slicedDatas[(3 * lmi1 + lmi2) // 4]) for lmi1, lmi2 in zip(lmis[:-1], lmis[1:])]))\n",
    "# means0, stds0 = getMeansAndStds(slicedDatas[0])"
   ]
  },
  {
   "cell_type": "code",
   "execution_count": 14,
   "id": "9a3178f4-9ac8-4783-a90f-8c9ea6241519",
   "metadata": {},
   "outputs": [],
   "source": [
    "# mean values over a specific number of periods\n",
    "lmii = 0\n",
    "npers = 2\n",
    "permeanses, pertimes = run.getMeansVsRadiusesAndTimes(range(run.lmis[lmii], run.lmis[lmii+npers]))\n",
    "# permeanses, perstdses = tuple(zip(*[getMeansAndStds(slicedDatas[lmi]) for lmi in range(lmis[lmii], lmis[lmii+npers])]))"
   ]
  },
  {
   "cell_type": "code",
   "execution_count": 15,
   "id": "e73c9957-7ed6-4380-99cd-209c65272d49",
   "metadata": {},
   "outputs": [],
   "source": [
    "# time average of mean values from a period\n",
    "timeav = np.array(permeanses).mean(axis=0)"
   ]
  },
  {
   "cell_type": "code",
   "execution_count": 24,
   "id": "5170d140-ceb9-4a78-a9f0-5ec818ee2e6b",
   "metadata": {},
   "outputs": [
    {
     "data": {
      "application/vnd.jupyter.widget-view+json": {
       "model_id": "6e266de097bc4f4a9a2080abb082f243",
       "version_major": 2,
       "version_minor": 0
      },
      "text/plain": [
       "Canvas(toolbar=Toolbar(toolitems=[('Home', 'Reset original view', 'home', 'home'), ('Back', 'Back to previous …"
      ]
     },
     "metadata": {},
     "output_type": "display_data"
    }
   ],
   "source": [
    "%matplotlib ipympl\n",
    "from matplotlib import cm\n",
    "\n",
    "\n",
    "\n",
    "##### plot sequence of lmins or whatever\n",
    "plt.plot(run.rs, means0, color=\"black\", label=\"t={:.2f}\".format(0))\n",
    "for i in range(len(minMeanses)):\n",
    "    plt.plot(run.rs, minMeanses[i], color=cm.Wistia(1-i/len(minMeanses)), label=\"t={:.2f}\".format(run.times[run.lmis[i]]))\n",
    "# for i in range(len(maxmeanses)):\n",
    "#     plt.plot(rs, maxmeanses[i], color=cm.Wistia(1-i/len(maxmeanses)), label=\"t={:.2f}\".format(times[(lmis[i] + lmis[i+1])//2]))\n",
    "# for i in range(len(midmeanses)):\n",
    "#     plt.plot(rs, midmeanses[i], color=cm.Wistia(1-i/len(midmeanses)), label=\"t={:.2f}\".format(times[(3 * lmis[i] + lmis[i+1])//4]))\n",
    "\n",
    "##### plot time average over a period\n",
    "# plt.plot(rs, timeav, label=\"t:[{:.2f},{:.2f}]\".format(times[lmis[lmii]], times[lmis[lmii+npers]]))\n",
    "\n",
    "# plt.legend()\n",
    "plt.show()"
   ]
  },
  {
   "cell_type": "code",
   "execution_count": 42,
   "id": "481bb7a7-c5e1-4383-963e-96a8b65ec94c",
   "metadata": {},
   "outputs": [
    {
     "data": {
      "application/vnd.jupyter.widget-view+json": {
       "model_id": "5b6ebc6430c94a83a623133d999a86e2",
       "version_major": 2,
       "version_minor": 0
      },
      "text/plain": [
       "Canvas(toolbar=Toolbar(toolitems=[('Home', 'Reset original view', 'home', 'home'), ('Back', 'Back to previous …"
      ]
     },
     "metadata": {},
     "output_type": "display_data"
    }
   ],
   "source": [
    "##### plot times over a period\n",
    "fig, ax = plt.subplots(subplot_kw={\"projection\": \"3d\"})\n",
    "\n",
    "X, Y = np.meshgrid(rs, times[lmis[lmii]:lmis[lmii+npers]])\n",
    "# Z = np.array(permeanses)\n",
    "surf = ax.plot_surface(X, Y, Z, cmap=cm.coolwarm, linewidth=0, antialiased=False)\n",
    "\n",
    "Z = np.array([subtract(permean, timeav) for permean in permeanses])\n",
    "surf = ax.plot_surface(X, Y, Z, cmap=cm.coolwarm, vmin=-.15, vmax=.15, linewidth=0, antialiased=False)\n",
    "\n",
    "ax.set_xlim(0, .003)\n",
    "fig.colorbar(surf, shrink=0.5, aspect=5)\n",
    "\n",
    "plt.show()"
   ]
  },
  {
   "cell_type": "code",
   "execution_count": null,
   "id": "4d8d0d51-9e86-4f2e-921b-3dff8d66fb8c",
   "metadata": {},
   "outputs": [],
   "source": []
  }
 ],
 "metadata": {
  "kernelspec": {
   "display_name": "Python 3",
   "language": "python",
   "name": "python3"
  },
  "language_info": {
   "codemirror_mode": {
    "name": "ipython",
    "version": 3
   },
   "file_extension": ".py",
   "mimetype": "text/x-python",
   "name": "python",
   "nbconvert_exporter": "python",
   "pygments_lexer": "ipython3",
   "version": "3.9.6"
  }
 },
 "nbformat": 4,
 "nbformat_minor": 5
}
