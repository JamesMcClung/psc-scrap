{
 "cells": [
  {
   "cell_type": "markdown",
   "id": "73b78c3c-cc94-4f9e-b5c0-8965eab0506a",
   "metadata": {},
   "source": [
    "# Load Data"
   ]
  },
  {
   "cell_type": "code",
   "execution_count": 1,
   "id": "0d9a8bd2-61de-425b-97df-574473a1ca40",
   "metadata": {},
   "outputs": [],
   "source": [
    "import matplotlib.pyplot as plt\n",
    "import xarray as xr\n",
    "\n",
    "plt.rcParams['figure.figsize'] = [16, 3]\n",
    "\n",
    "import sys\n",
    "sys.path.append('/mnt/lustre/IAM851/jm1667/psc/python')\n",
    "import psc\n",
    "\n",
    "import logging\n",
    "# logging.basicConfig(level=logging.DEBUG)\n",
    "\n",
    "%config InlineBackend.figure_format = 'retina'\n",
    "engine = \"pscadios2\"\n",
    "species_names = ['e', 'i']"
   ]
  },
  {
   "cell_type": "code",
   "execution_count": 2,
   "id": "5f5b52a2-def0-42a2-8707-4fbf1fa2cbc4",
   "metadata": {},
   "outputs": [],
   "source": [
    "case = \"case1\"\n",
    "B = 1\n",
    "res = 512\n",
    "mods = [\"\", \"_v-1\", '_v0', '_dup', '_T0', '_v2'][0]\n",
    "\n",
    "path = f\"/mnt/lustre/IAM851/jm1667/psc-runs/{case}/trials/B{B}_n{res}{mods}/\"\n",
    "length = {1:(1., .03, .03), 10:(1., .02, .02), .1:(1., .18, .18)}[B]\n",
    "wholeSlice = slice(-length[1]/2, length[1]/2)\n",
    "centerSlice = {10:slice(-.001, .001), 1:slice(-.003, .003), 0.1:slice(-.03, .03)}[B]"
   ]
  },
  {
   "cell_type": "code",
   "execution_count": 3,
   "id": "d0f35688-4462-4102-bc52-36b5b6f1c9c5",
   "metadata": {},
   "outputs": [
    {
     "name": "stdout",
     "output_type": "stream",
     "text": [
      "nsteps in sim: 1000000\n",
      "nframes in animation = 100\n",
      "steps per frame: 10000\n",
      "directory to save in: case1/B1_n512_100x10000\n"
     ]
    }
   ],
   "source": [
    "nframes = 100\n",
    "\n",
    "# determine number of steps in file (will fail if run ran out of time)\n",
    "with open(path + \"params_record.txt\") as records:\n",
    "    fields_every = 200\n",
    "    moments_every = 200\n",
    "    for line in records:\n",
    "        if line.startswith(\"nmax\"):\n",
    "            nsteps = int(line.split()[1])\n",
    "        elif line.startswith(\"fields_every\"):\n",
    "            fields_every = int(line.split()[1])\n",
    "        elif line.startswith(\"moments_every\"):\n",
    "            moments_every = int(line.split()[1])\n",
    "\n",
    "stepsPerFrame = nsteps // nframes\n",
    "\n",
    "print(f\"nsteps in sim: {nsteps}\")\n",
    "print(f\"nframes in animation = {nframes}\")\n",
    "print(f\"steps per frame: {stepsPerFrame}\")\n",
    "print(f\"directory to save in: {case}/B{B}_n{res}{mods}_{nframes}x{stepsPerFrame}\")"
   ]
  },
  {
   "cell_type": "code",
   "execution_count": 4,
   "id": "e4ed5c4b-0dbb-450e-bbda-7ec1d7c9e8a0",
   "metadata": {},
   "outputs": [],
   "source": [
    "import matplotlib.animation as animation\n",
    "from IPython.display import HTML\n",
    "import numpy as np\n",
    "\n",
    "def openFile(fileName, step):\n",
    "    return xr.open_dataset(path + f\"{fileName}.{str(step).rjust(9,'0')}.bp\", length=length, engine=engine, species_names=species_names)\n",
    "\n",
    "def prepData(data):\n",
    "    return data[0,:,:].transpose()\n",
    "\n",
    "class DataLoader:\n",
    "    def __init__(self):\n",
    "        self.rGrid = None\n",
    "        self.horGrid = None\n",
    "        self.verGrid = None\n",
    "    def getDataAndTime(self, frameIdx):\n",
    "        if frameIdx == 0 and param.skipFirst:\n",
    "            file = openFile(param.fileName, {'pfd':fields_every, 'pfd_moments':moments_every}[param.fileName])\n",
    "        else:\n",
    "            file = openFile(param.fileName, frameIdx*stepsPerFrame)\n",
    "\n",
    "        if isinstance(param.varName, list):\n",
    "            if param.combine == \"magnitude\":\n",
    "                rawData = sum(prepData(file.__getattr__(var)) ** 2 for var in param.varName) ** .5\n",
    "            elif param.combine == \"sum\":\n",
    "                rawData = sum(prepData(file.__getattr__(var)) for var in param.varName)\n",
    "            else:\n",
    "                rawHor = prepData(file.__getattr__(param.varName[0]))\n",
    "                rawVer = prepData(file.__getattr__(param.varName[1]))\n",
    "                if self.rGrid is None:\n",
    "                    self.rGrid = (rawHor.y **2 + rawHor.z**2)**.5\n",
    "                    self.horGrid = rawHor.y\n",
    "                    self.verGrid = rawHor.z\n",
    "                if param.combine == 'radial':\n",
    "                    rawData = (rawHor * self.horGrid + rawVer * self.verGrid) / self.rGrid\n",
    "                elif param.combine == 'azimuthal':\n",
    "                    rawData = (-rawHor * self.verGrid + rawVer * self.horGrid) / self.rGrid\n",
    "                rawData = rawData.fillna(0)\n",
    "        else:\n",
    "            rawData = prepData(file.__getattr__(param.varName))\n",
    "        return param.coef * rawData, file._attrs['time']\n",
    "    def loadData(self):\n",
    "        return [list(x) for x in zip(*[self.getDataAndTime(idx) for idx in range(nframes)])]\n",
    "\n",
    "def setTitle(ax, param, time):\n",
    "    ax.set_title(viewAdj + param.title + \" (t={:.3f})\".format(time))\n",
    "\n",
    "class ParamMetadata:\n",
    "    def __init__(self, title, vmin, vmax, colors, fileName, varName, coef=1, skipFirst=False, combine=\"magnitude\"):\n",
    "        self.title = title\n",
    "        self.vmin = vmin\n",
    "        self.vmax = vmax\n",
    "        self.colors = colors\n",
    "        self.fileName = fileName\n",
    "        self.varName = varName\n",
    "        self.coef = coef\n",
    "        self.skipFirst = skipFirst\n",
    "        self.combine = combine"
   ]
  },
  {
   "cell_type": "code",
   "execution_count": 5,
   "id": "8b5ab743-25c7-45e1-a2dd-b4018888d16a",
   "metadata": {},
   "outputs": [
    {
     "name": "stdout",
     "output_type": "stream",
     "text": [
      "quantity: Electron Density\n"
     ]
    }
   ],
   "source": [
    "paramId = 0\n",
    "param = [\n",
    "        ParamMetadata('Electron Density', 0, None, 'inferno', 'pfd_moments', 'rho_e', coef=-1),\n",
    "        ParamMetadata('Ion Density', 0, None, 'inferno', 'pfd_moments', 'rho_i'),\n",
    "        ParamMetadata('Y-ial E', -.0005, .0005, 'RdBu', 'pfd', 'ey_ec'),\n",
    "        ParamMetadata('Y-ial B', -3e-8, 3e-8, 'RdBu', 'pfd', 'hy_fc', skipFirst=True),\n",
    "        ParamMetadata('X-ial B', -B*1.2, B*1.2, 'RdBu', 'pfd', 'hx_fc'),\n",
    "        ParamMetadata('Y-ial J', -.0005, .0005, 'RdBu', 'pfd', 'jy_ec', skipFirst=True),\n",
    "        ParamMetadata('Radial J', None, None, 'RdBu', 'pfd', ['jy_ec', 'jz_ec'], skipFirst=True, combine='radial'),\n",
    "        ParamMetadata('Azimuthal J', None, None, 'RdBu', 'pfd', ['jy_ec', 'jz_ec'], skipFirst=True, combine='azimuthal'),\n",
    "        ParamMetadata('Electron Temperature', 0, None, 'inferno', 'pfd_moments', ['tyy_e', 'tzz_e'], skipFirst=False, combine='sum'),\n",
    "        ][paramId]\n",
    "print(f\"quantity: {param.title}\")"
   ]
  },
  {
   "cell_type": "code",
   "execution_count": 6,
   "id": "48b7f2d7-d54b-4dfc-8d8a-c14c887486f3",
   "metadata": {},
   "outputs": [],
   "source": [
    "# load data\n",
    "datas, times = DataLoader().loadData()"
   ]
  },
  {
   "cell_type": "code",
   "execution_count": 7,
   "id": "9b793c96-308d-41d0-9dc8-c4e1a6615d38",
   "metadata": {},
   "outputs": [
    {
     "name": "stdout",
     "output_type": "stream",
     "text": [
      "view: = slice(-0.015, 0.015, None)\n"
     ]
    }
   ],
   "source": [
    "# slice data\n",
    "activeSlice = [wholeSlice, centerSlice][0]\n",
    "\n",
    "slicedDatas = [data.sel(y=activeSlice, z=activeSlice) for data in datas]\n",
    "viewAdj = 'Central ' if activeSlice==centerSlice else ''\n",
    "print(f\"view: {viewAdj}= {activeSlice}\")\n",
    "\n",
    "vmax = param.vmax if not param.vmax is None else max(np.nanquantile(data.values, 1) for data in slicedDatas)\n",
    "vmin = param.vmin if not param.vmin is None else min(np.nanquantile(data.values, 0) for data in slicedDatas)\n",
    "if param.vmax is None and param.vmin is None:\n",
    "    vmax = max(vmax, -vmin)\n",
    "    vmin = -vmax\n",
    "\n",
    "rGrid = (slicedDatas[0].y **2 + slicedDatas[0].z**2)**.5"
   ]
  },
  {
   "cell_type": "code",
   "execution_count": 8,
   "id": "597ecf21-783d-481e-bb4a-ef8894352057",
   "metadata": {},
   "outputs": [
    {
     "data": {
      "application/vnd.jupyter.widget-view+json": {
       "model_id": "c7db2f1bef984b97ad06972548089353",
       "version_major": 2,
       "version_minor": 0
      },
      "text/plain": [
       "Canvas(toolbar=Toolbar(toolitems=[('Home', 'Reset original view', 'home', 'home'), ('Back', 'Back to previous …"
      ]
     },
     "metadata": {},
     "output_type": "display_data"
    }
   ],
   "source": [
    "# view t\n",
    "tidx = 20\n",
    "\n",
    "%matplotlib ipympl\n",
    "fig, ax = plt.subplots()\n",
    "\n",
    "im = ax.imshow(slicedDatas[tidx], cmap=param.colors, vmin=vmin, vmax=vmax, origin='lower', extent=(activeSlice.start, activeSlice.stop, activeSlice.start, activeSlice.stop))\n",
    "ax.set_xlabel('y')\n",
    "ax.set_ylabel('z')\n",
    "setTitle(ax, param, times[tidx])\n",
    "plt.setp(ax.get_xticklabels(), rotation=30, horizontalalignment='right')\n",
    "fig.colorbar(im, ax=ax);"
   ]
  },
  {
   "cell_type": "markdown",
   "id": "c9801e20-cf44-4baf-b4f8-af085bc666a0",
   "metadata": {},
   "source": [
    "# Stability"
   ]
  },
  {
   "cell_type": "code",
   "execution_count": 9,
   "id": "83faf474-ea54-4ae5-ab87-23f00c1e2fff",
   "metadata": {},
   "outputs": [],
   "source": [
    "# fuzz: once a lmin is found, explore a radius of <fuzz> for potentially lower points, and keep going if any are found\n",
    "def get_bounding_lmins_idxs(data, idx, fuzz=1):\n",
    "    ilower = idx+1 # if idx is an lmin, it will count as the lower lmin\n",
    "    i = 1\n",
    "    foundDownhill = False\n",
    "    while i <= fuzz:\n",
    "        if ilower < i:\n",
    "            ilower = ilower if foundDownhill else None\n",
    "            break\n",
    "        if ilower == len(data) or data[ilower - i] < data[ilower]:\n",
    "            foundDownhill = True\n",
    "            ilower -= i\n",
    "            i = 1\n",
    "        elif foundDownhill:\n",
    "            i += 1\n",
    "        else:\n",
    "            ilower -= 1\n",
    "        \n",
    "    iupper = idx\n",
    "    i = 1\n",
    "    foundDownhill = False\n",
    "    while i <= fuzz:\n",
    "        if iupper + i >= len(data):\n",
    "            iupper = iupper if foundDownhill else None\n",
    "            break\n",
    "        if data[iupper + i] < data[iupper]:\n",
    "            foundDownhill = True\n",
    "            iupper += i\n",
    "            i = 1\n",
    "        elif foundDownhill:\n",
    "            i += 1\n",
    "        else:\n",
    "            iupper += 1\n",
    "\n",
    "    return ilower, iupper\n",
    "\n",
    "def get_lmin_idxs(data, fuzz=1):\n",
    "    lmis = [0]\n",
    "    while not lmis[-1] is None and lmis[-1] < len(data):\n",
    "        lmis.append(get_bounding_lmins_idxs(data, lmis[-1], fuzz)[1])\n",
    "    return [lm for lm in lmis if not lm is None]"
   ]
  },
  {
   "cell_type": "code",
   "execution_count": 10,
   "id": "add2a1a0-0654-44ed-99c3-d462969b92b0",
   "metadata": {},
   "outputs": [
    {
     "data": {
      "application/vnd.jupyter.widget-view+json": {
       "model_id": "a1026b950037429ebb30592c8978d399",
       "version_major": 2,
       "version_minor": 0
      },
      "text/plain": [
       "Canvas(toolbar=Toolbar(toolitems=[('Home', 'Reset original view', 'home', 'home'), ('Back', 'Back to previous …"
      ]
     },
     "metadata": {},
     "output_type": "display_data"
    },
    {
     "name": "stdout",
     "output_type": "stream",
     "text": [
      "[0, 15, 29, 43, 58, 72, 86, 99]\n"
     ]
    }
   ],
   "source": [
    "%matplotlib ipympl\n",
    "def norm(x):\n",
    "    return xr.apply_ufunc(np.linalg.norm, x, input_core_dims=[['y', 'z']])\n",
    "\n",
    "normsOfDiffs = [norm(data - slicedDatas[0]) for data in slicedDatas]\n",
    "lmis = get_lmin_idxs(normsOfDiffs, 2)\n",
    "\n",
    "plt.xlabel(\"Time\")\n",
    "plt.ylabel(\"2-Norm of Difference\")\n",
    "plt.title(\"Stability of \" + viewAdj + param.title)\n",
    "\n",
    "plt.plot(times, normsOfDiffs)\n",
    "plt.plot([times[i] for i in lmis], [normsOfDiffs[i] for i in lmis], 'go')\n",
    "plt.show()\n",
    "print(lmis)"
   ]
  },
  {
   "cell_type": "markdown",
   "id": "f13b9340-c968-44be-b4a2-9a556fb442e7",
   "metadata": {},
   "source": [
    "# Radial Dependence"
   ]
  },
  {
   "cell_type": "code",
   "execution_count": 11,
   "id": "92569e06-87d0-453e-809d-ec1687c966d5",
   "metadata": {},
   "outputs": [],
   "source": [
    "import matplotlib\n",
    "\n",
    "maxR = max(activeSlice.start, activeSlice.stop) * 2**.5\n",
    "rStep = length[1] / 100\n",
    "\n",
    "def getMeanAndStd(data, r):\n",
    "    rslice = data.where((r <= rGrid) & (rGrid < r + rStep))\n",
    "    return rslice.mean().item(), rslice.std().item()\n",
    "rs = np.arange(0, maxR, rStep)\n",
    "\n",
    "def getMeansAndStds(data):\n",
    "    return tuple(zip(*[getMeanAndStd(data, r) for r in rs]))\n",
    "\n",
    "def subtract(list1, list2):\n",
    "    return [a1 - a2 for a1, a2 in zip(list1, list2)]"
   ]
  },
  {
   "cell_type": "code",
   "execution_count": 12,
   "id": "f7b01639-9e27-4614-b930-17b8a5067297",
   "metadata": {},
   "outputs": [],
   "source": [
    "minmeanses, minstdses = tuple(zip(*[getMeansAndStds(slicedDatas[lmi]) for lmi in lmis]))\n",
    "maxmeanses, maxstdses = tuple(zip(*[getMeansAndStds(slicedDatas[(lmi1 + lmi2) // 2]) for lmi1, lmi2 in zip(lmis[:-1], lmis[1:])]))\n",
    "midmeanses, midstdses = tuple(zip(*[getMeansAndStds(slicedDatas[(3 * lmi1 + lmi2) // 4]) for lmi1, lmi2 in zip(lmis[:-1], lmis[1:])]))\n",
    "means0, stds0 = getMeansAndStds(slicedDatas[0])"
   ]
  },
  {
   "cell_type": "code",
   "execution_count": 35,
   "id": "9a3178f4-9ac8-4783-a90f-8c9ea6241519",
   "metadata": {},
   "outputs": [],
   "source": [
    "# mean values over a specific number of periods\n",
    "lmii = 3\n",
    "npers = 2\n",
    "permeanses, perstdses = tuple(zip(*[getMeansAndStds(slicedDatas[lmi]) for lmi in range(lmis[lmii], lmis[lmii+npers])]))"
   ]
  },
  {
   "cell_type": "code",
   "execution_count": 36,
   "id": "e73c9957-7ed6-4380-99cd-209c65272d49",
   "metadata": {},
   "outputs": [],
   "source": [
    "# time average of mean values from a period\n",
    "timeav = np.array(permeanses).mean(axis=0)"
   ]
  },
  {
   "cell_type": "code",
   "execution_count": 37,
   "id": "5170d140-ceb9-4a78-a9f0-5ec818ee2e6b",
   "metadata": {},
   "outputs": [
    {
     "data": {
      "application/vnd.jupyter.widget-view+json": {
       "model_id": "21fd24189f3040fbaeb427b7671cd56d",
       "version_major": 2,
       "version_minor": 0
      },
      "text/plain": [
       "Canvas(toolbar=Toolbar(toolitems=[('Home', 'Reset original view', 'home', 'home'), ('Back', 'Back to previous …"
      ]
     },
     "metadata": {},
     "output_type": "display_data"
    }
   ],
   "source": [
    "%matplotlib ipympl\n",
    "from matplotlib import cm\n",
    "\n",
    "plt.xlabel(\"Distance from Axis\")\n",
    "plt.ylabel(param.title)\n",
    "# plt.title(\"Mean \" + param.title + \" vs Radius (t={:.2f})\".format(times[dataIdx]))\n",
    "plt.title(\"Mean \" + param.title + \" vs Radius\")\n",
    "\n",
    "##### plot error bars for a single time\n",
    "# plt.errorbar(rs, means0, yerr=stds0, errorevery=(1,2), color=\"blue\", ecolor=\"lightskyblue\", elinewidth=1, capsize=1.5, label=\"t={:.2f}\".format(0))\n",
    "# plt.errorbar(rs, means, yerr=stds, errorevery=(0, 2), color=\"red\", ecolor=\"lightcoral\", elinewidth=1, capsize=1.5, label=\"t={:.2f}\".format(times[dataIdx]))\n",
    "\n",
    "##### plot sequence of lmins or whatever\n",
    "# plt.plot(rs, means0, color=\"black\", label=\"t={:.2f}\".format(0))\n",
    "# for i in range(len(minmeanses)):\n",
    "#     plt.plot(rs, minmeanses[i], color=cm.Wistia(1-i/len(minmeanses)), label=\"t={:.2f}\".format(times[lmis[i]]))\n",
    "# for i in range(len(maxmeanses)):\n",
    "#     plt.plot(rs, maxmeanses[i], color=cm.Wistia(1-i/len(maxmeanses)), label=\"t={:.2f}\".format(times[(lmis[i] + lmis[i+1])//2]))\n",
    "# for i in range(len(midmeanses)):\n",
    "#     plt.plot(rs, midmeanses[i], color=cm.Wistia(1-i/len(midmeanses)), label=\"t={:.2f}\".format(times[(3 * lmis[i] + lmis[i+1])//4]))\n",
    "\n",
    "##### plot time average over a period\n",
    "plt.plot(rs, timeav, label=\"t:[{:.2f},{:.2f}]\".format(times[lmis[lmii]], times[lmis[lmii+npers]]))\n",
    "\n",
    "# plt.legend()\n",
    "plt.show()"
   ]
  },
  {
   "cell_type": "code",
   "execution_count": 42,
   "id": "481bb7a7-c5e1-4383-963e-96a8b65ec94c",
   "metadata": {},
   "outputs": [
    {
     "data": {
      "application/vnd.jupyter.widget-view+json": {
       "model_id": "5b6ebc6430c94a83a623133d999a86e2",
       "version_major": 2,
       "version_minor": 0
      },
      "text/plain": [
       "Canvas(toolbar=Toolbar(toolitems=[('Home', 'Reset original view', 'home', 'home'), ('Back', 'Back to previous …"
      ]
     },
     "metadata": {},
     "output_type": "display_data"
    }
   ],
   "source": [
    "##### plot times over a period\n",
    "fig, ax = plt.subplots(subplot_kw={\"projection\": \"3d\"})\n",
    "\n",
    "X, Y = np.meshgrid(rs, times[lmis[lmii]:lmis[lmii+npers]])\n",
    "# Z = np.array(permeanses)\n",
    "surf = ax.plot_surface(X, Y, Z, cmap=cm.coolwarm, linewidth=0, antialiased=False)\n",
    "\n",
    "Z = np.array([subtract(permean, timeav) for permean in permeanses])\n",
    "surf = ax.plot_surface(X, Y, Z, cmap=cm.coolwarm, vmin=-.15, vmax=.15, linewidth=0, antialiased=False)\n",
    "\n",
    "ax.set_xlim(0, .003)\n",
    "fig.colorbar(surf, shrink=0.5, aspect=5)\n",
    "\n",
    "plt.show()"
   ]
  },
  {
   "cell_type": "code",
   "execution_count": null,
   "id": "4d8d0d51-9e86-4f2e-921b-3dff8d66fb8c",
   "metadata": {},
   "outputs": [],
   "source": []
  }
 ],
 "metadata": {
  "kernelspec": {
   "display_name": "Python 3",
   "language": "python",
   "name": "python3"
  },
  "language_info": {
   "codemirror_mode": {
    "name": "ipython",
    "version": 3
   },
   "file_extension": ".py",
   "mimetype": "text/x-python",
   "name": "python",
   "nbconvert_exporter": "python",
   "pygments_lexer": "ipython3",
   "version": "3.9.6"
  }
 },
 "nbformat": 4,
 "nbformat_minor": 5
}
