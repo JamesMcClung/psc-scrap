{
 "cells": [
  {
   "cell_type": "code",
   "execution_count": null,
   "metadata": {},
   "outputs": [],
   "source": [
    "import numpy as np\n",
    "from matplotlib import pyplot as plt\n",
    "import bgk"
   ]
  },
  {
   "cell_type": "code",
   "execution_count": null,
   "metadata": {},
   "outputs": [],
   "source": [
    "input = bgk.Input(\"/mnt/lustre/IAM851/jm1667/psc/inputs/bgk/case1-B=1-input.txt\")\n",
    "input.truncate(slice(0, 3000, 10))\n",
    "# input.truncate(slice(1, 3000, 10))\n",
    "input.convert_to_cs_units()"
   ]
  },
  {
   "cell_type": "code",
   "execution_count": null,
   "metadata": {},
   "outputs": [],
   "source": [
    "h0 = 0.9\n",
    "k = 0.1\n",
    "B = 1"
   ]
  },
  {
   "cell_type": "markdown",
   "metadata": {},
   "source": [
    "## Compare LHS and RHS of eq 19"
   ]
  },
  {
   "cell_type": "code",
   "execution_count": null,
   "metadata": {},
   "outputs": [],
   "source": [
    "psi = input.Psi\n",
    "rho = input.rho\n",
    "\n",
    "lhs = np.gradient(np.gradient(psi, rho) * rho, rho) / rho\n",
    "rhs = np.exp(psi) * (1 - h0 / np.sqrt(1 + 8 * k * rho**2) * np.exp(-k * B**2 * rho**4 / (1 + 8 * k * rho**2))) - 1\n",
    "\n",
    "plt.plot(rho, lhs, \".\", label=\"lhs\")\n",
    "plt.plot(rho, rhs, label=\"rhs\")\n",
    "# plt.plot(rho, psi, label=\"psi\")\n",
    "# plt.plot(rho, input.Te, label=\"Te\")\n",
    "\n",
    "plt.xlabel(\"rho\")\n",
    "plt.legend()\n",
    "\n",
    "plt.show()"
   ]
  },
  {
   "cell_type": "markdown",
   "metadata": {},
   "source": [
    "## View f"
   ]
  },
  {
   "cell_type": "code",
   "execution_count": null,
   "metadata": {},
   "outputs": [],
   "source": [
    "from math import exp, pi\n",
    "\n",
    "def calc_v_phi(rho: float) -> float:\n",
    "    return input.interpolate_value(rho, \"v_phi\")\n",
    "def calc_psi(rho: float) -> float:\n",
    "    return input.interpolate_value(rho, \"Psi\")\n",
    "def calc_l(rho: float) -> float:\n",
    "    return 2 * rho * calc_v_phi(rho) - B * rho**2\n",
    "def calc_w(*, rho: float) -> float:\n",
    "    return calc_v_phi(rho)**2 / 2 - calc_psi(rho)\n",
    "def calc_f(*, rho: float=None, w: float=None, l: float=None) -> float:\n",
    "    if rho is not None:\n",
    "        w = calc_w(rho=rho)\n",
    "        l = calc_l(rho=rho)\n",
    "    return (2 * pi) ** (-3/2) * exp(-w) * (1 - h0 *  exp(-k * l ** 2))"
   ]
  },
  {
   "cell_type": "code",
   "execution_count": null,
   "metadata": {},
   "outputs": [],
   "source": [
    "%matplotlib widget\n",
    "rhos = np.linspace(input.rho[0], input.rho[-2], 100)\n",
    "fs = [calc_f(rho=rho) for rho in rhos]\n",
    "ws = [calc_w(rho=rho) for rho in rhos]\n",
    "ls = [calc_l(rho=rho) for rho in rhos]\n",
    "\n",
    "plt.hexbin(ws, ls, fs, gridsize=50, cmap=\"Greens\", vmax=.13)\n",
    "plt.colorbar()\n",
    "plt.xlabel(\"w\")\n",
    "plt.ylabel(\"l\");"
   ]
  },
  {
   "cell_type": "code",
   "execution_count": null,
   "metadata": {},
   "outputs": [],
   "source": [
    "%matplotlib widget\n",
    "from itertools import product\n",
    "\n",
    "\n",
    "ws = np.array([calc_w(rho=rho) for rho in rhos])\n",
    "ls = np.array([calc_l(rho=rho) for rho in rhos])\n",
    "ws = np.linspace(np.min(ws), np.max(ws), 100)\n",
    "ls = np.linspace(np.min(ls)/15, np.max(ls), 100)\n",
    "ws, ls = np.meshgrid(ws, ls)\n",
    "ws = ws.flatten()\n",
    "ls = ls.flatten()\n",
    "fs2 = np.array([calc_f(w=w, l=l) for w, l in zip(ws, ls)])\n",
    "\n",
    "# fs2 = fs2.flatten()\n",
    "plt.hexbin(ws, ls, fs2, gridsize=50, cmap=\"Greens\", vmax=.13)\n",
    "plt.colorbar()\n",
    "plt.xlabel(\"w\")\n",
    "plt.ylabel(\"l\");"
   ]
  },
  {
   "cell_type": "code",
   "execution_count": null,
   "metadata": {},
   "outputs": [],
   "source": []
  }
 ],
 "metadata": {
  "kernelspec": {
   "display_name": "Python 3.9.6 (conda)",
   "language": "python",
   "name": "python3"
  },
  "language_info": {
   "codemirror_mode": {
    "name": "ipython",
    "version": 3
   },
   "file_extension": ".py",
   "mimetype": "text/x-python",
   "name": "python",
   "nbconvert_exporter": "python",
   "pygments_lexer": "ipython3",
   "version": "3.9.6"
  },
  "orig_nbformat": 4,
  "vscode": {
   "interpreter": {
    "hash": "59f2629c73b3a2e9dda9fcb3aaef44005eb025cd0f43af32343255decab64b9c"
   }
  }
 },
 "nbformat": 4,
 "nbformat_minor": 2
}
