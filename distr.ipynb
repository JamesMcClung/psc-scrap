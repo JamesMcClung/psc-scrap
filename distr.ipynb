{
 "cells": [
  {
   "cell_type": "code",
   "execution_count": null,
   "metadata": {},
   "outputs": [],
   "source": [
    "import numpy as np\n",
    "from matplotlib import pyplot as plt\n",
    "import bgk"
   ]
  },
  {
   "cell_type": "code",
   "execution_count": null,
   "metadata": {},
   "outputs": [],
   "source": [
    "h0 = 0.9\n",
    "k = 0.1\n",
    "B = 10"
   ]
  },
  {
   "cell_type": "code",
   "execution_count": null,
   "metadata": {},
   "outputs": [],
   "source": [
    "input = bgk.Input(f\"/mnt/lustre/IAM851/jm1667/psc/inputs/bgk/case1-B={B}-input.txt\")\n",
    "input.truncate(slice(0, 3000, 10))\n",
    "beta = input.Te[0] ** .5\n",
    "input.convert_to_cs_units()\n",
    "T0 = input.Te[0]\n",
    "print(f\"T0={T0}\")\n",
    "print(f\"beta={beta}\")"
   ]
  },
  {
   "cell_type": "markdown",
   "metadata": {},
   "source": [
    "## View f"
   ]
  },
  {
   "cell_type": "code",
   "execution_count": null,
   "metadata": {},
   "outputs": [],
   "source": [
    "from math import exp, pi\n",
    "\n",
    "def calc_v_phi(rho: float) -> float:\n",
    "    return input.interpolate_value(rho, \"v_phi\")\n",
    "def calc_psi(rho: float) -> float:\n",
    "    return input.interpolate_value(rho, \"Psi\")\n",
    "def calc_l(rho: float) -> float:\n",
    "    return 2 * rho * calc_v_phi(rho) - B * rho**2\n",
    "def calc_w(*, rho: float) -> float:\n",
    "    return calc_v_phi(rho)**2 / 2 - calc_psi(rho)\n",
    "def calc_f(*, rho: float=None, w: float=None, l: float=None) -> float:\n",
    "    if rho is not None:\n",
    "        w = calc_w(rho=rho)\n",
    "        l = calc_l(rho=rho)\n",
    "    return (2 * pi) ** (-3/2) * exp(-w/T0) * (1 - h0 *  exp(-k * l ** 2/T0))"
   ]
  },
  {
   "cell_type": "code",
   "execution_count": null,
   "metadata": {},
   "outputs": [],
   "source": [
    "rhos = np.linspace(input.rho[0], input.rho[-2], 500)\n",
    "\n",
    "ws = np.array([calc_w(rho=rho) for rho in rhos])\n",
    "ls = np.array([calc_l(rho=rho) for rho in rhos])\n",
    "\n",
    "fs1d = np.array([calc_f(w=w, l=l) for w, l in zip(ws, ls)])\n",
    "fs2d = np.array([[calc_f(w=w, l=l) for w in ws] for l in ls])\n",
    "\n",
    "maxf = np.max(fs2d)"
   ]
  },
  {
   "cell_type": "code",
   "execution_count": null,
   "metadata": {},
   "outputs": [],
   "source": [
    "# f(w, l)\n",
    "%matplotlib widget\n",
    "\n",
    "plt.pcolormesh(*np.meshgrid(ws, ls), fs2d, cmap=\"Greens\", vmax=maxf, shading=\"nearest\")\n",
    "plt.scatter(ws, ls, s=10., c=fs1d, cmap=\"Blues\", vmax=maxf)\n",
    "plt.colorbar()\n",
    "plt.title(f\"f(w,l) for B={B}\")\n",
    "plt.xlabel(\"w\")\n",
    "plt.ylabel(\"l\");"
   ]
  },
  {
   "cell_type": "code",
   "execution_count": null,
   "metadata": {},
   "outputs": [],
   "source": [
    "# w(rho)\n",
    "%matplotlib widget\n",
    "plt.plot(rhos, ws)"
   ]
  },
  {
   "cell_type": "code",
   "execution_count": null,
   "metadata": {},
   "outputs": [],
   "source": [
    "# l(rho)\n",
    "%matplotlib widget\n",
    "plt.plot(rhos, ls)"
   ]
  },
  {
   "cell_type": "code",
   "execution_count": null,
   "metadata": {},
   "outputs": [],
   "source": [
    "# f(v_phi, v_rho)\n",
    "%matplotlib widget\n",
    "rho = rhos[80]\n",
    "psi = input.interpolate_value(rho, \"Psi\")\n",
    "\n",
    "v_phis = np.linspace(-3, 3, 201)\n",
    "v_rhos = np.linspace(-3, 3, 201)\n",
    "\n",
    "fs2d_rho = np.array([[calc_f(w=(v_phi**2 + v_rho**2)/2 - psi, l=2*rho*v_phi - B * rho**2) for v_phi in v_phis] for v_rho in v_rhos])\n",
    "\n",
    "plt.pcolormesh(*np.meshgrid(v_phis, v_rhos), fs2d_rho, cmap=\"Greens\", shading=\"nearest\")\n",
    "plt.xlabel(\"v_phi\")\n",
    "plt.ylabel(\"v_rho\")\n",
    "plt.title(f\"f(v_phi, v_rho) at rho={rho:.2f}\")\n",
    "plt.colorbar()\n",
    "\n",
    "mean_v_phi = fs2d_rho.sum(axis=0).dot(v_phis) * (v_rhos[1] - v_rhos[0])\n",
    "mean_v_rho = fs2d_rho.sum(axis=1).dot(v_rhos) * (v_phis[1] - v_phis[0])\n",
    "\n",
    "print(f\"mean v_phi: {mean_v_phi}\")\n",
    "print(f\"mean v_rho: {mean_v_rho}\")"
   ]
  },
  {
   "cell_type": "code",
   "execution_count": null,
   "metadata": {},
   "outputs": [],
   "source": [
    "# f(v_phi) for fixed rho\n",
    "%matplotlib widget\n",
    "rho = rhos[50]\n",
    "psi = input.interpolate_value(rho, \"Psi\")\n",
    "\n",
    "v_phis = np.linspace(-3, 3, 201)\n",
    "v_rhos = np.linspace(-3, 3, 201)\n",
    "v_rho_integral = np.exp(-v_rhos ** 2 / 2).sum() * (v_rhos[1] - v_rhos[0])\n",
    "\n",
    "# f(v_rho) is always a gaussian, so integrate it out and look at v_phi\n",
    "fs1d_rho = v_rho_integral * np.array([calc_f(w=(v_phi**2)/2 - psi, l=2*rho*v_phi - B * rho**2) for v_phi in v_phis])\n",
    "\n",
    "plt.plot(v_phis, fs1d_rho)\n",
    "plt.xlabel(\"v_phi\")\n",
    "plt.ylabel(\"f\")\n",
    "plt.title(f\"f(v_phi) at rho={rho:.2f}\")\n",
    "\n",
    "mean_v_phi = v_phis.dot(fs1d_rho)\n",
    "\n",
    "print(f\"mean v_phi: {mean_v_phi}\")"
   ]
  },
  {
   "cell_type": "code",
   "execution_count": null,
   "metadata": {},
   "outputs": [],
   "source": [
    "# f(rho, v_phi)\n",
    "%matplotlib widget\n",
    "v_phis = np.linspace(-3, 3, 201)\n",
    "v_rhos = np.linspace(-3, 3, 201)\n",
    "v_rho_integral = np.exp(-v_rhos ** 2 / 2).sum() * (v_rhos[1] - v_rhos[0])\n",
    "\n",
    "# f(v_rho) is always a gaussian, so integrate it out and look at v_phi\n",
    "fs2d_int = v_rho_integral * np.array([[calc_f(w=(v_phi**2)/2 - input.interpolate_value(rho, \"Psi\"), l=2*rho*v_phi - B * rho**2) for rho in rhos] for v_phi in v_phis])\n",
    "\n",
    "# mean_v_phis_cs = np.array([calc_v_phi(rho) for rho in rhos])\n",
    "mean_v_phis = fs2d_int.T.dot(v_phis) / fs2d_int.sum(axis=0) # agrees with just using calc_v_phi\n",
    "\n",
    "plt.pcolormesh(*np.meshgrid(rhos * beta, v_phis * beta), fs2d_int, cmap=\"Reds\", shading=\"nearest\")\n",
    "plt.plot(rhos*beta, mean_v_phis * beta, 'k')\n",
    "# plt.plot(rhos*beta, mean_v_phis_cs * beta, 'r')\n",
    "plt.xlabel(\"$\\\\rho$\")\n",
    "plt.ylabel(\"$v_\\\\phi$\")\n",
    "plt.title(f\"f($\\\\rho$, $v_\\\\phi$) for $B={B}$\")\n",
    "plt.colorbar();"
   ]
  },
  {
   "cell_type": "code",
   "execution_count": null,
   "metadata": {},
   "outputs": [],
   "source": []
  },
  {
   "cell_type": "code",
   "execution_count": null,
   "metadata": {},
   "outputs": [],
   "source": []
  }
 ],
 "metadata": {
  "kernelspec": {
   "display_name": "Python 3.9.6 (conda)",
   "language": "python",
   "name": "python3"
  },
  "language_info": {
   "codemirror_mode": {
    "name": "ipython",
    "version": 3
   },
   "file_extension": ".py",
   "mimetype": "text/x-python",
   "name": "python",
   "nbconvert_exporter": "python",
   "pygments_lexer": "ipython3",
   "version": "3.9.6"
  },
  "orig_nbformat": 4,
  "vscode": {
   "interpreter": {
    "hash": "59f2629c73b3a2e9dda9fcb3aaef44005eb025cd0f43af32343255decab64b9c"
   }
  }
 },
 "nbformat": 4,
 "nbformat_minor": 2
}
