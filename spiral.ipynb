{
 "cells": [
  {
   "attachments": {},
   "cell_type": "markdown",
   "metadata": {},
   "source": [
    "# Initialization"
   ]
  },
  {
   "cell_type": "code",
   "execution_count": null,
   "metadata": {},
   "outputs": [],
   "source": [
    "import bgk"
   ]
  },
  {
   "cell_type": "code",
   "execution_count": null,
   "metadata": {},
   "outputs": [],
   "source": [
    "path = f\"/mnt/lustre/IAM851/jm1667/psc-runs/case1/trials/exact/B00.25-n512/\"\n",
    "\n",
    "B = bgk.readParam(path, \"H_x\", float)\n",
    "res = bgk.readParam(path, \"n_grid\", int)\n",
    "ve_coef = bgk.readParam(path, \"v_e_coef\", float)\n",
    "input_path = bgk.readParam(path, \"path_to_data\", str)\n",
    "\n",
    "struct_radius = bgk.Input(input_path).get_radius_of_structure()\n",
    "\n",
    "wholeSlice = bgk.DataSlice(slice(None, None), \"\")\n",
    "centerSlice = bgk.DataSlice(slice(-struct_radius, struct_radius), \"Central \")\n",
    "\n",
    "loader = bgk.Loader(path, engine=\"pscadios2\", species_names=['e', 'i'])\n",
    "size = loader._get_xr_dataset(\"pfd\", 0).length[1]\n",
    "\n",
    "print(f\"B={B}\")\n",
    "print(f\"res={res}\")\n",
    "print(f\"size={size}\")\n",
    "print(f\"struct size={2*struct_radius:.3f}\")\n",
    "print(f\"ve_coef={ve_coef}\")\n",
    "print(f\"input_path={input_path}\")"
   ]
  },
  {
   "cell_type": "code",
   "execution_count": null,
   "metadata": {},
   "outputs": [],
   "source": [
    "# fiddle with this until as many steps as possible are used (usually, they can all be used)\n",
    "nframes = 100\n",
    "\n",
    "videoMaker = bgk.VideoMaker(nframes, loader)\n",
    "\n",
    "completion_percent = 100 * loader.fields_max / loader.nmax\n",
    "video_coverage_percent = 100 * nframes * videoMaker.fields_stepsPerFrame / loader.fields_max\n",
    "steps_used_percent = 100 * nframes / (loader.fields_max / loader.fields_every)\n",
    "print(f\"steps simulated:      {loader.fields_max} ({completion_percent:.1f}% complete)\")\n",
    "print(f\"nframes in animation: {nframes}\")\n",
    "print(f\"steps per frame:      {videoMaker.fields_stepsPerFrame}\")\n",
    "print(f\"max step in video:    {nframes * videoMaker.fields_stepsPerFrame} ({video_coverage_percent:.1f}% coverage, {steps_used_percent:.1f}% step used)\")\n",
    "if video_coverage_percent != 100:\n",
    "    print(f\"suggested nframes:    {loader.get_all_suggested_nframes(nframes)[0]}\")"
   ]
  },
  {
   "attachments": {},
   "cell_type": "markdown",
   "metadata": {},
   "source": [
    "# Animation\n",
    "from https://stackoverflow.com/questions/18743673/show-consecutive-images-arrays-with-imshow-as-repeating-animation-in-python\n",
    "and http://louistiao.me/posts/notebooks/embedding-matplotlib-animations-in-jupyter-notebooks/"
   ]
  },
  {
   "cell_type": "code",
   "execution_count": null,
   "metadata": {},
   "outputs": [],
   "source": [
    "from IPython.display import HTML\n",
    "import bgk.run_params as rp"
   ]
  },
  {
   "cell_type": "code",
   "execution_count": null,
   "metadata": {},
   "outputs": [],
   "source": [
    "# select parameter\n",
    "param = rp.ne\n",
    "print(f\"quantity: {param.title}\")"
   ]
  },
  {
   "cell_type": "code",
   "execution_count": null,
   "metadata": {},
   "outputs": [],
   "source": [
    "# load data\n",
    "videoMaker.loadData(param)"
   ]
  },
  {
   "cell_type": "code",
   "execution_count": null,
   "metadata": {},
   "outputs": [],
   "source": [
    "# slice data\n",
    "sliceId = 0\n",
    "whichSlice = [wholeSlice, centerSlice][sliceId]\n",
    "videoMaker.setSlice(whichSlice)\n",
    "\n",
    "print(f\"view: {whichSlice.viewAdjective}= {whichSlice.slice}\")"
   ]
  },
  {
   "cell_type": "code",
   "execution_count": null,
   "metadata": {},
   "outputs": [],
   "source": [
    "# view t=0\n",
    "%matplotlib widget\n",
    "fig, ax, im = videoMaker.viewFrame(77)\n",
    "fig"
   ]
  },
  {
   "cell_type": "code",
   "execution_count": null,
   "metadata": {},
   "outputs": [],
   "source": [
    "# make movie\n",
    "%matplotlib widget\n",
    "anim = videoMaker.viewMovie(fig, ax, im)\n",
    "HTML(anim.to_html5_video())"
   ]
  },
  {
   "attachments": {},
   "cell_type": "markdown",
   "metadata": {},
   "source": [
    "# Spiral"
   ]
  },
  {
   "cell_type": "code",
   "execution_count": null,
   "metadata": {},
   "outputs": [],
   "source": [
    "import matplotlib\n",
    "import matplotlib.pyplot as plt\n",
    "import xarray as xr\n",
    "import numpy as np"
   ]
  },
  {
   "cell_type": "code",
   "execution_count": null,
   "metadata": {},
   "outputs": [],
   "source": [
    "maxR = size / 2\n",
    "maxT = videoMaker.times[-1]\n",
    "deltaR = .003\n",
    "\n",
    "thetaGrid = videoMaker.xGrid\n",
    "\n",
    "def getRslice(data: xr.DataArray, r: float) -> xr.DataArray:\n",
    "    return data.where((r <= videoMaker.rGrid) & (videoMaker.rGrid < r + deltaR))\n",
    "\n",
    "def flattenRslice(rslice: xr.DataArray) -> np.ndarray:\n",
    "    rslice = rslice.data.flatten()\n",
    "    return rslice[~np.isnan(rslice)]"
   ]
  },
  {
   "cell_type": "code",
   "execution_count": null,
   "metadata": {},
   "outputs": [],
   "source": [
    "r = .005"
   ]
  },
  {
   "cell_type": "code",
   "execution_count": null,
   "metadata": {},
   "outputs": [],
   "source": [
    "t = 50\n",
    "\n",
    "idx = int(t / maxT * nframes)\n",
    "\n",
    "ne = getRslice(videoMaker.slicedDatas[idx], r)\n",
    "theta = getRslice(np.arctan2(ne.z, ne.y), r)\n",
    "print(idx)"
   ]
  },
  {
   "cell_type": "code",
   "execution_count": null,
   "metadata": {},
   "outputs": [],
   "source": [
    "%matplotlib inline\n",
    "plt.close(\"all\")\n",
    "im = plt.imshow(ne)\n",
    "# im = plt.imshow(theta)\n",
    "plt.colorbar(im)"
   ]
  },
  {
   "cell_type": "code",
   "execution_count": null,
   "metadata": {},
   "outputs": [],
   "source": [
    "theta_axis = flattenRslice(theta)\n",
    "ne_axis = flattenRslice(ne)"
   ]
  },
  {
   "attachments": {},
   "cell_type": "markdown",
   "metadata": {},
   "source": [
    "## Scatter"
   ]
  },
  {
   "cell_type": "code",
   "execution_count": null,
   "metadata": {},
   "outputs": [],
   "source": [
    "import scipy.optimize as opt"
   ]
  },
  {
   "cell_type": "code",
   "execution_count": null,
   "metadata": {},
   "outputs": [],
   "source": [
    "def f(theta, amp, phase, freq, offset):\n",
    "    return np.sin(theta*freq + phase) * amp + offset\n",
    "\n",
    "[popt, pcov] = opt.curve_fit(f, theta_axis, ne_axis, sigma=np.ones_like(ne_axis) * 10, method=\"trf\", bounds=([0, 0, 0, -1], [1, 6.29, 50, 2]))\n",
    "[amp, phase, freq, offset] = popt\n",
    "print(f\"freq: {freq}\")\n",
    "print(f\"phase: {phase}\")\n",
    "print(f\"amp: {amp}\")\n",
    "print(f\"offset: {offset}\")"
   ]
  },
  {
   "cell_type": "code",
   "execution_count": null,
   "metadata": {},
   "outputs": [],
   "source": [
    "plt.close(\"all\")\n",
    "plt.scatter(theta_axis, ne_axis, s=10)\n",
    "theta_linspace = np.linspace(-3.14, 3.14, 100)\n",
    "ne_curve = f(theta_linspace, *popt)\n",
    "plt.plot(theta_linspace, 10*(ne_curve - ne_curve.mean(0)) + ne_curve.mean(0), \"r\")"
   ]
  },
  {
   "attachments": {},
   "cell_type": "markdown",
   "metadata": {},
   "source": [
    "## Binning"
   ]
  },
  {
   "cell_type": "code",
   "execution_count": null,
   "metadata": {},
   "outputs": [],
   "source": [
    "theta_bins = np.linspace(theta_axis.min(), theta_axis.max(), 100)\n",
    "bin_idxs = np.digitize(theta_axis, theta_bins)\n",
    "ne_means = [ne_axis[bin_idxs == i].mean() for i in range(1, len(theta_bins)+1)]"
   ]
  },
  {
   "cell_type": "code",
   "execution_count": null,
   "metadata": {},
   "outputs": [],
   "source": [
    "plt.close(\"all\")\n",
    "plt.plot(theta_bins, ne_means)"
   ]
  },
  {
   "attachments": {},
   "cell_type": "markdown",
   "metadata": {},
   "source": [
    "## FFT"
   ]
  },
  {
   "cell_type": "code",
   "execution_count": null,
   "metadata": {},
   "outputs": [],
   "source": [
    "import scipy.signal as sig"
   ]
  },
  {
   "cell_type": "code",
   "execution_count": null,
   "metadata": {},
   "outputs": [],
   "source": [
    "idx_freq, power = sig.periodogram(ne_means, nfft=len(ne_means) * 4)\n",
    "freq = idx_freq * len(theta_bins) / 6.28\n"
   ]
  },
  {
   "cell_type": "code",
   "execution_count": null,
   "metadata": {},
   "outputs": [],
   "source": [
    "plt.close(\"all\")\n",
    "plt.xlabel(\"Frequency\")\n",
    "plt.ylabel(\"Amplitude\")\n",
    "plt.plot(freq, power)"
   ]
  },
  {
   "cell_type": "code",
   "execution_count": null,
   "metadata": {},
   "outputs": [],
   "source": [
    "search_cutoff = len(power) // 2\n",
    "peak_freq = freq[power[search_cutoff:].argmax() + search_cutoff]\n",
    "print(f\"peak frequency: {peak_freq}\")"
   ]
  },
  {
   "attachments": {},
   "cell_type": "markdown",
   "metadata": {},
   "source": [
    "## Fit 2"
   ]
  },
  {
   "cell_type": "code",
   "execution_count": null,
   "metadata": {},
   "outputs": [],
   "source": [
    "def f(theta, amp, phase, offset):\n",
    "    return np.sin(theta * peak_freq + phase) * amp + offset\n",
    "\n",
    "[popt, pcov] = opt.curve_fit(f, theta_bins, ne_means, bounds=([0, 0, -2], [2, 6.29, 2]))\n",
    "[amp, phase, offset] = popt\n",
    "print(f\"phase: {phase}\")\n",
    "print(f\"amp: {amp}\")\n",
    "print(f\"offset: {offset}\")"
   ]
  },
  {
   "cell_type": "code",
   "execution_count": null,
   "metadata": {},
   "outputs": [],
   "source": [
    "plt.close(\"all\")\n",
    "ne_curve = f(theta_bins, *popt)\n",
    "plt.plot(theta_bins, ne_means)\n",
    "plt.plot(theta_bins, ne_curve, \"r\")"
   ]
  },
  {
   "attachments": {},
   "cell_type": "markdown",
   "metadata": {},
   "source": [
    "## Offset Over Time"
   ]
  },
  {
   "cell_type": "code",
   "execution_count": null,
   "metadata": {},
   "outputs": [],
   "source": [
    "def find_phase(idx):\n",
    "    ne = getRslice(videoMaker.slicedDatas[idx], r)\n",
    "    theta = getRslice(np.arctan2(ne.z, ne.y), r)\n",
    "    \n",
    "    theta_axis = flattenRslice(theta)\n",
    "    ne_axis = flattenRslice(ne)\n",
    "    \n",
    "    theta_bins = np.linspace(theta_axis.min(), theta_axis.max(), 100)\n",
    "    bin_idxs = np.digitize(theta_axis, theta_bins)\n",
    "    ne_means = [ne_axis[bin_idxs == i].mean() for i in range(1, len(theta_bins)+1)]\n",
    "\n",
    "    idx_freq, power = sig.periodogram(ne_means, nfft=len(ne_means) * 4)\n",
    "    freq = idx_freq * len(theta_bins) / 6.28\n",
    "\n",
    "    search_cutoff = len(power) // 2\n",
    "    peak_freq = freq[power[search_cutoff:].argmax() + search_cutoff]\n",
    "\n",
    "\n",
    "    def f(theta, amp, phase, offset):\n",
    "        return np.sin(theta * peak_freq + phase) * amp + offset\n",
    "\n",
    "    [popt, pcov] = opt.curve_fit(f, theta_bins, ne_means, bounds=([0, 0, -2], [2, 6.29, 2]))\n",
    "    [amp, phase, offset] = popt\n",
    "\n",
    "    return phase\n",
    "\n",
    "def shift_phases(phases):\n",
    "    for i, _ in enumerate(phases):\n",
    "        if i>0:\n",
    "            while abs(phases[i] - phases[i-1]) > abs(phases[i] - 2*np.pi - phases[i-1]):\n",
    "                phases[i] -= 2*np.pi\n",
    "            while abs(phases[i] - phases[i-1]) > abs(phases[i] + 2*np.pi - phases[i-1]):\n",
    "                phases[i] += 2*np.pi\n",
    "    return phases"
   ]
  },
  {
   "cell_type": "code",
   "execution_count": null,
   "metadata": {},
   "outputs": [],
   "source": [
    "phases = [find_phase(idx) for idx in range(nframes)]\n",
    "\n",
    "shifted_phases = shift_phases(phases.copy())"
   ]
  },
  {
   "cell_type": "code",
   "execution_count": null,
   "metadata": {},
   "outputs": [],
   "source": [
    "plt.close(\"all\")\n",
    "plt.ylabel(\"phase offset\")\n",
    "plt.xlabel(\"time\")\n",
    "plt.plot(videoMaker.times, shifted_phases)"
   ]
  },
  {
   "cell_type": "code",
   "execution_count": null,
   "metadata": {},
   "outputs": [],
   "source": [
    "tstart = 41\n",
    "tend = 58\n",
    "\n",
    "istart = int(tstart / maxT * nframes)\n",
    "iend = int(tend / maxT * nframes)\n",
    "\n",
    "plt.close(\"all\")\n",
    "plt.plot(videoMaker.times[istart:iend], shifted_phases[istart:iend])"
   ]
  },
  {
   "cell_type": "code",
   "execution_count": null,
   "metadata": {},
   "outputs": [],
   "source": [
    "import scipy.stats as stats"
   ]
  },
  {
   "cell_type": "code",
   "execution_count": null,
   "metadata": {},
   "outputs": [],
   "source": [
    "phase_velocity = (shifted_phases[iend] - shifted_phases[istart]) / (videoMaker.times[iend] - videoMaker.times[istart])\n",
    "v_phase, b, r, _, _ = stats.linregress(videoMaker.times[istart:iend], shifted_phases[istart:iend])\n",
    "print(f\"phase velocity = {v_phase}\")\n",
    "print(f\"r = {r}\")\n",
    "\n",
    "plt.close(\"all\")\n",
    "plt.plot(videoMaker.times[istart:iend], shifted_phases[istart:iend])\n",
    "plt.plot(videoMaker.times[istart:iend], [v_phase * t + b for t in videoMaker.times[istart:iend]])"
   ]
  },
  {
   "attachments": {},
   "cell_type": "markdown",
   "metadata": {},
   "source": [
    "## Arbitrary Shift Finder"
   ]
  },
  {
   "cell_type": "code",
   "execution_count": null,
   "metadata": {},
   "outputs": [],
   "source": [
    "thetas = np.linspace(-np.pi, np.pi, 100)\n",
    "rslice = getRslice(videoMaker.slicedDatas[0], r)\n",
    "bin_idxs = np.digitize(flattenRslice(getRslice(np.arctan2(rslice.z, rslice.y), r)), thetas)"
   ]
  },
  {
   "cell_type": "code",
   "execution_count": null,
   "metadata": {},
   "outputs": [],
   "source": [
    "def interpolate_in_nes(thetas: np.ndarray, nes: np.ndarray, theta: float) -> float:\n",
    "    idx = (thetas > theta).argmax()\n",
    "    dtheta1 = thetas[idx] - theta\n",
    "    dtheta2 = theta - thetas[idx-1]\n",
    "    return (nes[idx] * dtheta2 + nes[idx-1] * dtheta1) / (dtheta1 + dtheta2)\n",
    "\n",
    "def find_shift(thetas: np.ndarray, nes1: np.ndarray, nes2: np.ndarray, n_iterations=3, shift_search=None):\n",
    "    # doesn't work for some reason:\n",
    "    # def f(theta: float, shift: float) -> float:\n",
    "    #     return interpolate_in_nes(thetas, nes1, theta + shift)\n",
    "\n",
    "    # [popt, pcov] = opt.curve_fit(f, thetas, nes2, p0=[0], bounds=([-np.pi], [np.pi]))\n",
    "    # [shift] = popt\n",
    "\n",
    "\n",
    "    best_shift = np.nan\n",
    "    best_sum_square_errors = np.inf\n",
    "    shift_search = shift_search if shift_search is not None else np.linspace(-np.pi/2, np.pi/2, len(thetas))\n",
    "    for shift in shift_search:\n",
    "        this_sum_square_errors = 0\n",
    "        for theta, ne2 in zip(thetas, nes2):\n",
    "            this_sum_square_errors += (interpolate_in_nes(thetas, nes1, theta + shift) - ne2) ** 2\n",
    "        if this_sum_square_errors < best_sum_square_errors:\n",
    "            best_shift, best_sum_square_errors = shift, this_sum_square_errors\n",
    "\n",
    "    if n_iterations <= 1:\n",
    "        return best_shift\n",
    "\n",
    "    dtheta = shift_search[1] - shift_search[0]\n",
    "    return find_shift(thetas, nes1, nes2, n_iterations-1, np.linspace(best_shift - 4*dtheta, best_shift + 4*dtheta, 10))\n",
    "\n",
    "def get_nes(bin_idxs: np.ndarray, frame: int) -> np.ndarray:\n",
    "    ne_axis = flattenRslice(getRslice(videoMaker.slicedDatas[frame], r))\n",
    "    return [ne_axis[bin_idxs == i].mean() for i in range(1, max(bin_idxs) + 1)]\n",
    "\n",
    "def t2i(t: float) -> int:\n",
    "    return int(t * nframes / max(videoMaker.times))"
   ]
  },
  {
   "cell_type": "code",
   "execution_count": null,
   "metadata": {},
   "outputs": [],
   "source": [
    "tstart = 0\n",
    "tstop = None\n",
    "istart, istop = t2i(tstart), (t2i(tstop) if tstop else nframes)"
   ]
  },
  {
   "cell_type": "code",
   "execution_count": null,
   "metadata": {},
   "outputs": [],
   "source": [
    "# Find shifts\n",
    "nes2 = get_nes(bin_idxs, istart)\n",
    "shifts = []\n",
    "for frame in range(istart+1, istop):\n",
    "    nes1, nes2 = nes2, get_nes(bin_idxs, frame)\n",
    "    shifts.append(find_shift(thetas, nes1, nes2, n_iterations=5))\n",
    "\n",
    "shifts = np.array(shifts)\n",
    "\n",
    "phase_velocities = shifts / videoMaker.times[1]\n",
    "\n",
    "phase_angles = [0]\n",
    "for shift in shifts:\n",
    "    phase_angles.append(phase_angles[-1] + shift)"
   ]
  },
  {
   "cell_type": "code",
   "execution_count": null,
   "metadata": {},
   "outputs": [],
   "source": [
    "# plot phase velocity vs time\n",
    "plt.close(\"all\")\n",
    "plt.plot(videoMaker.times[istart+1:istop], phase_velocities)\n",
    "plt.xlabel(\"time\")\n",
    "plt.ylabel(\"phase velocity\")\n",
    "plt.show()"
   ]
  },
  {
   "cell_type": "code",
   "execution_count": null,
   "metadata": {},
   "outputs": [],
   "source": [
    "# plot phase angle vs time\n",
    "plt.close(\"all\")\n",
    "plt.plot(videoMaker.times[istart:istop], phase_angles)\n",
    "plt.xlabel(\"time\")\n",
    "plt.ylabel(\"phase angle\")\n",
    "plt.show()"
   ]
  },
  {
   "cell_type": "code",
   "execution_count": null,
   "metadata": {},
   "outputs": [],
   "source": [
    "# phase velocity in select region\n",
    "phase_velocities[t2i(30):].mean()"
   ]
  }
 ],
 "metadata": {
  "kernelspec": {
   "display_name": "Python 3.9.6 (conda)",
   "language": "python",
   "name": "python3"
  },
  "language_info": {
   "codemirror_mode": {
    "name": "ipython",
    "version": 3
   },
   "file_extension": ".py",
   "mimetype": "text/x-python",
   "name": "python",
   "nbconvert_exporter": "python",
   "pygments_lexer": "ipython3",
   "version": "3.11.2"
  },
  "vscode": {
   "interpreter": {
    "hash": "59f2629c73b3a2e9dda9fcb3aaef44005eb025cd0f43af32343255decab64b9c"
   }
  }
 },
 "nbformat": 4,
 "nbformat_minor": 4
}
