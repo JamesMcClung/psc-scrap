{
 "cells": [
  {
   "attachments": {},
   "cell_type": "markdown",
   "metadata": {},
   "source": [
    "# Initialization"
   ]
  },
  {
   "cell_type": "code",
   "execution_count": null,
   "metadata": {},
   "outputs": [],
   "source": [
    "import bgk"
   ]
  },
  {
   "cell_type": "code",
   "execution_count": null,
   "metadata": {},
   "outputs": [],
   "source": [
    "# Parameters to adjust figures\n",
    "B = .1\n",
    "res = 512\n",
    "case = [\"exact\", \"max\", \"exact-rev\", \"max-rev\"][0]"
   ]
  },
  {
   "cell_type": "code",
   "execution_count": null,
   "metadata": {},
   "outputs": [],
   "source": [
    "path = f\"/mnt/lustre/IAM851/jm1667/psc-runs/case1/trials/{case}/B{B:05.2f}-n{res}/\"\n",
    "\n",
    "ve_coef = bgk.readParam(path, \"v_e_coef\", float)\n",
    "input_path = bgk.readParam(path, \"path_to_data\", str)\n",
    "exact_str = \"Max\" if bgk.readParam(path, \"maxwellian\", str).lower() == \"true\" else \"Exact\"\n",
    "\n",
    "struct_radius = bgk.Input(input_path).get_radius_of_structure()\n",
    "\n",
    "wholeSlice = bgk.DataSlice(slice(None, None), \"\")\n",
    "centerSlice = bgk.DataSlice(slice(-struct_radius, struct_radius), \"Central \")\n",
    "\n",
    "loader = bgk.Loader(path, engine=\"pscadios2\", species_names=['e', 'i'])\n",
    "size = loader._get_xr_dataset(\"pfd\", 0).length[1]\n",
    "\n",
    "print(f\"B={B}\")\n",
    "print(f\"res={res}\")\n",
    "print(f\"size={size}\")\n",
    "print(f\"struct size={2*struct_radius:.3f}\")\n",
    "print(f\"ve_coef={ve_coef}\")\n",
    "print(f\"input_path={input_path}\")"
   ]
  },
  {
   "cell_type": "code",
   "execution_count": null,
   "metadata": {},
   "outputs": [],
   "source": [
    "# fiddle with this until as many steps as possible are used (usually, they can all be used)\n",
    "nframes = 1000\n",
    "\n",
    "videoMaker = bgk.VideoMaker(nframes, loader)\n",
    "\n",
    "completion_percent = 100 * loader.fields_max / loader.nmax\n",
    "video_coverage_percent = 100 * nframes * videoMaker.fields_stepsPerFrame / loader.fields_max\n",
    "steps_used_percent = 100 * nframes / (loader.fields_max / loader.fields_every)\n",
    "print(f\"steps simulated:      {loader.fields_max} ({completion_percent:.1f}% complete)\")\n",
    "print(f\"nframes in animation: {nframes}\")\n",
    "print(f\"steps per frame:      {videoMaker.fields_stepsPerFrame}\")\n",
    "print(f\"max step in video:    {nframes * videoMaker.fields_stepsPerFrame} ({video_coverage_percent:.1f}% coverage, {steps_used_percent:.1f}% step used)\")\n",
    "if video_coverage_percent != 100:\n",
    "    print(f\"suggested nframes:    {loader.get_all_suggested_nframes(nframes)[0]}\")"
   ]
  },
  {
   "attachments": {},
   "cell_type": "markdown",
   "metadata": {},
   "source": [
    "# Load Data"
   ]
  },
  {
   "cell_type": "code",
   "execution_count": null,
   "metadata": {},
   "outputs": [],
   "source": [
    "from IPython.display import HTML\n",
    "import bgk.run_params as rp"
   ]
  },
  {
   "cell_type": "code",
   "execution_count": null,
   "metadata": {},
   "outputs": [],
   "source": [
    "# select parameter\n",
    "param = rp.e_phi\n",
    "print(f\"quantity: {param.title}\")"
   ]
  },
  {
   "cell_type": "code",
   "execution_count": null,
   "metadata": {},
   "outputs": [],
   "source": [
    "# load data\n",
    "videoMaker.loadData(param)\n",
    "videoMaker.setSlice(wholeSlice)"
   ]
  },
  {
   "attachments": {},
   "cell_type": "markdown",
   "metadata": {},
   "source": [
    "### Check Frame/Video"
   ]
  },
  {
   "cell_type": "code",
   "execution_count": null,
   "metadata": {},
   "outputs": [],
   "source": [
    "# view t=0\n",
    "%matplotlib widget\n",
    "fig, ax, im = videoMaker.viewFrame(3)\n",
    "fig"
   ]
  },
  {
   "cell_type": "code",
   "execution_count": null,
   "metadata": {},
   "outputs": [],
   "source": [
    "# make movie\n",
    "%matplotlib widget\n",
    "anim = videoMaker.viewMovie(fig, ax, im)\n",
    "HTML(anim.to_html5_video())"
   ]
  },
  {
   "attachments": {},
   "cell_type": "markdown",
   "metadata": {},
   "source": [
    "# Spiral"
   ]
  },
  {
   "cell_type": "code",
   "execution_count": null,
   "metadata": {},
   "outputs": [],
   "source": [
    "import matplotlib\n",
    "import matplotlib.pyplot as plt\n",
    "import xarray as xr\n",
    "import numpy as np"
   ]
  },
  {
   "cell_type": "code",
   "execution_count": null,
   "metadata": {},
   "outputs": [],
   "source": [
    "maxR = size / 2\n",
    "maxT = videoMaker.times[-1]\n",
    "rStart = struct_radius / 2\n",
    "rStop = struct_radius * 2\n",
    "\n",
    "thetaGrid = videoMaker.xGrid\n",
    "\n",
    "def getRslice(data: xr.DataArray) -> xr.DataArray:\n",
    "    return data.where((rStart <= videoMaker.rGrid) & (videoMaker.rGrid < rStop))\n",
    "\n",
    "def flattenRslice(rslice: xr.DataArray) -> np.ndarray:\n",
    "    rslice = rslice.data.flatten()\n",
    "    return rslice[~np.isnan(rslice)]"
   ]
  },
  {
   "attachments": {},
   "cell_type": "markdown",
   "metadata": {},
   "source": [
    "## Choose Time"
   ]
  },
  {
   "cell_type": "code",
   "execution_count": null,
   "metadata": {},
   "outputs": [],
   "source": [
    "t = 10\n",
    "\n",
    "idx = int(t / maxT * nframes)\n",
    "\n",
    "ne = getRslice(videoMaker.slicedDatas[idx])\n",
    "theta = getRslice(np.arctan2(ne.z, ne.y))\n",
    "print(idx)"
   ]
  },
  {
   "cell_type": "code",
   "execution_count": null,
   "metadata": {},
   "outputs": [],
   "source": [
    "%matplotlib inline\n",
    "plt.close(\"all\")\n",
    "im = plt.imshow(\n",
    "            # theta,\n",
    "            ne,\n",
    "            origin=\"lower\",\n",
    "            extent=(\n",
    "                videoMaker._currentSlice.slice.start,\n",
    "                videoMaker._currentSlice.slice.stop,\n",
    "                videoMaker._currentSlice.slice.start,\n",
    "                videoMaker._currentSlice.slice.stop,\n",
    "            ),)\n",
    "plt.colorbar(im)"
   ]
  },
  {
   "cell_type": "code",
   "execution_count": null,
   "metadata": {},
   "outputs": [],
   "source": [
    "theta_axis = flattenRslice(theta)\n",
    "ne_axis = flattenRslice(ne)"
   ]
  },
  {
   "attachments": {},
   "cell_type": "markdown",
   "metadata": {},
   "source": [
    "### Scatter at time"
   ]
  },
  {
   "cell_type": "code",
   "execution_count": null,
   "metadata": {},
   "outputs": [],
   "source": [
    "plt.close(\"all\")\n",
    "plt.scatter(theta_axis, ne_axis, s=10)"
   ]
  },
  {
   "attachments": {},
   "cell_type": "markdown",
   "metadata": {},
   "source": [
    "### Binning at time"
   ]
  },
  {
   "cell_type": "code",
   "execution_count": null,
   "metadata": {},
   "outputs": [],
   "source": [
    "theta_bins = np.linspace(theta_axis.min(), theta_axis.max(), 100)\n",
    "bin_idxs = np.digitize(theta_axis, theta_bins)\n",
    "ne_means = [ne_axis[bin_idxs == i].mean() for i in range(1, len(theta_bins)+1)]"
   ]
  },
  {
   "cell_type": "code",
   "execution_count": null,
   "metadata": {},
   "outputs": [],
   "source": [
    "plt.close(\"all\")\n",
    "plt.plot(theta_bins, ne_means)"
   ]
  },
  {
   "attachments": {},
   "cell_type": "markdown",
   "metadata": {},
   "source": [
    "### Fit at time"
   ]
  },
  {
   "cell_type": "code",
   "execution_count": null,
   "metadata": {},
   "outputs": [],
   "source": [
    "import scipy.optimize as opt"
   ]
  },
  {
   "cell_type": "code",
   "execution_count": null,
   "metadata": {},
   "outputs": [],
   "source": [
    "theta_bins\n",
    "ne_means\n",
    "\n",
    "def f_ephi(theta, amp, freq1, freq2, phase1, phase2, offset) -> float:\n",
    "    # return amp * np.sin(theta * freq1 + phase1) * np.sin(theta * freq2 + phase2)**2 + offset\n",
    "    return amp * np.sin(theta * freq1 + phase1) * np.abs(np.sin(theta * freq2 + phase2))**2 + offset\n",
    "\n",
    "f = f_ephi\n",
    "\n",
    "[popt, pcov] = opt.curve_fit(f, theta_bins, ne_means, p0=[3e-5, 8, 1, 0, 0, 0])\n",
    "perr = np.sqrt(np.diag(pcov))\n",
    "\n",
    "print(popt)\n",
    "print(perr)"
   ]
  },
  {
   "cell_type": "code",
   "execution_count": null,
   "metadata": {},
   "outputs": [],
   "source": [
    "plt.close(\"all\")\n",
    "plt.plot(theta_bins, ne_means)\n",
    "plt.plot(theta_bins, [f(theta, *popt) for theta in theta_bins])"
   ]
  },
  {
   "attachments": {},
   "cell_type": "markdown",
   "metadata": {},
   "source": [
    "### FFT at time"
   ]
  },
  {
   "cell_type": "code",
   "execution_count": null,
   "metadata": {},
   "outputs": [],
   "source": [
    "import scipy.signal as sig"
   ]
  },
  {
   "cell_type": "code",
   "execution_count": null,
   "metadata": {},
   "outputs": [],
   "source": [
    "idx_freq, power = sig.periodogram(ne_means, nfft=len(ne_means) * 4)\n",
    "freq = idx_freq * len(theta_bins) / 6.28"
   ]
  },
  {
   "cell_type": "code",
   "execution_count": null,
   "metadata": {},
   "outputs": [],
   "source": [
    "plt.close(\"all\")\n",
    "plt.xlabel(\"Frequency\")\n",
    "plt.ylabel(\"Amplitude\")\n",
    "plt.plot(freq, power)"
   ]
  },
  {
   "cell_type": "code",
   "execution_count": null,
   "metadata": {},
   "outputs": [],
   "source": [
    "search_cutoff = 0 #len(power) // 2\n",
    "peak_freq = freq[power[search_cutoff:].argmax() + search_cutoff]\n",
    "print(f\"peak frequency: {peak_freq}\")"
   ]
  },
  {
   "attachments": {},
   "cell_type": "markdown",
   "metadata": {},
   "source": [
    "## Arbitrary Shift Finder"
   ]
  },
  {
   "cell_type": "code",
   "execution_count": null,
   "metadata": {},
   "outputs": [],
   "source": [
    "thetas = np.linspace(-np.pi, np.pi, 100)\n",
    "rslice = getRslice(videoMaker.slicedDatas[0])\n",
    "bin_idxs = np.digitize(flattenRslice(getRslice(np.arctan2(rslice.z, rslice.y))), thetas)"
   ]
  },
  {
   "cell_type": "code",
   "execution_count": null,
   "metadata": {},
   "outputs": [],
   "source": [
    "def interpolate_in_nes(thetas: np.ndarray, nes: np.ndarray, theta: float) -> float:\n",
    "    idx = (thetas > theta).argmax()\n",
    "    dtheta1 = thetas[idx] - theta\n",
    "    dtheta2 = theta - thetas[idx-1]\n",
    "    return (nes[idx] * dtheta2 + nes[idx-1] * dtheta1) / (dtheta1 + dtheta2)\n",
    "\n",
    "def find_dtheta(thetas: np.ndarray, nes1: np.ndarray, nes2: np.ndarray, n_iterations=3, shift_search=None, max_shift = np.pi/8):\n",
    "    best_shift = np.nan\n",
    "    best_sum_square_errors = np.inf\n",
    "    shift_search = shift_search if shift_search is not None else np.linspace(-max_shift, max_shift, len(thetas))\n",
    "    for shift in shift_search:\n",
    "        this_sum_square_errors = 0\n",
    "        for theta, ne2 in zip(thetas, nes2):\n",
    "            this_sum_square_errors += (interpolate_in_nes(thetas, nes1, theta + shift) - ne2) ** 2\n",
    "        if this_sum_square_errors < best_sum_square_errors:\n",
    "            best_shift, best_sum_square_errors = shift, this_sum_square_errors\n",
    "\n",
    "    if n_iterations <= 1:\n",
    "        # Error is sum_theta |nes1(theta+shift) - nes2(theta)|^2\n",
    "        # so shift > 0 means nes1 and nes2 match when nes1 is rotated clockwise, ie, delta_theta < 0\n",
    "        return -best_shift\n",
    "\n",
    "    dtheta = shift_search[1] - shift_search[0]\n",
    "    return find_dtheta(thetas, nes1, nes2, n_iterations-1, np.linspace(best_shift - 4*dtheta, best_shift + 4*dtheta, 10))\n",
    "\n",
    "def get_nes(bin_idxs: np.ndarray, frame: int) -> np.ndarray:\n",
    "    ne_axis = flattenRslice(getRslice(videoMaker.slicedDatas[frame]))\n",
    "    return [ne_axis[bin_idxs == i].mean() for i in range(1, max(bin_idxs) + 1)]\n",
    "\n",
    "def t2i(t: float) -> int:\n",
    "    return int(t * nframes / max(videoMaker.times))"
   ]
  },
  {
   "cell_type": "code",
   "execution_count": null,
   "metadata": {},
   "outputs": [],
   "source": [
    "# Find dthetas\n",
    "nes2 = get_nes(bin_idxs, 0)\n",
    "dthetas = []\n",
    "for frame in range(1, nframes):\n",
    "    nes1, nes2 = nes2, get_nes(bin_idxs, frame)\n",
    "    dthetas.append(find_dtheta(thetas, nes1, nes2, n_iterations=5))\n",
    "\n",
    "dthetas = np.array(dthetas)\n",
    "\n",
    "phase_velocities = dthetas / videoMaker.times[1]\n",
    "\n",
    "phase_angles = [0]\n",
    "for shift in dthetas:\n",
    "    phase_angles.append(phase_angles[-1] + shift)"
   ]
  },
  {
   "cell_type": "code",
   "execution_count": null,
   "metadata": {},
   "outputs": [],
   "source": [
    "# plot phase angle vs time\n",
    "plt.close(\"all\")\n",
    "plt.plot(videoMaker.times, phase_angles)\n",
    "plt.xlabel(\"Time\")\n",
    "plt.ylabel(\"Phase Angle\")\n",
    "plt.title(f\"Motion of Spiral in {param.title} ($B_0={B}$, {exact_str})\")\n",
    "plt.show()"
   ]
  },
  {
   "attachments": {},
   "cell_type": "markdown",
   "metadata": {},
   "source": [
    "### Linear Fit"
   ]
  },
  {
   "cell_type": "code",
   "execution_count": null,
   "metadata": {},
   "outputs": [],
   "source": [
    "import scipy.stats as stats"
   ]
  },
  {
   "cell_type": "code",
   "execution_count": null,
   "metadata": {},
   "outputs": [],
   "source": [
    "# Choose time frame\n",
    "tstart = 25\n",
    "tstop = 70\n",
    "istart, istop = t2i(tstart), t2i(tstop)+1\n",
    "\n",
    "fit = stats.linregress(videoMaker.times[istart:istop], phase_angles[istart:istop])"
   ]
  },
  {
   "cell_type": "code",
   "execution_count": null,
   "metadata": {},
   "outputs": [],
   "source": [
    "# plot phase angle vs time\n",
    "plt.close(\"all\")\n",
    "fig, ax = plt.subplots(1,1)\n",
    "ax.plot(videoMaker.times, phase_angles, label=\"From run\")\n",
    "ax.plot(videoMaker.times[istart:istop], [fit.intercept + fit.slope * t for t in videoMaker.times[istart:istop]], label=f\"Linear fit ($d\\phi/dt={fit.slope:.3f}$, $r^2={fit.rvalue**2:.3f}$)\")\n",
    "ax.axvline(videoMaker.times[istart], color=\"grey\", linestyle=\"--\")\n",
    "ax.axvline(videoMaker.times[istop-1], color=\"grey\", linestyle=\"--\")\n",
    "ax.set_xlabel(\"Time\")\n",
    "ax.set_ylabel(\"Phase Angle, $\\phi$ (rad)\")\n",
    "ax.set_title(f\"Motion of Spiral in {param.title} ($B_0={B}$, {exact_str})\")\n",
    "ax.legend()\n",
    "plt.show()"
   ]
  },
  {
   "attachments": {},
   "cell_type": "markdown",
   "metadata": {},
   "source": [
    "### Compare to Phidot of Electrons"
   ]
  },
  {
   "cell_type": "code",
   "execution_count": null,
   "metadata": {},
   "outputs": [],
   "source": [
    "input = bgk.input_reader.Input(f\"../psc/inputs/bgk/case1-B={B}-input.txt\")\n",
    "\n",
    "phidot = input.v_phi[1:] / input.rho[1:]\n",
    "\n",
    "print(f\"peak electron phidot = {phidot.min()}\")"
   ]
  },
  {
   "attachments": {},
   "cell_type": "markdown",
   "metadata": {},
   "source": [
    "### Save Figure"
   ]
  },
  {
   "cell_type": "code",
   "execution_count": null,
   "metadata": {},
   "outputs": [],
   "source": [
    "import os"
   ]
  },
  {
   "cell_type": "code",
   "execution_count": null,
   "metadata": {},
   "outputs": [],
   "source": [
    "def get_fig_path(outdir, fig_name: str) -> str:\n",
    "    return os.path.join(outdir, fig_name)\n",
    "\n",
    "def get_fig_name() -> str:\n",
    "    param_str = param.title.replace(\"_\", \"\").replace(\"$\", \"\").replace(\"\\\\\", \"\").lower()\n",
    "    return f\"spiral-{param_str}-{case}-B{B:05.2f}-n{res}.png\""
   ]
  },
  {
   "cell_type": "code",
   "execution_count": null,
   "metadata": {},
   "outputs": [],
   "source": [
    "# Save Figure\n",
    "outdir = f\"/mnt/lustre/IAM851/jm1667/psc-scrap/figs-{case}/\"\n",
    "os.makedirs(outdir, exist_ok=True)\n",
    "\n",
    "fig_path = get_fig_path(outdir, get_fig_name())\n",
    "fig.savefig(fig_path, bbox_inches=\"tight\", pad_inches=0.01, dpi=300)\n",
    "print(f\"saved to {fig_path}\")"
   ]
  }
 ],
 "metadata": {
  "kernelspec": {
   "display_name": "Python 3.9.6 (conda)",
   "language": "python",
   "name": "python3"
  },
  "language_info": {
   "codemirror_mode": {
    "name": "ipython",
    "version": 3
   },
   "file_extension": ".py",
   "mimetype": "text/x-python",
   "name": "python",
   "nbconvert_exporter": "python",
   "pygments_lexer": "ipython3",
   "version": "3.11.2"
  },
  "vscode": {
   "interpreter": {
    "hash": "59f2629c73b3a2e9dda9fcb3aaef44005eb025cd0f43af32343255decab64b9c"
   }
  }
 },
 "nbformat": 4,
 "nbformat_minor": 4
}
