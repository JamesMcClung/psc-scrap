{
 "cells": [
  {
   "cell_type": "code",
   "execution_count": null,
   "metadata": {},
   "outputs": [],
   "source": [
    "import numpy as np\n",
    "import xarray as xr\n",
    "from matplotlib import pyplot as plt\n",
    "\n",
    "import bgk"
   ]
  },
  {
   "cell_type": "code",
   "execution_count": null,
   "metadata": {},
   "outputs": [],
   "source": [
    "from typing import Callable, TypeVar, Generic\n",
    "\n",
    "T = TypeVar(\"T\")\n",
    "\n",
    "\n",
    "class FormulaChain(Generic[T]):\n",
    "    def __init__(self, **formulae: T | Callable[..., T]) -> None:\n",
    "        for var_name, formula in formulae.items():\n",
    "            if not callable(formula):\n",
    "                self.__dict__[var_name] = formula\n",
    "            else:\n",
    "                param_var_names = formula.__code__.co_varnames[: formula.__code__.co_argcount]\n",
    "\n",
    "                def formula_wrapper(\n",
    "                    _captured_param_var_names=param_var_names,\n",
    "                    _captured_var_name=var_name,\n",
    "                    _captured_formula=formula,\n",
    "                    **var_vals: T,\n",
    "                ) -> float:\n",
    "                    # see https://docs.python.org/3/faq/programming.html#why-do-lambdas-defined-in-a-loop-with-different-values-all-return-the-same-result for why these captures are necessary\n",
    "                    # TODO cleanup by extracting this into a class that defines __call__\n",
    "                    params = {}\n",
    "                    for name in _captured_param_var_names:\n",
    "                        if name in var_vals:\n",
    "                            params[name] = var_vals[name]\n",
    "                        elif name in self.__dict__ and not callable(self.__dict__[name]):\n",
    "                            params[name] = self.__dict__[name]\n",
    "                        elif name in self.__dict__:\n",
    "                            params[name] = self.__dict__[name](**var_vals)\n",
    "                        else:\n",
    "                            raise RuntimeError(f\"couldn't determine value of '{name}' when trying to calculate '{_captured_var_name}'\")\n",
    "                    return _captured_formula(**params)\n",
    "\n",
    "                self.__dict__[var_name] = formula_wrapper\n",
    "\n",
    "    def __getitem__(self, var_name: str) -> T | Callable[..., T]:\n",
    "        return self.__dict__[var_name]"
   ]
  },
  {
   "cell_type": "code",
   "execution_count": null,
   "metadata": {},
   "outputs": [],
   "source": [
    "input = bgk.RunManager(\"/mnt/lustre/IAM851/jm1667/psc-runs/case1/trials/exact/B00.25-n128\").run_input"
   ]
  },
  {
   "cell_type": "code",
   "execution_count": null,
   "metadata": {},
   "outputs": [],
   "source": [
    "formulae_case_2 = FormulaChain(\n",
    "    h0=0.9,\n",
    "    k=0.9,\n",
    "    xi=0.1,\n",
    "    B0=0.25,\n",
    "    f=lambda w, l, p, h0, k, xi: np.pi**-1.5 * np.exp(-w) * (1 - h0 * np.exp(-k * l**2 - xi * p**2)),\n",
    "    w=lambda v_rho, v_phi, v_x, psi: 0.5 * (v_rho**2 + v_phi**2 + v_x**2) - psi,\n",
    "    l=lambda rho, v_phi, A_phi: 2 * rho * (v_phi - A_phi),\n",
    "    p=lambda v_x, A_x: v_x - A_x,\n",
    "    A_phi=lambda rho, B0: 0.5 * rho * B0,\n",
    "    A_x=0.1,\n",
    "    psi=lambda rho: xr.apply_ufunc(input.interpolate_value, rho, \"Psi\", vectorize=True),\n",
    ")"
   ]
  },
  {
   "cell_type": "code",
   "execution_count": null,
   "metadata": {},
   "outputs": [],
   "source": [
    "class Distribution:\n",
    "    def __init__(self, formulae: FormulaChain[xr.DataArray], *derived_var_names: str, **var_vals: np.ndarray) -> None:\n",
    "        var_vals = {name: xr.DataArray(val, coords=[(name, val)]) for name, val in var_vals.items()}\n",
    "        self.data = xr.merge(formulae[name](**var_vals).rename(name) for name in derived_var_names)\n",
    "\n",
    "    def __getitem__(self, key: str) -> xr.DataArray:\n",
    "        return self.data[key]"
   ]
  },
  {
   "cell_type": "code",
   "execution_count": null,
   "metadata": {},
   "outputs": [],
   "source": [
    "dist = Distribution(\n",
    "    formulae_case_2,\n",
    "    \"f\",\n",
    "    rho=np.linspace(0, input[\"rho\"].max(), 51, endpoint=False),\n",
    "    v_rho=np.linspace(-3, 3, 101),\n",
    "    v_phi=np.linspace(-3, 3, 101),\n",
    "    v_x=np.linspace(-3, 3, 101),\n",
    ")"
   ]
  },
  {
   "cell_type": "code",
   "execution_count": null,
   "metadata": {},
   "outputs": [],
   "source": [
    "f_vx_vphi = dist[\"f\"].integrate(\"v_rho\").interp(rho=0.07)\n",
    "f_vx_vphi_normalized = f_vx_vphi / f_vx_vphi.integrate(\"v_x\")\n",
    "\n",
    "plt.close()\n",
    "fig, axs = plt.subplots(ncols=2)\n",
    "f_vx_vphi.plot(ax=axs[0])\n",
    "f_vx_vphi_normalized.plot(ax=axs[1])\n",
    "fig.tight_layout()\n",
    "plt.show()"
   ]
  },
  {
   "cell_type": "code",
   "execution_count": null,
   "metadata": {},
   "outputs": [],
   "source": []
  }
 ],
 "metadata": {
  "kernelspec": {
   "display_name": "Python 3",
   "language": "python",
   "name": "python3"
  },
  "language_info": {
   "codemirror_mode": {
    "name": "ipython",
    "version": 3
   },
   "file_extension": ".py",
   "mimetype": "text/x-python",
   "name": "python",
   "nbconvert_exporter": "python",
   "pygments_lexer": "ipython3",
   "version": "3.11.2"
  }
 },
 "nbformat": 4,
 "nbformat_minor": 2
}
