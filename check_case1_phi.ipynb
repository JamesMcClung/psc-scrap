{
 "cells": [
  {
   "cell_type": "markdown",
   "id": "7f1c6d26-d3f0-404f-9454-f65899732755",
   "metadata": {},
   "source": [
    "# Comparing E to grad(phi)"
   ]
  },
  {
   "cell_type": "code",
   "execution_count": 1,
   "id": "b6604a28-6fdd-462d-ac9f-7aa78d21b494",
   "metadata": {},
   "outputs": [],
   "source": [
    "%matplotlib inline\n",
    "import numpy as np\n",
    "import pandas as pd\n",
    "import matplotlib.pyplot as plt"
   ]
  },
  {
   "cell_type": "code",
   "execution_count": 4,
   "id": "4b41ee05-eb66-4908-b663-0f0cc0740505",
   "metadata": {},
   "outputs": [
    {
     "data": {
      "text/html": [
       "<div>\n",
       "<style scoped>\n",
       "    .dataframe tbody tr th:only-of-type {\n",
       "        vertical-align: middle;\n",
       "    }\n",
       "\n",
       "    .dataframe tbody tr th {\n",
       "        vertical-align: top;\n",
       "    }\n",
       "\n",
       "    .dataframe thead th {\n",
       "        text-align: right;\n",
       "    }\n",
       "</style>\n",
       "<table border=\"1\" class=\"dataframe\">\n",
       "  <thead>\n",
       "    <tr style=\"text-align: right;\">\n",
       "      <th></th>\n",
       "      <th>radius</th>\n",
       "      <th>number_density</th>\n",
       "      <th>azimuthal_velocity</th>\n",
       "      <th>temperature</th>\n",
       "      <th>radial_electric_field</th>\n",
       "      <th>potential</th>\n",
       "    </tr>\n",
       "  </thead>\n",
       "  <tbody>\n",
       "    <tr>\n",
       "      <th>0</th>\n",
       "      <td>0.000000</td>\n",
       "      <td>0.213281</td>\n",
       "      <td>0.000000e+00</td>\n",
       "      <td>0.000001</td>\n",
       "      <td>0.000000</td>\n",
       "      <td>7.574395e-07</td>\n",
       "    </tr>\n",
       "    <tr>\n",
       "      <th>1</th>\n",
       "      <td>0.000005</td>\n",
       "      <td>0.213299</td>\n",
       "      <td>-4.499460e-10</td>\n",
       "      <td>0.000001</td>\n",
       "      <td>0.000002</td>\n",
       "      <td>7.574341e-07</td>\n",
       "    </tr>\n",
       "    <tr>\n",
       "      <th>2</th>\n",
       "      <td>0.000010</td>\n",
       "      <td>0.213353</td>\n",
       "      <td>-3.598273e-09</td>\n",
       "      <td>0.000001</td>\n",
       "      <td>0.000004</td>\n",
       "      <td>7.574189e-07</td>\n",
       "    </tr>\n",
       "    <tr>\n",
       "      <th>3</th>\n",
       "      <td>0.000015</td>\n",
       "      <td>0.213444</td>\n",
       "      <td>-1.213689e-08</td>\n",
       "      <td>0.000001</td>\n",
       "      <td>0.000006</td>\n",
       "      <td>7.573938e-07</td>\n",
       "    </tr>\n",
       "    <tr>\n",
       "      <th>4</th>\n",
       "      <td>0.000020</td>\n",
       "      <td>0.213571</td>\n",
       "      <td>-2.874479e-08</td>\n",
       "      <td>0.000001</td>\n",
       "      <td>0.000008</td>\n",
       "      <td>7.573589e-07</td>\n",
       "    </tr>\n",
       "  </tbody>\n",
       "</table>\n",
       "</div>"
      ],
      "text/plain": [
       "     radius  number_density  azimuthal_velocity  temperature  \\\n",
       "0  0.000000        0.213281        0.000000e+00     0.000001   \n",
       "1  0.000005        0.213299       -4.499460e-10     0.000001   \n",
       "2  0.000010        0.213353       -3.598273e-09     0.000001   \n",
       "3  0.000015        0.213444       -1.213689e-08     0.000001   \n",
       "4  0.000020        0.213571       -2.874479e-08     0.000001   \n",
       "\n",
       "   radial_electric_field     potential  \n",
       "0               0.000000  7.574395e-07  \n",
       "1               0.000002  7.574341e-07  \n",
       "2               0.000004  7.574189e-07  \n",
       "3               0.000006  7.573938e-07  \n",
       "4               0.000008  7.573589e-07  "
      ]
     },
     "execution_count": 4,
     "metadata": {},
     "output_type": "execute_result"
    }
   ],
   "source": [
    "data = pd.read_csv(\"case1-input-phi.txt\", sep=\"\\s+\")\n",
    "data.columns = [\"radius\", \"number_density\", \"azimuthal_velocity\", \"temperature\", \"radial_electric_field\", \"potential\"]\n",
    "data.head()"
   ]
  },
  {
   "cell_type": "code",
   "execution_count": 12,
   "id": "f4ebd76e-0fc2-4802-a763-1872aeb8483c",
   "metadata": {},
   "outputs": [
    {
     "data": {
      "image/png": "[encoded data removed]",
      "text/plain": [
       "<Figure size 432x288 with 1 Axes>"
      ]
     },
     "metadata": {
      "needs_background": "light"
     },
     "output_type": "display_data"
    }
   ],
   "source": [
    "E_calc = -(data.potential.diff() / data.radius.diff()).fillna(0)\n",
    "plt.plot(data.radius, E_calc)\n",
    "plt.plot(data.radius, data.radial_electric_field)\n",
    "plt.legend([\"E calculated\", \"E given\"])\n",
    "plt.show()"
   ]
  },
  {
   "cell_type": "code",
   "execution_count": 23,
   "id": "d198d47c-e76b-479a-8582-fd5475911021",
   "metadata": {},
   "outputs": [
    {
     "name": "stdout",
     "output_type": "stream",
     "text": [
      "max absolute difference   =  8.947731999865026e-07 \n",
      "\tat 1\n",
      "max percent difference    =  1.0 \n",
      "\tat 2956\n",
      "mean absolute difference  =  5.538451820870271e-08\n"
     ]
    },
    {
     "data": {
      "image/png": "[encoded data removed]",
      "text/plain": [
       "<Figure size 432x288 with 1 Axes>"
      ]
     },
     "metadata": {
      "needs_background": "light"
     },
     "output_type": "display_data"
    },
    {
     "data": {
      "text/plain": [
       "0       0.000000e+00\n",
       "1       8.947732e-07\n",
       "2       8.834061e-07\n",
       "3       8.857627e-07\n",
       "4       8.837069e-07\n",
       "            ...     \n",
       "4396    5.280780e-11\n",
       "4397    5.307420e-11\n",
       "4398    5.334160e-11\n",
       "4399    5.361040e-11\n",
       "4400    5.388040e-11\n",
       "Length: 4401, dtype: float64"
      ]
     },
     "execution_count": 23,
     "metadata": {},
     "output_type": "execute_result"
    }
   ],
   "source": [
    "abs_diff = np.abs(E_calc - data.radial_electric_field)\n",
    "print(f\"max absolute difference   =  {np.max(abs_diff)} \\n\\tat {np.argmax(abs_diff)}\")\n",
    "print(f\"max percent difference    =  {np.max(abs_diff / E_calc)} \\n\\tat {np.argmax(abs_diff / E_calc)}\")\n",
    "print(f\"mean absolute difference  =  {np.mean(abs_diff)}\")\n",
    "plt.plot(abs_diff)\n",
    "plt.show()\n",
    "abs_diff"
   ]
  },
  {
   "cell_type": "code",
   "execution_count": null,
   "id": "5ce4dc7c-cf70-4479-9742-40c76f0d01c6",
   "metadata": {},
   "outputs": [],
   "source": []
  }
 ],
 "metadata": {
  "kernelspec": {
   "display_name": "Python 3",
   "language": "python",
   "name": "python3"
  },
  "language_info": {
   "codemirror_mode": {
    "name": "ipython",
    "version": 3
   },
   "file_extension": ".py",
   "mimetype": "text/x-python",
   "name": "python",
   "nbconvert_exporter": "python",
   "pygments_lexer": "ipython3",
   "version": "3.9.2"
  }
 },
 "nbformat": 4,
 "nbformat_minor": 5
}
