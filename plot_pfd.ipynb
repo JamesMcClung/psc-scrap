{
 "cells": [
  {
   "cell_type": "markdown",
   "id": "3cce320e-7c9e-4003-ba86-a61c5068fbc4",
   "metadata": {},
   "source": [
    "# Analysis of Output\n",
    "After running a trial, I move all output to its own directory, e.g. `build/src/smallB_n064`.\n",
    "\n",
    "The description of B is as follows:\n",
    "\n",
    "| Size | Value |\n",
    "| :-   | :-:   |\n",
    "| small| .1    |\n",
    "|med   | 1     |\n",
    "|big   | 10    |\n",
    "\n",
    "The number after `n` (064 above) is the number of grid cells per axis."
   ]
  },
  {
   "cell_type": "code",
   "execution_count": 29,
   "id": "4c0627c2-522f-4450-bf13-560535431611",
   "metadata": {},
   "outputs": [],
   "source": [
    "%matplotlib inline\n",
    "\n",
    "import matplotlib as mpl\n",
    "import matplotlib.pyplot as plt\n",
    "import numpy as np\n",
    "import viscid\n",
    "viscid.calculator.evaluator.enabled = True\n",
    "from viscid.plot import vpyplot as vlt\n",
    "\n",
    "import os\n",
    "import ipywidgets as widgets\n",
    "from IPython.display import display\n",
    "\n",
    "%config InlineBackend.figure_format = 'retina'"
   ]
  },
  {
   "cell_type": "code",
   "execution_count": 14,
   "id": "f4ab6099-803b-4124-a3e8-2989584bf453",
   "metadata": {},
   "outputs": [],
   "source": [
    "# where the data is\n",
    "trialpath=\"/Users/james/Code/cpp/PSC/psc/build/src\"\n",
    "# which data to use\n",
    "trialfile = \"\""
   ]
  },
  {
   "cell_type": "code",
   "execution_count": 49,
   "id": "aacf0c29-4d16-4c6b-b4dd-ad4c57995c5f",
   "metadata": {},
   "outputs": [
    {
     "data": {
      "application/vnd.jupyter.widget-view+json": {
       "model_id": "e3ee67ff27914ee0a5ea8156226f5b6a",
       "version_major": 2,
       "version_minor": 0
      },
      "text/plain": [
       "Dropdown(description='Trial file:', options=('smallB_n064',), value='smallB_n064')"
      ]
     },
     "metadata": {},
     "output_type": "display_data"
    }
   ],
   "source": [
    "def set_trial(file):\n",
    "    global trialfile\n",
    "    trialfile = file\n",
    "    return file\n",
    "\n",
    "all_files = os.listdir(trialpath)\n",
    "valid_trialfiles = [file for file in all_files if \"B_n\" in file]\n",
    "if \"pfd.xdmf\" in all_files:\n",
    "    valid_trialfiles = [\".\"] + valid_trialfiles\n",
    "\n",
    "w = widgets.Dropdown(\n",
    "    options=valid_trialfiles,\n",
    "    value=valid_trialfiles[0],\n",
    "    description='Trial file:',\n",
    "    disabled=False,\n",
    ")\n",
    "\n",
    "def on_change(change):\n",
    "    if change['type'] == 'change' and change['name'] == 'value':\n",
    "        global trialfile\n",
    "        trialfile = change['new']\n",
    "\n",
    "w.observe(on_change)\n",
    "\n",
    "display(w)"
   ]
  },
  {
   "cell_type": "markdown",
   "id": "a4d96c2c-0962-4a4a-ac64-d7a8af48b948",
   "metadata": {},
   "source": [
    "## Fields and Current\n",
    "`hx_fc` at time=1 is generally pretty cool"
   ]
  },
  {
   "cell_type": "code",
   "execution_count": 48,
   "id": "8b9d8636-ce62-4934-9d19-bbdd84f71a7a",
   "metadata": {},
   "outputs": [
    {
     "name": "stderr",
     "output_type": "stream",
     "text": [
      "WARNING: No files loaded for\n",
      "         '/Users/james/Code/cpp/PSC/psc/build/srcsmallB_n064/pfd.xdmf', is\n",
      "         the path correct?\n"
     ]
    },
    {
     "ename": "AttributeError",
     "evalue": "'NoneType' object has no attribute 'iter_fields'",
     "output_type": "error",
     "traceback": [
      "\u001b[0;31m---------------------------------------------------------------------------\u001b[0m",
      "\u001b[0;31mAttributeError\u001b[0m                            Traceback (most recent call last)",
      "\u001b[0;32m<ipython-input-48-39f548fb334c>\u001b[0m in \u001b[0;36m<module>\u001b[0;34m\u001b[0m\n\u001b[1;32m      1\u001b[0m \u001b[0mrun\u001b[0m \u001b[0;34m=\u001b[0m \u001b[0;34mf\"{trialpath}{trialfile}pfd.xdmf\"\u001b[0m\u001b[0;34m\u001b[0m\u001b[0;34m\u001b[0m\u001b[0m\n\u001b[1;32m      2\u001b[0m \u001b[0mvf\u001b[0m \u001b[0;34m=\u001b[0m \u001b[0mviscid\u001b[0m\u001b[0;34m.\u001b[0m\u001b[0mload_file\u001b[0m\u001b[0;34m(\u001b[0m\u001b[0mrun\u001b[0m\u001b[0;34m,\u001b[0m \u001b[0mforce_reload\u001b[0m\u001b[0;34m=\u001b[0m\u001b[0;32mTrue\u001b[0m\u001b[0;34m)\u001b[0m\u001b[0;34m\u001b[0m\u001b[0;34m\u001b[0m\u001b[0m\n\u001b[0;32m----> 3\u001b[0;31m \u001b[0mprint\u001b[0m\u001b[0;34m(\u001b[0m\u001b[0;34m[\u001b[0m\u001b[0mf\u001b[0m\u001b[0;34m.\u001b[0m\u001b[0mname\u001b[0m \u001b[0;32mfor\u001b[0m \u001b[0mf\u001b[0m \u001b[0;32min\u001b[0m \u001b[0mvf\u001b[0m\u001b[0;34m.\u001b[0m\u001b[0miter_fields\u001b[0m\u001b[0;34m(\u001b[0m\u001b[0;34m)\u001b[0m\u001b[0;34m]\u001b[0m\u001b[0;34m)\u001b[0m\u001b[0;34m\u001b[0m\u001b[0;34m\u001b[0m\u001b[0m\n\u001b[0m",
      "\u001b[0;31mAttributeError\u001b[0m: 'NoneType' object has no attribute 'iter_fields'"
     ]
    }
   ],
   "source": [
    "run = f\"{trialpath}/{trialfile}/pfd.xdmf\"\n",
    "vf = viscid.load_file(run, force_reload=True)\n",
    "print([f.name for f in vf.iter_fields()])"
   ]
  },
  {
   "cell_type": "code",
   "execution_count": null,
   "id": "cef0a276-f267-4330-af3e-ad9a489468dc",
   "metadata": {
    "tags": []
   },
   "outputs": [],
   "source": [
    "vf.activate_time(0)\n",
    "vlt.plot(vf[\"hx_fc\"]);"
   ]
  },
  {
   "cell_type": "markdown",
   "id": "e2b37eac-de64-4aaf-acbb-951ce85cc467",
   "metadata": {},
   "source": [
    "## Moments"
   ]
  },
  {
   "cell_type": "code",
   "execution_count": null,
   "id": "f0a2da15-ea30-4922-8686-7a6cbd62b51b",
   "metadata": {},
   "outputs": [],
   "source": [
    "run_moments = f\"{trialpath}/{trialfile}/pfd_moments.xdmf\"\n",
    "vf_moments = viscid.load_file(run_moments, force_reload=True)\n",
    "print([f.name for f in vf_moments.iter_fields()])"
   ]
  },
  {
   "cell_type": "code",
   "execution_count": null,
   "id": "b1c77e70-1a81-4a8f-8ddf-5deb4911a72f",
   "metadata": {},
   "outputs": [],
   "source": [
    "vf_moments.activate_time(250)\n",
    "vlt.plot(vf_moments[\"rho_i\"] + vf_moments[\"rho_e\"]);"
   ]
  },
  {
   "cell_type": "markdown",
   "id": "e1b0453d-1493-4b4b-ab28-5701b006733e",
   "metadata": {},
   "source": [
    "## Discrepancy in E"
   ]
  },
  {
   "cell_type": "code",
   "execution_count": null,
   "id": "91c02ae7-26aa-4cc2-a2b5-30fd33d18db8",
   "metadata": {},
   "outputs": [],
   "source": [
    "run_gauss = f\"{trialpath}/{trialfile}/gauss.xdmf\"\n",
    "vf_gauss = viscid.load_file(run_gauss, force_reload=True)\n",
    "print([f.name for f in vf_gauss.iter_fields()])"
   ]
  },
  {
   "cell_type": "code",
   "execution_count": null,
   "id": "680383e0-ab50-482b-9bcf-8676d5639a8a",
   "metadata": {},
   "outputs": [],
   "source": [
    "vf_gauss.activate_time(0)\n",
    "zoom = .005\n",
    "vlt.plot(vf_gauss[\"rho\"] - vf_gauss[\"dive\"]);\n",
    "plt.title(\"Difference between rho and div_E\")\n",
    "plt.xlim(-zoom, zoom)\n",
    "plt.ylim(-zoom, zoom);"
   ]
  },
  {
   "cell_type": "code",
   "execution_count": null,
   "id": "3de65bd8-cb1f-49da-b432-d1b0323b1361",
   "metadata": {},
   "outputs": [],
   "source": []
  },
  {
   "cell_type": "code",
   "execution_count": null,
   "id": "6d8b6bae-2e41-4d87-8877-f3bd9f7b43ae",
   "metadata": {},
   "outputs": [],
   "source": []
  },
  {
   "cell_type": "code",
   "execution_count": null,
   "id": "0f16f627-08f1-44c3-89ae-51880ace7ead",
   "metadata": {},
   "outputs": [],
   "source": []
  }
 ],
 "metadata": {
  "kernelspec": {
   "display_name": "Python 3",
   "language": "python",
   "name": "python3"
  },
  "language_info": {
   "codemirror_mode": {
    "name": "ipython",
    "version": 3
   },
   "file_extension": ".py",
   "mimetype": "text/x-python",
   "name": "python",
   "nbconvert_exporter": "python",
   "pygments_lexer": "ipython3",
   "version": "3.9.2"
  }
 },
 "nbformat": 4,
 "nbformat_minor": 5
}
