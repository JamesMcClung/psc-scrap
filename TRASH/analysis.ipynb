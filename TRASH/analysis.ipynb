{
 "cells": [
  {
   "cell_type": "markdown",
   "id": "3cce320e-7c9e-4003-ba86-a61c5068fbc4",
   "metadata": {},
   "source": [
    "# Analysis of Output\n",
    "After running a trial, I move all output to its own directory, e.g. `build/src/trial_smallB_n064`.\n",
    "\n",
    "- The suffix \"`_rev`\" indicates that the initial velocity was reversed (equivalent to negating the magnetic field). This is expected to reduce stability.\n",
    "- The suffix \"`_old`\" indicates that the initial velocity was miscalculated to be inward along y and outward along z\n",
    "- The suffix \"`_start`\" indicates that only t=0 is available\n",
    "- The suffix \"`_fromphi`\" indicates that the electric field was calculated from the given potential (otherwise, the trial simply used the given field)\n",
    "- The prefix \"`bug`\" indicates that the interpolation was bugged (mixed-up weights)\n",
    "- The number after `n` (064 above) is the number of grid cells per axis.\n",
    "- The number after `N` is the number of steps done (`psc_params.nmax`), e.g. 30k. Default is 5k.\n",
    "- B is the transverse magnetic field, given by the following:\n",
    "\n",
    "| Size | Value |\n",
    "| :-   | :-:   |\n",
    "| small| .1    |\n",
    "|med   | 1     |\n",
    "|big   | 10    |"
   ]
  },
  {
   "cell_type": "code",
   "execution_count": 2,
   "id": "4c0627c2-522f-4450-bf13-560535431611",
   "metadata": {},
   "outputs": [
    {
     "ename": "ModuleNotFoundError",
     "evalue": "No module named 'viscid'",
     "output_type": "error",
     "traceback": [
      "\u001b[0;31m---------------------------------------------------------------------------\u001b[0m",
      "\u001b[0;31mModuleNotFoundError\u001b[0m                       Traceback (most recent call last)",
      "\u001b[0;32m<ipython-input-2-fd4107fd9b19>\u001b[0m in \u001b[0;36m<module>\u001b[0;34m\u001b[0m\n\u001b[1;32m      4\u001b[0m \u001b[0;32mimport\u001b[0m \u001b[0mmatplotlib\u001b[0m\u001b[0;34m.\u001b[0m\u001b[0mpyplot\u001b[0m \u001b[0;32mas\u001b[0m \u001b[0mplt\u001b[0m\u001b[0;34m\u001b[0m\u001b[0;34m\u001b[0m\u001b[0m\n\u001b[1;32m      5\u001b[0m \u001b[0;32mimport\u001b[0m \u001b[0mnumpy\u001b[0m \u001b[0;32mas\u001b[0m \u001b[0mnp\u001b[0m\u001b[0;34m\u001b[0m\u001b[0;34m\u001b[0m\u001b[0m\n\u001b[0;32m----> 6\u001b[0;31m \u001b[0;32mimport\u001b[0m \u001b[0mviscid\u001b[0m\u001b[0;34m\u001b[0m\u001b[0;34m\u001b[0m\u001b[0m\n\u001b[0m\u001b[1;32m      7\u001b[0m \u001b[0mviscid\u001b[0m\u001b[0;34m.\u001b[0m\u001b[0mcalculator\u001b[0m\u001b[0;34m.\u001b[0m\u001b[0mevaluator\u001b[0m\u001b[0;34m.\u001b[0m\u001b[0menabled\u001b[0m \u001b[0;34m=\u001b[0m \u001b[0;32mTrue\u001b[0m\u001b[0;34m\u001b[0m\u001b[0;34m\u001b[0m\u001b[0m\n\u001b[1;32m      8\u001b[0m \u001b[0;32mfrom\u001b[0m \u001b[0mviscid\u001b[0m\u001b[0;34m.\u001b[0m\u001b[0mplot\u001b[0m \u001b[0;32mimport\u001b[0m \u001b[0mvpyplot\u001b[0m \u001b[0;32mas\u001b[0m \u001b[0mvlt\u001b[0m\u001b[0;34m\u001b[0m\u001b[0;34m\u001b[0m\u001b[0m\n",
      "\u001b[0;31mModuleNotFoundError\u001b[0m: No module named 'viscid'"
     ]
    }
   ],
   "source": [
    "%matplotlib inline\n",
    "\n",
    "import matplotlib as mpl\n",
    "import matplotlib.pyplot as plt\n",
    "import numpy as np\n",
    "import viscid\n",
    "viscid.calculator.evaluator.enabled = True\n",
    "from viscid.plot import vpyplot as vlt\n",
    "\n",
    "import os\n",
    "import ipywidgets as widgets\n",
    "from IPython.display import display\n",
    "\n",
    "%config InlineBackend.figure_format = 'retina'"
   ]
  },
  {
   "cell_type": "code",
   "execution_count": 4,
   "id": "f4ab6099-803b-4124-a3e8-2989584bf453",
   "metadata": {},
   "outputs": [
    {
     "ename": "ModuleNotFoundError",
     "evalue": "No module named 'ipywidgets'",
     "output_type": "error",
     "traceback": [
      "\u001b[0;31m---------------------------------------------------------------------------\u001b[0m",
      "\u001b[0;31mModuleNotFoundError\u001b[0m                       Traceback (most recent call last)",
      "\u001b[0;32m<ipython-input-4-2284cc4ce9d5>\u001b[0m in \u001b[0;36m<module>\u001b[0;34m\u001b[0m\n\u001b[1;32m      1\u001b[0m \u001b[0;32mimport\u001b[0m \u001b[0mos\u001b[0m\u001b[0;34m\u001b[0m\u001b[0;34m\u001b[0m\u001b[0m\n\u001b[0;32m----> 2\u001b[0;31m \u001b[0;32mimport\u001b[0m \u001b[0mipywidgets\u001b[0m \u001b[0;32mas\u001b[0m \u001b[0mwidgets\u001b[0m\u001b[0;34m\u001b[0m\u001b[0;34m\u001b[0m\u001b[0m\n\u001b[0m\u001b[1;32m      3\u001b[0m \u001b[0;32mfrom\u001b[0m \u001b[0mIPython\u001b[0m\u001b[0;34m.\u001b[0m\u001b[0mdisplay\u001b[0m \u001b[0;32mimport\u001b[0m \u001b[0mdisplay\u001b[0m\u001b[0;34m\u001b[0m\u001b[0;34m\u001b[0m\u001b[0m\n\u001b[1;32m      4\u001b[0m \u001b[0;34m\u001b[0m\u001b[0m\n\u001b[1;32m      5\u001b[0m \u001b[0;31m# where the data is\u001b[0m\u001b[0;34m\u001b[0m\u001b[0;34m\u001b[0m\u001b[0;34m\u001b[0m\u001b[0m\n",
      "\u001b[0;31mModuleNotFoundError\u001b[0m: No module named 'ipywidgets'"
     ]
    }
   ],
   "source": [
    "# where the data is\n",
    "trialpath=\"/Users/james/Code/cpp/PSC/psc/build/src\"\n",
    "\n",
    "# which data to use\n",
    "all_files = os.listdir(trialpath)\n",
    "valid_trialfiles = sorted([file for file in all_files if \"trial_\" in file])\n",
    "\n",
    "if \"pfd.xdmf\" in all_files:\n",
    "    valid_trialfiles = [\".\"] + valid_trialfiles\n",
    "\n",
    "trialfile = valid_trialfiles[0]\n",
    "\n",
    "w = widgets.Dropdown(\n",
    "    options=valid_trialfiles,\n",
    "    value=trialfile,\n",
    "    description='Trial file:',\n",
    "    disabled=False,\n",
    ")\n",
    "\n",
    "def on_change(change):\n",
    "    if change['type'] == 'change' and change['name'] == 'value':\n",
    "        global trialfile\n",
    "        trialfile = change['new']\n",
    "\n",
    "w.observe(on_change)\n",
    "\n",
    "display(w)"
   ]
  },
  {
   "cell_type": "markdown",
   "id": "a4d96c2c-0962-4a4a-ac64-d7a8af48b948",
   "metadata": {},
   "source": [
    "## Fields and Current\n",
    "- `hx_fc` at t=1 is pretty cool for small B\n",
    "- `jy_ec` and `jz_ec` precess at a rate proportional to B\n",
    "- magnetic field is always cool, albeit unenlightening"
   ]
  },
  {
   "cell_type": "code",
   "execution_count": 13,
   "id": "cef0a276-f267-4330-af3e-ad9a489468dc",
   "metadata": {
    "tags": []
   },
   "outputs": [
    {
     "name": "stdout",
     "output_type": "stream",
     "text": [
      "Trial: .\n",
      "['jx_ec', 'jy_ec', 'jz_ec', 'ex_ec', 'ey_ec', 'ez_ec', 'hx_fc', 'hy_fc', 'hz_fc']\n",
      "t = 0.0\n"
     ]
    },
    {
     "data": {
      "image/png": "[encoded data removed]",
      "text/plain": [
       "<Figure size 432x288 with 2 Axes>"
      ]
     },
     "metadata": {
      "image/png": {
       "height": 261,
       "width": 381
      },
      "needs_background": "light"
     },
     "output_type": "display_data"
    }
   ],
   "source": [
    "print(f\"Trial: {trialfile}\")\n",
    "run = f\"{trialpath}/{trialfile}/pfd.xdmf\"\n",
    "vf = viscid.load_file(run, force_reload=True)\n",
    "print([f.name for f in vf.iter_fields()])\n",
    "\n",
    "vf.activate_time(0)\n",
    "# vlt.plot((vf[\"jz_ec\"]**2 + vf[\"jy_ec\"]**2)**.5, cbarlabel=\"$j$\")\n",
    "# vlt.plot((vf[\"ey_ec\"]**2 + vf[\"ez_ec\"]**2)**.5, cbarlabel=\"$E$\");\n",
    "# vlt.plot((vf[\"hy_fc\"]**2 + vf[\"hz_fc\"]**2)**.5, cbarlabel = \"$H$\")\n",
    "# vlt.plot(vf[\"hx_fc\"])\n",
    "# vlt.plot(vf[\"jy_ec\"])\n",
    "vlt.plot(vf[\"ey_ec\"]);\n",
    "# plt.pcolormesh(vf[\"ey_ec\"].data[0,:,:]);\n",
    "\n",
    "\n",
    "print(f't = {vf[\"jx_ec\"]._info[\"time\"]}')"
   ]
  },
  {
   "cell_type": "markdown",
   "id": "e2b37eac-de64-4aaf-acbb-951ce85cc467",
   "metadata": {},
   "source": [
    "## Moments\n",
    "- charge density appears stable\n",
    "- momenta are extremely noisy even at t=0, perhaps due to temperature"
   ]
  },
  {
   "cell_type": "code",
   "execution_count": 8,
   "id": "b1c77e70-1a81-4a8f-8ddf-5deb4911a72f",
   "metadata": {},
   "outputs": [
    {
     "name": "stdout",
     "output_type": "stream",
     "text": [
      "Trial: .\n",
      "['rho_e', 'jx_e', 'jy_e', 'jz_e', 'px_e', 'py_e', 'pz_e', 'txx_e', 'tyy_e', 'tzz_e', 'txy_e', 'tyz_e', 'tzx_e', 'rho_i', 'jx_i', 'jy_i', 'jz_i', 'px_i', 'py_i', 'pz_i', 'txx_i', 'tyy_i', 'tzz_i', 'txy_i', 'tyz_i', 'tzx_i']\n"
     ]
    },
    {
     "name": "stderr",
     "output_type": "stream",
     "text": [
      "/usr/local/lib/python3.9/site-packages/viscid/plot/vpyplot.py:523: MatplotlibDeprecationWarning: You are modifying the state of a globally registered colormap. This has been deprecated since 3.3 and in 3.6, you will not be able to modify a registered colormap in-place. To remove this warning, you can make a copy of the colormap first. cmap = mpl.cm.get_cmap(\"viridis\").copy()\n",
      "  p.get_cmap().set_bad(masknan)\n",
      "/usr/local/lib/python3.9/site-packages/viscid/plot/vpyplot.py:527: MatplotlibDeprecationWarning: You are modifying the state of a globally registered colormap. This has been deprecated since 3.3 and in 3.6, you will not be able to modify a registered colormap in-place. To remove this warning, you can make a copy of the colormap first. cmap = mpl.cm.get_cmap(\"viridis\").copy()\n",
      "  p.get_cmap().set_bad('y')\n"
     ]
    },
    {
     "data": {
      "image/png": "[encoded data removed]",
      "text/plain": [
       "<Figure size 432x288 with 2 Axes>"
      ]
     },
     "metadata": {
      "image/png": {
       "height": 265,
       "width": 362
      },
      "needs_background": "light"
     },
     "output_type": "display_data"
    }
   ],
   "source": [
    "print(f\"Trial: {trialfile}\")\n",
    "run_moments = f\"{trialpath}/{trialfile}/pfd_moments.xdmf\"\n",
    "vf_moments = viscid.load_file(run_moments, force_reload=True)\n",
    "print([f.name for f in vf_moments.iter_fields()])\n",
    "\n",
    "vf_moments.activate_time(0)\n",
    "vlt.plot(vf_moments[\"rho_i\"] + vf_moments[\"rho_e\"], cbarlabel=\"$\\\\rho$\");\n",
    "# vlt.plot((vf_moments[\"py_e\"]**2 + vf_moments[\"pz_e\"]**2)**.5, cbarlabel=\"$p_e$\")\n",
    "# vlt.plot(vf_moments[\"tyy_e\"] + vf_moments[\"tzz_e\"], cbarlabel = \"$T$\")\n",
    "# vlt.plot(vf_moments[\"rho_e\"]);"
   ]
  },
  {
   "cell_type": "markdown",
   "id": "93dc8b9c-e6cb-4983-ba19-899bd1b33783",
   "metadata": {},
   "source": [
    "## Vector Fields\n",
    "Visualizes a vector field using streamlines.\n",
    "Change `source` and `label` to specify what field to plot.\n",
    "\n",
    "- note that time=0 does not exist for most plots\n",
    "- electric field looks good\n",
    "- electron momentum is noisy (due to temperature?)"
   ]
  },
  {
   "cell_type": "code",
   "execution_count": 4,
   "id": "d6dd8f4e-2137-4bc5-bcda-eb84d16f79fd",
   "metadata": {},
   "outputs": [
    {
     "name": "stdout",
     "output_type": "stream",
     "text": [
      "Trial: .\n"
     ]
    },
    {
     "ename": "NameError",
     "evalue": "name 'vf' is not defined",
     "output_type": "error",
     "traceback": [
      "\u001b[0;31m---------------------------------------------------------------------------\u001b[0m",
      "\u001b[0;31mNameError\u001b[0m                                 Traceback (most recent call last)",
      "\u001b[0;32m<ipython-input-4-ebc065f32a90>\u001b[0m in \u001b[0;36m<module>\u001b[0;34m\u001b[0m\n\u001b[1;32m      1\u001b[0m \u001b[0mprint\u001b[0m\u001b[0;34m(\u001b[0m\u001b[0;34mf\"Trial: {trialfile}\"\u001b[0m\u001b[0;34m)\u001b[0m\u001b[0;34m\u001b[0m\u001b[0;34m\u001b[0m\u001b[0m\n\u001b[1;32m      2\u001b[0m \u001b[0;31m# select which vector field to plot\u001b[0m\u001b[0;34m\u001b[0m\u001b[0;34m\u001b[0m\u001b[0;34m\u001b[0m\u001b[0m\n\u001b[0;32m----> 3\u001b[0;31m \u001b[0msource\u001b[0m \u001b[0;34m=\u001b[0m \u001b[0;34m[\u001b[0m\u001b[0mvf\u001b[0m\u001b[0;34m,\u001b[0m \u001b[0mvf_moments\u001b[0m\u001b[0;34m]\u001b[0m\u001b[0;34m[\u001b[0m\u001b[0;36m1\u001b[0m\u001b[0;34m]\u001b[0m\u001b[0;34m\u001b[0m\u001b[0;34m\u001b[0m\u001b[0m\n\u001b[0m\u001b[1;32m      4\u001b[0m \u001b[0mlabel\u001b[0m \u001b[0;34m=\u001b[0m \u001b[0;34m\"p?_e\"\u001b[0m \u001b[0;31m# replace x/y/z with ?, e.g. \"j?_ec\"\u001b[0m\u001b[0;34m\u001b[0m\u001b[0;34m\u001b[0m\u001b[0m\n\u001b[1;32m      5\u001b[0m \u001b[0msource\u001b[0m\u001b[0;34m.\u001b[0m\u001b[0mactivate_time\u001b[0m\u001b[0;34m(\u001b[0m\u001b[0;36m0\u001b[0m\u001b[0;34m)\u001b[0m\u001b[0;34m\u001b[0m\u001b[0;34m\u001b[0m\u001b[0m\n",
      "\u001b[0;31mNameError\u001b[0m: name 'vf' is not defined"
     ]
    }
   ],
   "source": [
    "print(f\"Trial: {trialfile}\")\n",
    "# select which vector field to plot\n",
    "source = [vf, vf_moments][1]\n",
    "label = \"p?_e\" # replace x/y/z with ?, e.g. \"j?_ec\"\n",
    "source.activate_time(0) \n",
    "\n",
    "# from https://viscid-hub.github.io/Viscid-docs/docs/master/tutorial/creating_fields.html\n",
    "half_box_size=.015\n",
    "n_grid = source[label.replace('?', 'y')].shape[1]\n",
    "l = np.linspace(-half_box_size, half_box_size, n_grid + 1)\n",
    "\n",
    "# probably not the best way to do this\n",
    "fld = viscid.empty([l, l, l], nr_comps=3, layout='interlaced',\n",
    "                   name=\"vec field\")\n",
    "\n",
    "# set vector components\n",
    "for c in ['x', 'y', 'z']:\n",
    "    fld[c] = source[label.replace('?', c)]\n",
    "\n",
    "plt.figure(figsize=(5,5))\n",
    "vlt.streamplot(fld['x=0j'])\n",
    "# plot2d_quiver(fld)\n",
    "plt.xlim(-half_box_size, half_box_size)\n",
    "plt.ylim(-half_box_size, half_box_size)\n",
    "vlt.auto_adjust_subplots()\n",
    "plt.show()"
   ]
  },
  {
   "cell_type": "code",
   "execution_count": null,
   "id": "e7280233-6708-48be-986b-079a8eb0fd0c",
   "metadata": {},
   "outputs": [],
   "source": []
  }
 ],
 "metadata": {
  "kernelspec": {
   "display_name": "Python 3",
   "language": "python",
   "name": "python3"
  },
  "language_info": {
   "codemirror_mode": {
    "name": "ipython",
    "version": 3
   },
   "file_extension": ".py",
   "mimetype": "text/x-python",
   "name": "python",
   "nbconvert_exporter": "python",
   "pygments_lexer": "ipython3",
   "version": "3.9.6"
  }
 },
 "nbformat": 4,
 "nbformat_minor": 5
}
