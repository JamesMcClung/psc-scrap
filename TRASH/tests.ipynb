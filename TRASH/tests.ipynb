{
 "cells": [
  {
   "cell_type": "markdown",
   "id": "bcbd106e-9295-43b4-9270-a563c82df8a3",
   "metadata": {},
   "source": [
    "# Test 1:\n",
    "Is my interpolation wrong?"
   ]
  },
  {
   "cell_type": "code",
   "execution_count": 1,
   "id": "874f0b05-6075-4f5c-8575-27fc4a6d1621",
   "metadata": {},
   "outputs": [
    {
     "data": {
      "text/html": [
       "<div>\n",
       "<style scoped>\n",
       "    .dataframe tbody tr th:only-of-type {\n",
       "        vertical-align: middle;\n",
       "    }\n",
       "\n",
       "    .dataframe tbody tr th {\n",
       "        vertical-align: top;\n",
       "    }\n",
       "\n",
       "    .dataframe thead th {\n",
       "        text-align: right;\n",
       "    }\n",
       "</style>\n",
       "<table border=\"1\" class=\"dataframe\">\n",
       "  <thead>\n",
       "    <tr style=\"text-align: right;\">\n",
       "      <th></th>\n",
       "      <th>radius</th>\n",
       "      <th>number_density</th>\n",
       "      <th>azimuthal_velocity</th>\n",
       "      <th>temperature</th>\n",
       "      <th>radial_electric_field</th>\n",
       "    </tr>\n",
       "  </thead>\n",
       "  <tbody>\n",
       "    <tr>\n",
       "      <th>0</th>\n",
       "      <td>0.000000</td>\n",
       "      <td>0.213281</td>\n",
       "      <td>0.000000e+00</td>\n",
       "      <td>0.000001</td>\n",
       "      <td>0.000000</td>\n",
       "    </tr>\n",
       "    <tr>\n",
       "      <th>1</th>\n",
       "      <td>0.000005</td>\n",
       "      <td>0.213299</td>\n",
       "      <td>-4.499460e-10</td>\n",
       "      <td>0.000001</td>\n",
       "      <td>0.000002</td>\n",
       "    </tr>\n",
       "    <tr>\n",
       "      <th>2</th>\n",
       "      <td>0.000010</td>\n",
       "      <td>0.213353</td>\n",
       "      <td>-3.598273e-09</td>\n",
       "      <td>0.000001</td>\n",
       "      <td>0.000004</td>\n",
       "    </tr>\n",
       "    <tr>\n",
       "      <th>3</th>\n",
       "      <td>0.000015</td>\n",
       "      <td>0.213444</td>\n",
       "      <td>-1.213689e-08</td>\n",
       "      <td>0.000001</td>\n",
       "      <td>0.000006</td>\n",
       "    </tr>\n",
       "    <tr>\n",
       "      <th>4</th>\n",
       "      <td>0.000020</td>\n",
       "      <td>0.213571</td>\n",
       "      <td>-2.874479e-08</td>\n",
       "      <td>0.000001</td>\n",
       "      <td>0.000008</td>\n",
       "    </tr>\n",
       "  </tbody>\n",
       "</table>\n",
       "</div>"
      ],
      "text/plain": [
       "     radius  number_density  azimuthal_velocity  temperature  \\\n",
       "0  0.000000        0.213281        0.000000e+00     0.000001   \n",
       "1  0.000005        0.213299       -4.499460e-10     0.000001   \n",
       "2  0.000010        0.213353       -3.598273e-09     0.000001   \n",
       "3  0.000015        0.213444       -1.213689e-08     0.000001   \n",
       "4  0.000020        0.213571       -2.874479e-08     0.000001   \n",
       "\n",
       "   radial_electric_field  \n",
       "0               0.000000  \n",
       "1               0.000002  \n",
       "2               0.000004  \n",
       "3               0.000006  \n",
       "4               0.000008  "
      ]
     },
     "execution_count": 1,
     "metadata": {},
     "output_type": "execute_result"
    }
   ],
   "source": [
    "%matplotlib inline\n",
    "import pandas as pd\n",
    "import matplotlib.pyplot as plt\n",
    "import numpy as np\n",
    "\n",
    "data = pd.read_csv(\"case1-input.txt\", sep=\"\\s+\")\n",
    "data.columns = [\"radius\", \"number_density\", \"azimuthal_velocity\", \"temperature\", \"radial_electric_field\"]\n",
    "data.head()"
   ]
  },
  {
   "cell_type": "code",
   "execution_count": 2,
   "id": "4e86641b-8a03-4baf-8abe-98ec2c3f948f",
   "metadata": {},
   "outputs": [
    {
     "data": {
      "text/plain": [
       "5e-06"
      ]
     },
     "execution_count": 2,
     "metadata": {},
     "output_type": "execute_result"
    }
   ],
   "source": [
    "r_step = data.radius[1] - data.radius[0]\n",
    "r_step"
   ]
  },
  {
   "cell_type": "code",
   "execution_count": 3,
   "id": "e7ec109b-772b-4672-aa34-3a39a463c3d9",
   "metadata": {},
   "outputs": [],
   "source": [
    "def get_row(r):\n",
    "    row = r // r_step\n",
    "    while (r < data.radius[row]):\n",
    "        row -= 1\n",
    "    return row"
   ]
  },
  {
   "cell_type": "code",
   "execution_count": 4,
   "id": "cc02df8a-3634-4970-bef9-6463b74cc4c0",
   "metadata": {},
   "outputs": [],
   "source": [
    "def get_interpolated(col, r):\n",
    "    row = get_row(r)\n",
    "\n",
    "    if (data.radius[row] == r):\n",
    "        return col[row]\n",
    "\n",
    "    w1 = r - data.radius[row]\n",
    "    w2 = data.radius[row + 1] - r\n",
    "\n",
    "    return (w1 * col[row] + w2 * col[row + 1]) / (w1 + w2);"
   ]
  },
  {
   "cell_type": "code",
   "execution_count": 5,
   "id": "a9419b71-8c7f-4a5c-b672-f83fd2330157",
   "metadata": {},
   "outputs": [
    {
     "data": {
      "text/plain": [
       "9.5e-06"
      ]
     },
     "execution_count": 5,
     "metadata": {},
     "output_type": "execute_result"
    }
   ],
   "source": [
    "# should be 5.5e-6\n",
    "get_interpolated(data.radius, 5.5e-6)"
   ]
  },
  {
   "cell_type": "markdown",
   "id": "2f3dfb96-e5ec-43f1-bac5-463d5f9c7cc5",
   "metadata": {},
   "source": [
    "## Conclusion:\n",
    "Yes, my weights were mixed up\n",
    "\n",
    "## Fix"
   ]
  },
  {
   "cell_type": "code",
   "execution_count": 6,
   "id": "380dde40-d88a-4402-857b-5a14e9a7f672",
   "metadata": {},
   "outputs": [],
   "source": [
    "def get_interpolated_fixed(col, r):\n",
    "    row = get_row(r)\n",
    "\n",
    "    if (data.radius[row] == r):\n",
    "        return col[row]\n",
    "\n",
    "    w1 = data.radius[row + 1] - r\n",
    "    w2 = r - data.radius[row]\n",
    "\n",
    "    return (w1 * col[row] + w2 * col[row + 1]) / (w1 + w2);"
   ]
  },
  {
   "cell_type": "code",
   "execution_count": 7,
   "id": "05cdd5a2-d0f4-4e75-8fc1-07614f783e70",
   "metadata": {},
   "outputs": [
    {
     "data": {
      "text/plain": [
       "5.5e-06"
      ]
     },
     "execution_count": 7,
     "metadata": {},
     "output_type": "execute_result"
    }
   ],
   "source": [
    "# should be 5.5e-6\n",
    "get_interpolated_fixed(data.radius, 5.5e-6)"
   ]
  },
  {
   "cell_type": "code",
   "execution_count": 32,
   "id": "be6cb645-d54d-4295-98ab-5d09dc01a45b",
   "metadata": {},
   "outputs": [
    {
     "data": {
      "image/png": "[encoded data removed]",
      "text/plain": [
       "<Figure size 432x288 with 1 Axes>"
      ]
     },
     "metadata": {
      "needs_background": "light"
     },
     "output_type": "display_data"
    }
   ],
   "source": [
    "start = 0\n",
    "span = 10\n",
    "subspan = 100\n",
    "col = data.azimuthal_velocity\n",
    "\n",
    "stop = start + span\n",
    "\n",
    "rs = np.linspace(data.radius[start], data.radius[stop], span*subspan) # test radii\n",
    "ys = np.zeros_like(rs)\n",
    "ys_old = np.zeros_like(rs)\n",
    "\n",
    "for i in range(span*subspan):\n",
    "    ys[i] = get_interpolated_fixed(col, rs[i])\n",
    "    ys_old[i] = get_interpolated(col, rs[i])\n",
    "\n",
    "# should be smooth plot\n",
    "plt.plot(rs, ys)\n",
    "plt.plot(rs, ys_old)\n",
    "plt.plot(rs[::subspan], col[start:stop], 'x')\n",
    "plt.legend([\"fixed\", \"old\", \"actual\"])\n",
    "plt.show()"
   ]
  },
  {
   "cell_type": "markdown",
   "id": "241a01a6-6037-4e4a-965a-45bafda6fdf4",
   "metadata": {},
   "source": [
    "# Test 2:\n",
    "Is my velocity wrong?"
   ]
  },
  {
   "cell_type": "code",
   "execution_count": null,
   "id": "170d7ada-dd82-48b8-a5f0-cc96c940566d",
   "metadata": {},
   "outputs": [],
   "source": []
  }
 ],
 "metadata": {
  "kernelspec": {
   "display_name": "Python 3",
   "language": "python",
   "name": "python3"
  },
  "language_info": {
   "codemirror_mode": {
    "name": "ipython",
    "version": 3
   },
   "file_extension": ".py",
   "mimetype": "text/x-python",
   "name": "python",
   "nbconvert_exporter": "python",
   "pygments_lexer": "ipython3",
   "version": "3.9.2"
  }
 },
 "nbformat": 4,
 "nbformat_minor": 5
}
