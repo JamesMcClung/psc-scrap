{
    "cells": [
        {
            "attachments": {},
            "cell_type": "markdown",
            "metadata": {},
            "source": [
                "# Initialization"
            ]
        },
        {
            "cell_type": "code",
            "execution_count": null,
            "metadata": {},
            "outputs": [],
            "source": [
                "import bgk"
            ]
        },
        {
            "cell_type": "code",
            "execution_count": null,
            "metadata": {},
            "outputs": [],
            "source": [
                "path = f\"/mnt/lustre/IAM851/jm1667/psc-runs/case1/trials/max/B02.00-n256/\"\n",
                "# path = f\"/mnt/lustre/IAM851/jm1667/psc-runs/tests/test14a/\"\n",
                "params_record = bgk.backend.ParamsRecord(path)\n",
                "\n",
                "B = params_record.B0\n",
                "res = params_record.res\n",
                "reversed = params_record.reversed\n",
                "input_path = params_record.path_input\n",
                "\n",
                "struct_radius = bgk.Input(input_path).get_radius_of_structure()\n",
                "\n",
                "wholeSlice = bgk.DataSlice(slice(None, None), \"\")\n",
                "centerSlice = bgk.DataSlice(slice(-struct_radius, struct_radius), \"Central \")\n",
                "\n",
                "loader = bgk.Loader(path, engine=\"pscadios2\", species_names=['e', 'i'])\n",
                "size = loader._get_xr_dataset(\"pfd\", 0).length[1]  # get the y-length (= z-length)\n",
                "\n",
                "print(f\"B={B}\")\n",
                "print(f\"res={res}\")\n",
                "print(f\"size={size}\")\n",
                "print(f\"struct size={2*struct_radius:.3f}\")\n",
                "print(f\"reversed={reversed}\")\n",
                "print(f\"input_path={input_path}\")"
            ]
        },
        {
            "cell_type": "code",
            "execution_count": null,
            "metadata": {},
            "outputs": [],
            "source": [
                "# fiddle with this until as many steps as possible are used (usually, they can all be used)\n",
                "nframes = 100\n",
                "\n",
                "videoMaker = bgk.VideoMaker(nframes, loader)\n",
                "\n",
                "completion_percent = 100 * loader.fields_max / loader.params_record.nmax\n",
                "video_coverage_percent = 100 * nframes * videoMaker.stepsPerFrame_fields / loader.fields_max\n",
                "steps_used_percent = 100 * nframes / (loader.fields_max / loader.params_record.interval_fields)\n",
                "print(f\"steps simulated:      {loader.fields_max} ({completion_percent:.1f}% complete)\")\n",
                "print(f\"nframes in animation: {nframes}\")\n",
                "print(f\"steps per frame:      {videoMaker.stepsPerFrame_fields}\")\n",
                "print(f\"max step in video:    {nframes * videoMaker.stepsPerFrame_fields} ({video_coverage_percent:.1f}% coverage, {steps_used_percent:.1f}% step used)\")\n",
                "if video_coverage_percent != 100:\n",
                "    print(f\"suggested nframes:    {loader.get_all_suggested_nframes(nframes)[0]}\")"
            ]
        },
        {
            "attachments": {},
            "cell_type": "markdown",
            "metadata": {},
            "source": [
                "# Animation\n",
                "from https://stackoverflow.com/questions/18743673/show-consecutive-images-arrays-with-imshow-as-repeating-animation-in-python\n",
                "and http://louistiao.me/posts/notebooks/embedding-matplotlib-animations-in-jupyter-notebooks/"
            ]
        },
        {
            "cell_type": "code",
            "execution_count": null,
            "metadata": {},
            "outputs": [],
            "source": [
                "from IPython.display import HTML\n",
                "import bgk.run_params as rp"
            ]
        },
        {
            "cell_type": "code",
            "execution_count": null,
            "metadata": {},
            "outputs": [],
            "source": [
                "# select parameter\n",
                "param = rp.ne\n",
                "print(f\"quantity: {param.title}\")"
            ]
        },
        {
            "cell_type": "code",
            "execution_count": null,
            "metadata": {},
            "outputs": [],
            "source": [
                "# load data\n",
                "videoMaker.loadData(param)"
            ]
        },
        {
            "cell_type": "code",
            "execution_count": null,
            "metadata": {},
            "outputs": [],
            "source": [
                "# slice data\n",
                "sliceId = 0\n",
                "whichSlice = [wholeSlice, centerSlice][sliceId]\n",
                "videoMaker.setSlice(whichSlice)\n",
                "\n",
                "print(f\"view: {whichSlice.viewAdjective}= {whichSlice.slice}\")"
            ]
        },
        {
            "cell_type": "code",
            "execution_count": null,
            "metadata": {},
            "outputs": [],
            "source": [
                "# view t=0\n",
                "%matplotlib widget\n",
                "fig, ax, im = videoMaker.viewFrame(0)"
            ]
        },
        {
            "cell_type": "code",
            "execution_count": null,
            "metadata": {},
            "outputs": [],
            "source": [
                "# make movie\n",
                "%matplotlib widget\n",
                "anim = videoMaker.viewMovie(fig, ax, im)\n",
                "HTML(anim.to_html5_video())"
            ]
        },
        {
            "attachments": {},
            "cell_type": "markdown",
            "metadata": {},
            "source": [
                "## Stability Plot"
            ]
        },
        {
            "cell_type": "code",
            "execution_count": null,
            "metadata": {},
            "outputs": [],
            "source": [
                "%matplotlib widget\n",
                "fig, ax = videoMaker.viewStability()"
            ]
        },
        {
            "cell_type": "code",
            "execution_count": null,
            "metadata": {},
            "outputs": [],
            "source": [
                "%matplotlib widget\n",
                "fig, ax = videoMaker.viewMeansAtOrigin()"
            ]
        },
        {
            "attachments": {},
            "cell_type": "markdown",
            "metadata": {},
            "source": [
                "# Image Sequences"
            ]
        },
        {
            "cell_type": "code",
            "execution_count": null,
            "metadata": {},
            "outputs": [],
            "source": [
                "import matplotlib.pyplot as plt\n",
                "import numpy as np"
            ]
        },
        {
            "cell_type": "code",
            "execution_count": null,
            "metadata": {},
            "outputs": [],
            "source": [
                "# Use images from first period of oscillation\n",
                "startFrame = 0\n",
                "endFrame = videoMaker.getIdxPeriod()\n",
                "titleText = \"over First Oscillation\"\n",
                "\n",
                "startFrame, endFrame"
            ]
        },
        {
            "cell_type": "code",
            "execution_count": null,
            "metadata": {},
            "outputs": [],
            "source": [
                "# Use images from the entire run\n",
                "startFrame = 0\n",
                "endFrame = len(videoMaker.slicedDatas) - 1\n",
                "titleText = \"over Run\"\n",
                "\n",
                "startFrame, endFrame"
            ]
        },
        {
            "cell_type": "code",
            "execution_count": null,
            "metadata": {},
            "outputs": [],
            "source": [
                "plt.close(\"all\")\n",
                "nStillFrames = 5\n",
                "\n",
                "fig, axs = plt.subplots(1, nStillFrames)\n",
                "stillFrames = [startFrame + round(i * (endFrame - startFrame) / (nStillFrames-1)) for i in range(nStillFrames)]\n",
                "\n",
                "for frame, ax in zip(stillFrames, axs):\n",
                "    videoMaker.viewFrame(frame, fig, ax, minimal=True)\n",
                "    ax.set_title(f\"$t={videoMaker.times[frame]:.2f}$\")\n",
                "    ax.tick_params(\"both\", which=\"both\", labelbottom=False, labelleft=frame==stillFrames[0])\n",
                "fig.suptitle(f\"Snapshots of {param.title} for $B_0={B}$ {titleText}\")\n",
                "fig.tight_layout(pad=0)\n",
                "fig.set_size_inches(9, 2.5)\n",
                "\n",
                "fig.subplots_adjust(right=0.9)\n",
                "cbar_ax = fig.add_axes([0.91, 0.2, 0.01, 0.56])\n",
                "fig.colorbar(axs[0].images[0], cax=cbar_ax)\n",
                "\n",
                "pass"
            ]
        },
        {
            "cell_type": "code",
            "execution_count": null,
            "metadata": {},
            "outputs": [],
            "source": [
                "fig.savefig(f\"figs/sequence_B{B}_n{res}_v{'-' if reversed else '+'}.png\", bbox_inches='tight', pad_inches = 0.01, dpi=300)"
            ]
        },
        {
            "attachments": {},
            "cell_type": "markdown",
            "metadata": {},
            "source": [
                "# Radial Dependence"
            ]
        },
        {
            "cell_type": "code",
            "execution_count": null,
            "metadata": {},
            "outputs": [],
            "source": [
                "import matplotlib\n",
                "import matplotlib.pyplot as plt\n",
                "import xarray as xr\n",
                "import numpy as np\n",
                "\n",
                "maxR = whichSlice.slice.stop\n",
                "rStep = size / 100\n",
                "\n",
                "def getMeanAndStd(data: xr.DataArray, r: float) -> tuple[float, float]:\n",
                "    rslice = data.where((r <= videoMaker.grid_rho) & (videoMaker.grid_rho < r + rStep))\n",
                "    return rslice.mean().item(), rslice.std().item()\n",
                "\n",
                "quantiles = np.linspace(0, 1, 11)\n",
                "def getPercentiles(data, r):\n",
                "    rslice = data.where((r <= videoMaker.grid_rho) & (videoMaker.grid_rho < r + rStep))\n",
                "    return tuple(np.nanquantile(rslice.values, p) for p in quantiles)\n",
                "\n",
                "rs = np.arange(0, maxR, rStep)\n",
                "def getMeansAndStds(data):\n",
                "    return tuple(zip(*[getMeanAndStd(data, r) for r in rs]))\n",
                "def getPercentileses(data):\n",
                "    return tuple(zip(*[getPercentiles(data, r) for r in rs]))"
            ]
        },
        {
            "attachments": {},
            "cell_type": "markdown",
            "metadata": {},
            "source": [
                "### Time-Averaged"
            ]
        },
        {
            "cell_type": "code",
            "execution_count": null,
            "metadata": {},
            "outputs": [],
            "source": [
                "allMeans = np.array([getMeansAndStds(videoMaker.slicedDatas[idx])[0] for idx in range(nframes)])"
            ]
        },
        {
            "cell_type": "code",
            "execution_count": null,
            "metadata": {},
            "outputs": [],
            "source": [
                "time_cutoff_idx = len(videoMaker.slicedDatas) - 1\n",
                "titleText = \"over Run\"\n",
                "# time_cutoff_idx = videoMaker.getIdxPeriod()\n",
                "# titleText = \"over First Oscillation\""
            ]
        },
        {
            "cell_type": "code",
            "execution_count": null,
            "metadata": {},
            "outputs": [],
            "source": [
                "# A handful of samples\n",
                "%matplotlib widget\n",
                "plt.close(\"all\")\n",
                "\n",
                "nsamples = 13\n",
                "indices = sorted(list({round(i) for i in np.linspace(0, time_cutoff_idx, nsamples)}))\n",
                "# indices = range(nsamples)\n",
                "\n",
                "n_label_indices = 5\n",
                "label_indices = [indices[round(i * (len(indices) - 1) / (n_label_indices - 1))] for i in range(n_label_indices)]\n",
                "\n",
                "fig, ax = plt.subplots()\n",
                "\n",
                "def plot_lines(indices, cmap, label_indices):\n",
                "    for i in indices:\n",
                "        label = f\"$t={videoMaker.times[i]:.2f}$\" if i in label_indices else \"_nolegend_\"\n",
                "        ax.plot(rs, allMeans[i], color=cmap(i / max(indices)), label=label)\n",
                "\n",
                "def get_cmap(name: str, min: float=0.0, max: float=1.0, reverse: bool=False):\n",
                "    return lambda x: matplotlib.colormaps[name](min + (1-x if reverse else x) * (max - min))\n",
                "\n",
                "cmap = get_cmap(\"rainbow\")\n",
                "\n",
                "plot_lines(indices, cmap, label_indices)\n",
                "\n",
                "ax.set_xlabel(\"$\\\\rho$\")\n",
                "ax.set_ylabel(param.title)\n",
                "ax.set_title(f\"Extremal Profiles of {param.title} for $B_0={B}$ over Run\")\n",
                "ax.legend()\n",
                "fig.tight_layout()"
            ]
        },
        {
            "cell_type": "code",
            "execution_count": null,
            "metadata": {},
            "outputs": [],
            "source": [
                "fig.savefig(\"figs-test/whatever.png\", bbox_inches=\"tight\", pad_inches=0.01, dpi=300)"
            ]
        },
        {
            "cell_type": "code",
            "execution_count": null,
            "metadata": {},
            "outputs": [],
            "source": [
                "# Min, mean, and max\n",
                "%matplotlib widget\n",
                "\n",
                "plt.plot(rs, allMeans.max(axis=0), color=\"lightcoral\", label=\"max mean\")\n",
                "plt.plot(rs, allMeans[0], color=\"blue\", linestyle=\":\", label=\"$t=0$\")\n",
                "plt.plot(rs, allMeans.mean(axis=0), color=\"red\", label=\"mean mean\")\n",
                "plt.plot(rs, allMeans.min(axis=0), color=\"lightcoral\", label=\"min mean\")\n",
                "\n",
                "plt.xlabel(\"$\\\\rho$\")\n",
                "plt.ylabel(param.title)\n",
                "plt.title(f\"Temporal & Radial Dependence of {param.title}, $B={B}$\")\n",
                "plt.legend()\n",
                "plt.tight_layout()\n",
                "plt.show()"
            ]
        },
        {
            "attachments": {},
            "cell_type": "markdown",
            "metadata": {},
            "source": [
                "### Mean & Error"
            ]
        },
        {
            "cell_type": "code",
            "execution_count": null,
            "metadata": {},
            "outputs": [],
            "source": [
                "dataIdx = -1\n",
                "means, stds = getMeansAndStds(videoMaker.slicedDatas[dataIdx])\n",
                "means0, stds0 = getMeansAndStds(videoMaker.slicedDatas[0])"
            ]
        },
        {
            "cell_type": "code",
            "execution_count": null,
            "metadata": {},
            "outputs": [],
            "source": [
                "%matplotlib widget\n",
                "\n",
                "plt.xlabel(\"Distance from Axis\")\n",
                "plt.ylabel(param.title)\n",
                "plt.title(\"Mean \" + param.title + \" vs Radius (t={:.2f})\".format(videoMaker.times[dataIdx]))\n",
                "\n",
                "plt.errorbar(rs, means0, yerr=stds0, errorevery=(1,2), color=\"blue\", ecolor=\"lightskyblue\", elinewidth=1, capsize=1.5, label=f\"t={0:.2f}\")\n",
                "plt.errorbar(rs, means, yerr=stds, errorevery=(0, 2), color=\"red\", ecolor=\"lightcoral\", elinewidth=1, capsize=1.5, label=f\"t={videoMaker.times[dataIdx]:.2f}\")\n",
                "plt.legend()\n",
                "plt.show()"
            ]
        },
        {
            "attachments": {},
            "cell_type": "markdown",
            "metadata": {},
            "source": [
                "### Percentiles"
            ]
        },
        {
            "cell_type": "code",
            "execution_count": null,
            "metadata": {},
            "outputs": [],
            "source": [
                "dataIdx = -1\n",
                "percentiles = getPercentileses(videoMaker.slicedDatas[dataIdx])"
            ]
        },
        {
            "cell_type": "code",
            "execution_count": null,
            "metadata": {},
            "outputs": [],
            "source": [
                "%matplotlib widget\n",
                "\n",
                "plt.xlabel(\"$\\\\rho$\")\n",
                "plt.ylabel(param.title)\n",
                "plt.title(f\"{len(quantiles)} Percentiles of \" + param.title + \" vs $\\\\rho$ (t={:.2f})\".format(videoMaker.times[dataIdx]))\n",
                "\n",
                "cmap = matplotlib.cm.get_cmap('rainbow')\n",
                "\n",
                "labels = [\"{:.0f}%\".format(q*100) for q in quantiles]\n",
                "colors = [cmap(2*abs(.5-q)) for q in quantiles]\n",
                "\n",
                "for perc, color, label in reversed(list(zip(percentiles, colors, labels))):\n",
                "    plt.plot(rs, perc, color=color, label=label)\n",
                "\n",
                "# plt.legend()\n",
                "plt.show()"
            ]
        }
    ],
    "metadata": {
        "kernelspec": {
            "display_name": "Python 3.9.6 (conda)",
            "language": "python",
            "name": "python3"
        },
        "language_info": {
            "codemirror_mode": {
                "name": "ipython",
                "version": 3
            },
            "file_extension": ".py",
            "mimetype": "text/x-python",
            "name": "python",
            "nbconvert_exporter": "python",
            "pygments_lexer": "ipython3",
            "version": "3.11.2"
        },
        "vscode": {
            "interpreter": {
                "hash": "59f2629c73b3a2e9dda9fcb3aaef44005eb025cd0f43af32343255decab64b9c"
            }
        }
    },
    "nbformat": 4,
    "nbformat_minor": 4
}
