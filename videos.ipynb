{
 "cells": [
  {
   "cell_type": "markdown",
   "metadata": {},
   "source": [
    "# Initialization"
   ]
  },
  {
   "cell_type": "code",
   "execution_count": null,
   "metadata": {},
   "outputs": [],
   "source": [
    "import matplotlib.pyplot as plt\n",
    "import xarray as xr\n",
    "\n",
    "plt.rcParams['figure.figsize'] = [16, 3]\n",
    "\n",
    "import sys\n",
    "sys.path.append('/mnt/lustre/IAM851/jm1667/psc/python')\n",
    "import psc\n",
    "\n",
    "import logging\n",
    "# logging.basicConfig(level=logging.DEBUG)\n",
    "\n",
    "%config InlineBackend.figure_format = 'retina'\n",
    "engine = \"pscadios2\"\n",
    "species_names = ['e', 'i']"
   ]
  },
  {
   "cell_type": "code",
   "execution_count": null,
   "metadata": {},
   "outputs": [],
   "source": [
    "case = \"case1-ion\"\n",
    "B = 10\n",
    "res = 512\n",
    "mods = [\"\", \"_v-1\", '_v0', '_dup', '_T0', '_v2'][0]\n",
    "\n",
    "path = f\"/mnt/lustre/IAM851/jm1667/psc-runs/{case}/trials/B{B}_n{res}{mods}/\"\n",
    "length = {1:(1., .03, .03), 10:(1., .02, .02), .1:(1., .18, .18)}[B]\n",
    "wholeSlice = slice(-length[1]/2, length[1]/2)\n",
    "centerSlice = {10:slice(-.001, .001), 1:slice(-.003, .003), 0.1:slice(-.03, .03)}[B]"
   ]
  },
  {
   "cell_type": "code",
   "execution_count": null,
   "metadata": {},
   "outputs": [],
   "source": [
    "# fiddle with this until as many steps as possible are used (usually, they can all be used)\n",
    "nframes = 124\n",
    "\n",
    "# read fields_every, moments_every from params file\n",
    "with open(path + \"params_record.txt\") as records:\n",
    "    fields_every = 200  # default value\n",
    "    moments_every = 200  # default value\n",
    "    for line in records:\n",
    "        if line.startswith(\"fields_every\"):\n",
    "            fields_every = int(line.split()[1])\n",
    "        elif line.startswith(\"moments_every\"):\n",
    "            moments_every = int(line.split()[1])\n",
    "\n",
    "assert(fields_every == moments_every)\n",
    "\n",
    "# check what the highest achieved timestep was\n",
    "import os\n",
    "bpfiles = [fname for fname in os.listdir(path) if fname[-2:] == \"bp\"]\n",
    "nsteps = max(int(fname.split(\".\")[1]) for fname in bpfiles)\n",
    "\n",
    "stepsPerFrame = nsteps // nframes\n",
    "stepsPerFrame -= stepsPerFrame % fields_every\n",
    "\n",
    "print(f\"nsteps in sim: {nsteps}\")\n",
    "print(f\"nframes in animation = {nframes}\")\n",
    "print(f\"steps per frame: {stepsPerFrame}\")\n",
    "print(f\"nsteps used: {stepsPerFrame * nframes}\")\n",
    "print(f\"directory to save in: {case}/B{B}_n{res}{mods}_{nframes}x{stepsPerFrame}\")"
   ]
  },
  {
   "cell_type": "markdown",
   "metadata": {},
   "source": [
    "# Animation\n",
    "from https://stackoverflow.com/questions/18743673/show-consecutive-images-arrays-with-imshow-as-repeating-animation-in-python\n",
    "and http://louistiao.me/posts/notebooks/embedding-matplotlib-animations-in-jupyter-notebooks/"
   ]
  },
  {
   "cell_type": "code",
   "execution_count": null,
   "metadata": {},
   "outputs": [],
   "source": [
    "import matplotlib.animation as animation\n",
    "from IPython.display import HTML\n",
    "import numpy as np\n",
    "\n",
    "def openFile(fileName, step):\n",
    "    return xr.open_dataset(path + f\"{fileName}.{str(step).rjust(9,'0')}.bp\", length=length, engine=engine, species_names=species_names)\n",
    "\n",
    "def prepData(data):\n",
    "    return data[0,:,:].transpose()\n",
    "\n",
    "class DataLoader:\n",
    "    def __init__(self):\n",
    "        self.rGrid = None\n",
    "        self.horGrid = None\n",
    "        self.verGrid = None\n",
    "    def getDataAndTime(self, frameIdx):\n",
    "        if frameIdx == 0 and param.skipFirst:\n",
    "            file = openFile(param.fileName, {'pfd':fields_every, 'pfd_moments':moments_every}[param.fileName])\n",
    "        else:\n",
    "            file = openFile(param.fileName, frameIdx*stepsPerFrame)\n",
    "\n",
    "        if isinstance(param.varName, list):\n",
    "            if param.combine == \"magnitude\":\n",
    "                rawData = sum(prepData(file.__getattr__(var)) ** 2 for var in param.varName) ** .5\n",
    "            elif param.combine == \"sum\":\n",
    "                rawData = sum(prepData(file.__getattr__(var)) for var in param.varName)\n",
    "            else:\n",
    "                rawHor = prepData(file.__getattr__(param.varName[0]))\n",
    "                rawVer = prepData(file.__getattr__(param.varName[1]))\n",
    "                if self.rGrid is None:\n",
    "                    self.rGrid = (rawHor.y **2 + rawHor.z**2)**.5\n",
    "                    self.horGrid = rawHor.y\n",
    "                    self.verGrid = rawHor.z\n",
    "                if param.combine == 'radial':\n",
    "                    rawData = (rawHor * self.horGrid + rawVer * self.verGrid) / self.rGrid\n",
    "                elif param.combine == 'azimuthal':\n",
    "                    rawData = (-rawHor * self.verGrid + rawVer * self.horGrid) / self.rGrid\n",
    "                rawData = rawData.fillna(0)\n",
    "        else:\n",
    "            rawData = prepData(file.__getattr__(param.varName))\n",
    "        return param.coef * rawData, file._attrs['time']\n",
    "    def loadData(self):\n",
    "        return [list(x) for x in zip(*[self.getDataAndTime(idx) for idx in range(nframes)])]\n",
    "\n",
    "def setTitle(ax, param, time):\n",
    "    ax.set_title(viewAdj + param.title + \" (t={:.3f})\".format(time))\n",
    "\n",
    "class ParamMetadata:\n",
    "    def __init__(self, title, vmin, vmax, colors, fileName, varName, coef=1, skipFirst=False, combine=\"magnitude\"):\n",
    "        self.title = title\n",
    "        self.vmin = vmin\n",
    "        self.vmax = vmax\n",
    "        self.colors = colors\n",
    "        self.fileName = fileName\n",
    "        self.varName = varName\n",
    "        self.coef = coef\n",
    "        self.skipFirst = skipFirst\n",
    "        self.combine = combine"
   ]
  },
  {
   "cell_type": "code",
   "execution_count": null,
   "metadata": {},
   "outputs": [],
   "source": [
    "paramId = 1\n",
    "param = [\n",
    "        ParamMetadata('Electron Density', 0, None, 'inferno', 'pfd_moments', 'rho_e', coef=-1),\n",
    "        ParamMetadata('Ion Density', 0, None, 'inferno', 'pfd_moments', 'rho_i'),\n",
    "        ParamMetadata('Y-ial E', -.0005, .0005, 'RdBu', 'pfd', 'ey_ec'),\n",
    "        ParamMetadata('Y-ial B', -3e-8, 3e-8, 'RdBu', 'pfd', 'hy_fc', skipFirst=True),\n",
    "        ParamMetadata('X-ial B', -B*1.2, B*1.2, 'RdBu', 'pfd', 'hx_fc'),\n",
    "        ParamMetadata('Y-ial J', -.0005, .0005, 'RdBu', 'pfd', 'jy_ec', skipFirst=True),\n",
    "        ParamMetadata('Radial J', None, None, 'RdBu', 'pfd', ['jy_ec', 'jz_ec'], skipFirst=True, combine='radial'),\n",
    "        ParamMetadata('Azimuthal J', None, None, 'RdBu', 'pfd', ['jy_ec', 'jz_ec'], skipFirst=True, combine='azimuthal'),\n",
    "        ParamMetadata('Electron Temperature', 0, None, 'inferno', 'pfd_moments', ['tyy_e', 'tzz_e'], skipFirst=False, combine='sum'),\n",
    "        ][paramId]\n",
    "print(f\"quantity: {param.title}\")"
   ]
  },
  {
   "cell_type": "code",
   "execution_count": null,
   "metadata": {},
   "outputs": [],
   "source": [
    "# load data\n",
    "datas, times = DataLoader().loadData()"
   ]
  },
  {
   "cell_type": "code",
   "execution_count": null,
   "metadata": {},
   "outputs": [],
   "source": [
    "# slice data\n",
    "activeSlice = [wholeSlice, centerSlice][1]\n",
    "\n",
    "slicedDatas = [data.sel(y=activeSlice, z=activeSlice) for data in datas]\n",
    "viewAdj = 'Central ' if activeSlice==centerSlice else ''\n",
    "print(f\"view: {viewAdj}= {activeSlice}\")\n",
    "\n",
    "vmax = param.vmax if not param.vmax is None else max(np.nanquantile(data.values, 1) for data in slicedDatas)\n",
    "vmin = param.vmin if not param.vmin is None else min(np.nanquantile(data.values, 0) for data in slicedDatas)\n",
    "if param.vmax is None and param.vmin is None:\n",
    "    vmax = max(vmax, -vmin)\n",
    "    vmin = -vmax\n",
    "\n",
    "rGrid = (slicedDatas[0].y **2 + slicedDatas[0].z**2)**.5"
   ]
  },
  {
   "cell_type": "code",
   "execution_count": null,
   "metadata": {},
   "outputs": [],
   "source": [
    "# view t=0\n",
    "%matplotlib ipympl\n",
    "fig, ax = plt.subplots()\n",
    "\n",
    "im = ax.imshow(slicedDatas[0], cmap=param.colors, vmin=vmin, vmax=vmax, origin='lower', extent=(activeSlice.start, activeSlice.stop, activeSlice.start, activeSlice.stop))\n",
    "ax.set_xlabel('y')\n",
    "ax.set_ylabel('z')\n",
    "setTitle(ax, param, times[0])\n",
    "plt.setp(ax.get_xticklabels(), rotation=30, horizontalalignment='right')\n",
    "fig.colorbar(im, ax=ax);"
   ]
  },
  {
   "cell_type": "code",
   "execution_count": null,
   "metadata": {},
   "outputs": [],
   "source": [
    "# make movie\n",
    "%matplotlib ipympl\n",
    "\n",
    "def updateIm(frameIdx):\n",
    "    im.set_array(slicedDatas[frameIdx])\n",
    "    setTitle(ax, param, times[frameIdx])\n",
    "    return [im]\n",
    "\n",
    "anim = animation.FuncAnimation(fig, updateIm, interval=30, frames=nframes, repeat=False, blit=True)\n",
    "HTML(anim.to_html5_video())"
   ]
  },
  {
   "cell_type": "markdown",
   "metadata": {},
   "source": [
    "## Stability Plot"
   ]
  },
  {
   "cell_type": "code",
   "execution_count": null,
   "metadata": {},
   "outputs": [],
   "source": [
    "%matplotlib ipympl\n",
    "def norm(x):\n",
    "    return xr.apply_ufunc(np.linalg.norm, x, input_core_dims=[['y', 'z']])\n",
    "\n",
    "normsOfDiffs = [norm(data - slicedDatas[0]) for data in slicedDatas]\n",
    "\n",
    "plt.xlabel(\"Time\")\n",
    "plt.ylabel(\"2-Norm of Difference\")\n",
    "plt.title(\"Stability of \" + viewAdj + param.title)\n",
    "\n",
    "plt.plot(times, normsOfDiffs)\n",
    "plt.show()"
   ]
  },
  {
   "cell_type": "markdown",
   "metadata": {},
   "source": [
    "# Radial Dependence"
   ]
  },
  {
   "cell_type": "code",
   "execution_count": null,
   "metadata": {},
   "outputs": [],
   "source": [
    "import matplotlib\n",
    "\n",
    "maxR = max(activeSlice.start, activeSlice.stop) * 2**.5\n",
    "rStep = length[1] / 100\n",
    "\n",
    "def getMeanAndStd(data, r):\n",
    "    rslice = data.where((r <= rGrid) & (rGrid < r + rStep))\n",
    "    return rslice.mean().item(), rslice.std().item()\n",
    "quantiles = np.linspace(0, 1, 11)\n",
    "def getPercentiles(data, r):\n",
    "    rslice = data.where((r <= rGrid) & (rGrid < r + rStep))\n",
    "    return tuple(np.nanquantile(rslice.values, p) for p in quantiles)\n",
    "\n",
    "rs = np.arange(0, maxR, rStep)\n",
    "def getMeansAndStds(data):\n",
    "    return tuple(zip(*[getMeanAndStd(data, r) for r in rs]))\n",
    "def getPercentileses(data):\n",
    "    return tuple(zip(*[getPercentiles(data, r) for r in rs]))"
   ]
  },
  {
   "cell_type": "code",
   "execution_count": null,
   "metadata": {},
   "outputs": [],
   "source": [
    "dataIdx = -1"
   ]
  },
  {
   "cell_type": "markdown",
   "metadata": {},
   "source": [
    "### Mean & Error"
   ]
  },
  {
   "cell_type": "code",
   "execution_count": null,
   "metadata": {},
   "outputs": [],
   "source": [
    "means, stds = getMeansAndStds(slicedDatas[dataIdx])\n",
    "means0, stds0 = getMeansAndStds(slicedDatas[0])"
   ]
  },
  {
   "cell_type": "code",
   "execution_count": null,
   "metadata": {},
   "outputs": [],
   "source": [
    "%matplotlib ipympl\n",
    "\n",
    "plt.xlabel(\"Distance from Axis\")\n",
    "plt.ylabel(param.title)\n",
    "plt.title(\"Mean \" + param.title + \" vs Radius (t={:.2f})\".format(times[dataIdx]))\n",
    "\n",
    "plt.errorbar(rs, means0, yerr=stds0, errorevery=(1,2), color=\"blue\", ecolor=\"lightskyblue\", elinewidth=1, capsize=1.5, label=\"t={:.2f}\".format(0))\n",
    "plt.errorbar(rs, means, yerr=stds, errorevery=(0, 2), color=\"red\", ecolor=\"lightcoral\", elinewidth=1, capsize=1.5, label=\"t={:.2f}\".format(times[dataIdx]))\n",
    "plt.legend()\n",
    "plt.show()"
   ]
  },
  {
   "cell_type": "markdown",
   "metadata": {},
   "source": [
    "### Percentiles"
   ]
  },
  {
   "cell_type": "code",
   "execution_count": null,
   "metadata": {},
   "outputs": [],
   "source": [
    "percentiles = getPercentileses(slicedDatas[dataIdx])"
   ]
  },
  {
   "cell_type": "code",
   "execution_count": null,
   "metadata": {},
   "outputs": [],
   "source": [
    "%matplotlib ipympl\n",
    "\n",
    "plt.xlabel(\"Distance from Axis, $\\\\rho$\")\n",
    "plt.ylabel(param.title)\n",
    "plt.title(f\"{len(quantiles)} Percentiles of \" + param.title + \" vs $\\\\rho$ (t={:.2f})\".format(times[dataIdx]))\n",
    "\n",
    "cmap = matplotlib.cm.get_cmap('rainbow')\n",
    "\n",
    "labels = [\"{:.0f}%\".format(q*100) for q in quantiles]\n",
    "colors = [cmap(2*abs(.5-q)) for q in quantiles]\n",
    "\n",
    "for perc, color, label in reversed(list(zip(percentiles, colors, labels))):\n",
    "    plt.plot(rs, perc, color=color, label=label)\n",
    "\n",
    "# plt.legend()\n",
    "plt.show()"
   ]
  },
  {
   "cell_type": "markdown",
   "metadata": {},
   "source": [
    "### Over a Period"
   ]
  },
  {
   "cell_type": "code",
   "execution_count": null,
   "metadata": {},
   "outputs": [],
   "source": []
  },
  {
   "cell_type": "code",
   "execution_count": null,
   "metadata": {},
   "outputs": [],
   "source": []
  },
  {
   "cell_type": "markdown",
   "metadata": {},
   "source": [
    "### Aggregate"
   ]
  },
  {
   "cell_type": "code",
   "execution_count": null,
   "metadata": {},
   "outputs": [],
   "source": [
    "allMeans = np.array([getMeansAndStds(slicedDatas[idx])[0] for idx in range(nframes)])"
   ]
  },
  {
   "cell_type": "code",
   "execution_count": null,
   "metadata": {},
   "outputs": [],
   "source": [
    "%matplotlib ipympl\n",
    "\n",
    "plt.xlabel(\"Distance from Axis\")\n",
    "plt.ylabel(param.title)\n",
    "plt.title(f\"Time-Averaged Radial Dependence of \" + param.title)\n",
    "\n",
    "plt.plot(rs, allMeans.min(axis=0), color=\"lightcoral\", label=\"min mean\")\n",
    "plt.plot(rs, allMeans.mean(axis=0), color=\"blue\", label=\"mean mean\")\n",
    "plt.plot(rs, allMeans.max(axis=0), color=\"lightcoral\", label=\"max mean\")\n",
    "plt.legend()\n",
    "plt.show()"
   ]
  },
  {
   "cell_type": "code",
   "execution_count": null,
   "metadata": {},
   "outputs": [],
   "source": []
  }
 ],
 "metadata": {
  "kernelspec": {
   "display_name": "Python 3",
   "language": "python",
   "name": "python3"
  },
  "language_info": {
   "codemirror_mode": {
    "name": "ipython",
    "version": 3
   },
   "file_extension": ".py",
   "mimetype": "text/x-python",
   "name": "python",
   "nbconvert_exporter": "python",
   "pygments_lexer": "ipython3",
   "version": "3.9.6"
  }
 },
 "nbformat": 4,
 "nbformat_minor": 4
}
