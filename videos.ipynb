{
 "cells": [
  {
   "cell_type": "markdown",
   "metadata": {},
   "source": [
    "# Initialization"
   ]
  },
  {
   "cell_type": "code",
   "execution_count": null,
   "metadata": {},
   "outputs": [],
   "source": [
    "import bgk"
   ]
  },
  {
   "cell_type": "code",
   "execution_count": null,
   "metadata": {},
   "outputs": [],
   "source": [
    "B = 10\n",
    "res = 512\n",
    "\n",
    "path = f\"/mnt/lustre/IAM851/jm1667/psc-runs/case1/double_prt/B1_n512_v+/\"\n",
    "length = {1:(1., .03, .03), 10:(1., .02, .02), .1:(1., .18, .18), 2:(1., .028, .028)}[B]\n",
    "wholeSlice = bgk.DataSlice(slice(-length[1]/2, length[1]/2), \"\")\n",
    "centerSlice = bgk.DataSlice({10:slice(-.001, .001), 1:slice(-.003, .003), 0.1:slice(-.03, .03), 2:slice(-.002, .002)}[B], \"Central \")\n",
    "\n",
    "loader = bgk.Loader(path, length, engine=\"pscadios2\", species_names=['e', 'i'])"
   ]
  },
  {
   "cell_type": "code",
   "execution_count": null,
   "metadata": {},
   "outputs": [],
   "source": [
    "# fiddle with this until as many steps as possible are used (usually, they can all be used)\n",
    "nframes = 100\n",
    "\n",
    "videoMaker = bgk.VideoMaker(nframes, loader)\n",
    "\n",
    "completion_percent = 100 * loader.fields_max / loader.nmax\n",
    "video_coverage_percent = 100 * nframes * videoMaker.fields_stepsPerFrame / loader.fields_max\n",
    "steps_used_percent = 100 * nframes / (loader.fields_max / loader.fields_every)\n",
    "print(f\"steps simulated:      {loader.fields_max} ({completion_percent:.1f}% complete)\")\n",
    "print(f\"nframes in animation: {nframes}\")\n",
    "print(f\"steps per frame:      {videoMaker.fields_stepsPerFrame}\")\n",
    "print(f\"max step in video:    {nframes * videoMaker.fields_stepsPerFrame} ({video_coverage_percent:.1f}% coverage, {steps_used_percent:.1f}% step used)\")\n",
    "if video_coverage_percent != 100:\n",
    "    print(f\"suggested nframes:    {loader.get_all_suggested_nframes(nframes)[0]}\")"
   ]
  },
  {
   "cell_type": "markdown",
   "metadata": {},
   "source": [
    "# Animation\n",
    "from https://stackoverflow.com/questions/18743673/show-consecutive-images-arrays-with-imshow-as-repeating-animation-in-python\n",
    "and http://louistiao.me/posts/notebooks/embedding-matplotlib-animations-in-jupyter-notebooks/"
   ]
  },
  {
   "cell_type": "code",
   "execution_count": null,
   "metadata": {},
   "outputs": [],
   "source": [
    "from IPython.display import HTML"
   ]
  },
  {
   "cell_type": "code",
   "execution_count": null,
   "metadata": {},
   "outputs": [],
   "source": [
    "paramId = -1\n",
    "param = [\n",
    "        bgk.ParamMetadata('Electron Density', 0, None, 'inferno', 'pfd_moments', 'rho_e', coef=-1),\n",
    "        bgk.ParamMetadata('Ion Density', 0, None, 'inferno', 'pfd_moments', 'rho_i'),\n",
    "        bgk.ParamMetadata('Y-ial E', -.0005, .0005, 'RdBu', 'pfd', 'ey_ec'),\n",
    "        bgk.ParamMetadata('Y-ial B', -3e-8, 3e-8, 'RdBu', 'pfd', 'hy_fc', skipFirst=True),\n",
    "        bgk.ParamMetadata('X-ial B', -B*1.2, B*1.2, 'RdBu', 'pfd', 'hx_fc'),\n",
    "        bgk.ParamMetadata('Y-ial J', -.0005, .0005, 'RdBu', 'pfd', 'jy_ec', skipFirst=True),\n",
    "        bgk.ParamMetadata('Radial J', None, None, 'RdBu', 'pfd', ['jy_ec', 'jz_ec'], skipFirst=True, combine='radial'),\n",
    "        bgk.ParamMetadata('Azimuthal J', None, None, 'RdBu', 'pfd', ['jy_ec', 'jz_ec'], skipFirst=True, combine='azimuthal'),\n",
    "        bgk.ParamMetadata('Electron Temperature', 0, None, 'inferno', 'pfd_moments', ['tyy_e', 'tzz_e'], combine='sum'),\n",
    "        bgk.ParamMetadata('Ion Temperature', 0, None, 'inferno', 'pfd_moments', ['tyy_i', 'tzz_i'], combine='sum'),\n",
    "        bgk.ParamMetadata('Div E', -1.5, 1.5, 'RdBu', 'gauss', 'dive'),\n",
    "        bgk.ParamMetadata('Charge Density', -1.5, 1.5, 'RdBu', 'gauss', 'rho'),\n",
    "        bgk.ParamMetadata('Gauss Error', -.005, .005, 'RdBu', 'gauss', ['dive', 'rho'], combine='difference'),\n",
    "        bgk.ParamMetadata('Radial Electron Velocity', -.0005, .0005, 'RdBu', 'pfd_moments', ['jy_e', 'jz_e'], combine='radial', coef=-1),\n",
    "        bgk.ParamMetadata('Azimuthal Electron Velocity', -.0005, .0005, 'RdBu', 'pfd_moments', ['jy_e', 'jz_e'], combine='azimuthal', coef=-1),\n",
    "        bgk.ParamMetadata('Azimuthal Ion Velocity', None, None, 'RdBu', 'pfd_moments', ['jy_i', 'jz_i'], combine='azimuthal'),\n",
    "        bgk.ParamMetadata('Radial E', None, None, 'RdBu', 'pfd', ['ey_ec', 'ez_ec'], combine='radial'),\n",
    "        ][paramId]\n",
    "print(f\"quantity: {param.title}\")"
   ]
  },
  {
   "cell_type": "code",
   "execution_count": null,
   "metadata": {},
   "outputs": [],
   "source": [
    "# load data\n",
    "videoMaker.loadData(param)"
   ]
  },
  {
   "cell_type": "code",
   "execution_count": null,
   "metadata": {},
   "outputs": [],
   "source": [
    "# slice data\n",
    "sliceId = 0\n",
    "whichSlice = [wholeSlice, centerSlice][sliceId]\n",
    "videoMaker.setSlice(whichSlice)\n",
    "\n",
    "print(f\"view: {whichSlice.viewAdjective}= {whichSlice.slice}\")"
   ]
  },
  {
   "cell_type": "code",
   "execution_count": null,
   "metadata": {},
   "outputs": [],
   "source": [
    "# view t=0\n",
    "%matplotlib widget\n",
    "fig, ax, im = videoMaker.viewFrame(0)"
   ]
  },
  {
   "cell_type": "code",
   "execution_count": null,
   "metadata": {},
   "outputs": [],
   "source": [
    "# make movie\n",
    "%matplotlib widget\n",
    "anim = videoMaker.viewMovie(fig, ax, im)\n",
    "HTML(anim.to_html5_video())"
   ]
  },
  {
   "cell_type": "markdown",
   "metadata": {},
   "source": [
    "## Stability Plot"
   ]
  },
  {
   "cell_type": "code",
   "execution_count": null,
   "metadata": {},
   "outputs": [],
   "source": [
    "%matplotlib widget\n",
    "videoMaker.viewStability()"
   ]
  },
  {
   "cell_type": "markdown",
   "metadata": {},
   "source": [
    "# Radial Dependence"
   ]
  },
  {
   "cell_type": "code",
   "execution_count": null,
   "metadata": {},
   "outputs": [],
   "source": [
    "import matplotlib\n",
    "\n",
    "maxR = max(activeSlice.start, activeSlice.stop) * 2**.5\n",
    "rStep = length[1] / 100\n",
    "\n",
    "def getMeanAndStd(data, r):\n",
    "    rslice = data.where((r <= rGrid) & (rGrid < r + rStep))\n",
    "    return rslice.mean().item(), rslice.std().item()\n",
    "quantiles = np.linspace(0, 1, 11)\n",
    "def getPercentiles(data, r):\n",
    "    rslice = data.where((r <= rGrid) & (rGrid < r + rStep))\n",
    "    return tuple(np.nanquantile(rslice.values, p) for p in quantiles)\n",
    "\n",
    "rs = np.arange(0, maxR, rStep)\n",
    "def getMeansAndStds(data):\n",
    "    return tuple(zip(*[getMeanAndStd(data, r) for r in rs]))\n",
    "def getPercentileses(data):\n",
    "    return tuple(zip(*[getPercentiles(data, r) for r in rs]))"
   ]
  },
  {
   "cell_type": "code",
   "execution_count": null,
   "metadata": {},
   "outputs": [],
   "source": [
    "dataIdx = -1"
   ]
  },
  {
   "cell_type": "markdown",
   "metadata": {},
   "source": [
    "### Mean & Error"
   ]
  },
  {
   "cell_type": "code",
   "execution_count": null,
   "metadata": {},
   "outputs": [],
   "source": [
    "means, stds = getMeansAndStds(slicedDatas[dataIdx])\n",
    "means0, stds0 = getMeansAndStds(slicedDatas[0])"
   ]
  },
  {
   "cell_type": "code",
   "execution_count": null,
   "metadata": {},
   "outputs": [],
   "source": [
    "%matplotlib widget\n",
    "\n",
    "plt.xlabel(\"Distance from Axis\")\n",
    "plt.ylabel(param.title)\n",
    "plt.title(\"Mean \" + param.title + \" vs Radius (t={:.2f})\".format(times[dataIdx]))\n",
    "\n",
    "plt.errorbar(rs, means0, yerr=stds0, errorevery=(1,2), color=\"blue\", ecolor=\"lightskyblue\", elinewidth=1, capsize=1.5, label=\"t={:.2f}\".format(0))\n",
    "plt.errorbar(rs, means, yerr=stds, errorevery=(0, 2), color=\"red\", ecolor=\"lightcoral\", elinewidth=1, capsize=1.5, label=\"t={:.2f}\".format(times[dataIdx]))\n",
    "plt.legend()\n",
    "plt.show()"
   ]
  },
  {
   "cell_type": "markdown",
   "metadata": {},
   "source": [
    "### Percentiles"
   ]
  },
  {
   "cell_type": "code",
   "execution_count": null,
   "metadata": {},
   "outputs": [],
   "source": [
    "percentiles = getPercentileses(slicedDatas[dataIdx])"
   ]
  },
  {
   "cell_type": "code",
   "execution_count": null,
   "metadata": {},
   "outputs": [],
   "source": [
    "%matplotlib widget\n",
    "\n",
    "plt.xlabel(\"Distance from Axis, $\\\\rho$\")\n",
    "plt.ylabel(param.title)\n",
    "plt.title(f\"{len(quantiles)} Percentiles of \" + param.title + \" vs $\\\\rho$ (t={:.2f})\".format(times[dataIdx]))\n",
    "\n",
    "cmap = matplotlib.cm.get_cmap('rainbow')\n",
    "\n",
    "labels = [\"{:.0f}%\".format(q*100) for q in quantiles]\n",
    "colors = [cmap(2*abs(.5-q)) for q in quantiles]\n",
    "\n",
    "for perc, color, label in reversed(list(zip(percentiles, colors, labels))):\n",
    "    plt.plot(rs, perc, color=color, label=label)\n",
    "\n",
    "# plt.legend()\n",
    "plt.show()"
   ]
  },
  {
   "cell_type": "markdown",
   "metadata": {},
   "source": [
    "### Over a Period"
   ]
  },
  {
   "cell_type": "code",
   "execution_count": null,
   "metadata": {},
   "outputs": [],
   "source": []
  },
  {
   "cell_type": "code",
   "execution_count": null,
   "metadata": {},
   "outputs": [],
   "source": []
  },
  {
   "cell_type": "markdown",
   "metadata": {},
   "source": [
    "### Aggregate"
   ]
  },
  {
   "cell_type": "code",
   "execution_count": null,
   "metadata": {},
   "outputs": [],
   "source": [
    "allMeans = np.array([getMeansAndStds(slicedDatas[idx])[0] for idx in range(nframes)])"
   ]
  },
  {
   "cell_type": "code",
   "execution_count": null,
   "metadata": {},
   "outputs": [],
   "source": [
    "%matplotlib widget\n",
    "\n",
    "plt.xlabel(\"Distance from Axis\")\n",
    "plt.ylabel(param.title)\n",
    "plt.title(f\"Time-Averaged Radial Dependence of \" + param.title)\n",
    "\n",
    "plt.plot(rs, allMeans.min(axis=0), color=\"lightcoral\", label=\"min mean\")\n",
    "plt.plot(rs, allMeans.mean(axis=0), color=\"blue\", label=\"mean mean\")\n",
    "plt.plot(rs, allMeans.max(axis=0), color=\"lightcoral\", label=\"max mean\")\n",
    "plt.legend()\n",
    "plt.show()"
   ]
  },
  {
   "cell_type": "code",
   "execution_count": null,
   "metadata": {},
   "outputs": [],
   "source": []
  }
 ],
 "metadata": {
  "kernelspec": {
   "display_name": "Python 3.9.6 (conda)",
   "language": "python",
   "name": "python3"
  },
  "language_info": {
   "codemirror_mode": {
    "name": "ipython",
    "version": 3
   },
   "file_extension": ".py",
   "mimetype": "text/x-python",
   "name": "python",
   "nbconvert_exporter": "python",
   "pygments_lexer": "ipython3",
   "version": "3.9.6"
  },
  "vscode": {
   "interpreter": {
    "hash": "59f2629c73b3a2e9dda9fcb3aaef44005eb025cd0f43af32343255decab64b9c"
   }
  }
 },
 "nbformat": 4,
 "nbformat_minor": 4
}
