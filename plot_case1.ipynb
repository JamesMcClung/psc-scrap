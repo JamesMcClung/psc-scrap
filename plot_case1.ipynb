{
 "cells": [
  {
   "cell_type": "code",
   "execution_count": 1,
   "id": "1de0458a",
   "metadata": {},
   "outputs": [],
   "source": [
    "import pandas as pd\n",
    "import matplotlib.pyplot as plt"
   ]
  },
  {
   "cell_type": "code",
   "execution_count": 2,
   "id": "a834be52",
   "metadata": {},
   "outputs": [],
   "source": [
    "# file = \"case1-input.txt\"\n",
    "B=1\n",
    "file = f\"/mnt/lustre/IAM851/jm1667/psc/inputs/bgk/case1-B={B}-input.txt\"\n",
    "data = pd.read_csv(file, sep=\"\\s+\")\n",
    "data.columns = [\"radius\", \"number_density\", \"azimuthal_velocity\", \"temperature\", \"radial_electric_field\", \"potential\"]"
   ]
  },
  {
   "cell_type": "code",
   "execution_count": 3,
   "id": "bec8f433",
   "metadata": {},
   "outputs": [
    {
     "data": {
      "text/html": [
       "<div>\n",
       "<style scoped>\n",
       "    .dataframe tbody tr th:only-of-type {\n",
       "        vertical-align: middle;\n",
       "    }\n",
       "\n",
       "    .dataframe tbody tr th {\n",
       "        vertical-align: top;\n",
       "    }\n",
       "\n",
       "    .dataframe thead th {\n",
       "        text-align: right;\n",
       "    }\n",
       "</style>\n",
       "<table border=\"1\" class=\"dataframe\">\n",
       "  <thead>\n",
       "    <tr style=\"text-align: right;\">\n",
       "      <th></th>\n",
       "      <th>radius</th>\n",
       "      <th>number_density</th>\n",
       "      <th>azimuthal_velocity</th>\n",
       "      <th>temperature</th>\n",
       "      <th>radial_electric_field</th>\n",
       "      <th>potential</th>\n",
       "    </tr>\n",
       "  </thead>\n",
       "  <tbody>\n",
       "    <tr>\n",
       "      <th>0</th>\n",
       "      <td>0.000000</td>\n",
       "      <td>0.213281</td>\n",
       "      <td>0.000000e+00</td>\n",
       "      <td>0.000001</td>\n",
       "      <td>0.000000</td>\n",
       "      <td>7.574395e-07</td>\n",
       "    </tr>\n",
       "    <tr>\n",
       "      <th>1</th>\n",
       "      <td>0.000005</td>\n",
       "      <td>0.213299</td>\n",
       "      <td>-4.499460e-10</td>\n",
       "      <td>0.000001</td>\n",
       "      <td>0.000002</td>\n",
       "      <td>7.574341e-07</td>\n",
       "    </tr>\n",
       "    <tr>\n",
       "      <th>2</th>\n",
       "      <td>0.000010</td>\n",
       "      <td>0.213353</td>\n",
       "      <td>-3.598273e-09</td>\n",
       "      <td>0.000001</td>\n",
       "      <td>0.000004</td>\n",
       "      <td>7.574189e-07</td>\n",
       "    </tr>\n",
       "    <tr>\n",
       "      <th>3</th>\n",
       "      <td>0.000015</td>\n",
       "      <td>0.213444</td>\n",
       "      <td>-1.213689e-08</td>\n",
       "      <td>0.000001</td>\n",
       "      <td>0.000006</td>\n",
       "      <td>7.573938e-07</td>\n",
       "    </tr>\n",
       "    <tr>\n",
       "      <th>4</th>\n",
       "      <td>0.000020</td>\n",
       "      <td>0.213571</td>\n",
       "      <td>-2.874479e-08</td>\n",
       "      <td>0.000001</td>\n",
       "      <td>0.000008</td>\n",
       "      <td>7.573589e-07</td>\n",
       "    </tr>\n",
       "  </tbody>\n",
       "</table>\n",
       "</div>"
      ],
      "text/plain": [
       "     radius  number_density  azimuthal_velocity  temperature  \\\n",
       "0  0.000000        0.213281        0.000000e+00     0.000001   \n",
       "1  0.000005        0.213299       -4.499460e-10     0.000001   \n",
       "2  0.000010        0.213353       -3.598273e-09     0.000001   \n",
       "3  0.000015        0.213444       -1.213689e-08     0.000001   \n",
       "4  0.000020        0.213571       -2.874479e-08     0.000001   \n",
       "\n",
       "   radial_electric_field     potential  \n",
       "0               0.000000  7.574395e-07  \n",
       "1               0.000002  7.574341e-07  \n",
       "2               0.000004  7.574189e-07  \n",
       "3               0.000006  7.573938e-07  \n",
       "4               0.000008  7.573589e-07  "
      ]
     },
     "execution_count": 3,
     "metadata": {},
     "output_type": "execute_result"
    }
   ],
   "source": [
    "data.head()"
   ]
  },
  {
   "cell_type": "markdown",
   "id": "0a262dcc",
   "metadata": {},
   "source": [
    "# Plots"
   ]
  },
  {
   "cell_type": "code",
   "execution_count": 7,
   "id": "684b9ead",
   "metadata": {},
   "outputs": [
    {
     "data": {
      "application/vnd.jupyter.widget-view+json": {
       "model_id": "f45e80c2282640ee91c2dea884f0ea75",
       "version_major": 2,
       "version_minor": 0
      },
      "text/plain": [
       "Canvas(toolbar=Toolbar(toolitems=[('Home', 'Reset original view', 'home', 'home'), ('Back', 'Back to previous …"
      ]
     },
     "metadata": {},
     "output_type": "display_data"
    }
   ],
   "source": [
    "%matplotlib ipympl\n",
    "plt.plot(data.radius, data.number_density)\n",
    "plt.xlabel(\"rho\")\n",
    "plt.ylabel(\"ne\")\n",
    "plt.title(f\"Electron Number Density, B={B}\")\n",
    "plt.show()"
   ]
  },
  {
   "cell_type": "code",
   "execution_count": 9,
   "id": "187f721c",
   "metadata": {},
   "outputs": [
    {
     "data": {
      "application/vnd.jupyter.widget-view+json": {
       "model_id": "69a27a9567f347bc965f240e777ab8d3",
       "version_major": 2,
       "version_minor": 0
      },
      "text/plain": [
       "Canvas(toolbar=Toolbar(toolitems=[('Home', 'Reset original view', 'home', 'home'), ('Back', 'Back to previous …"
      ]
     },
     "metadata": {},
     "output_type": "display_data"
    }
   ],
   "source": [
    "%matplotlib ipympl\n",
    "plt.plot(data.radius, data.azimuthal_velocity)\n",
    "plt.xlabel(\"rho\")\n",
    "plt.ylabel(\"vphi\")\n",
    "plt.title(f\"Electron Azimuthal Velocity, B={B}\")\n",
    "plt.show()"
   ]
  },
  {
   "cell_type": "code",
   "execution_count": 10,
   "id": "869e3d96",
   "metadata": {},
   "outputs": [
    {
     "data": {
      "application/vnd.jupyter.widget-view+json": {
       "model_id": "6e93674546ac4b3e95dc6e5c5a94983c",
       "version_major": 2,
       "version_minor": 0
      },
      "text/plain": [
       "Canvas(toolbar=Toolbar(toolitems=[('Home', 'Reset original view', 'home', 'home'), ('Back', 'Back to previous …"
      ]
     },
     "metadata": {},
     "output_type": "display_data"
    }
   ],
   "source": [
    "%matplotlib ipympl\n",
    "plt.plot(data.radius, data.temperature)\n",
    "plt.xlabel(\"rho\")\n",
    "plt.ylabel(\"Te\")\n",
    "plt.title(f\"Electron Temperature, B={B}\")\n",
    "plt.show()"
   ]
  },
  {
   "cell_type": "code",
   "execution_count": 12,
   "id": "611a9bd0",
   "metadata": {},
   "outputs": [
    {
     "data": {
      "application/vnd.jupyter.widget-view+json": {
       "model_id": "2c79b40b709444b2a5ab9f5fa4567d80",
       "version_major": 2,
       "version_minor": 0
      },
      "text/plain": [
       "Canvas(toolbar=Toolbar(toolitems=[('Home', 'Reset original view', 'home', 'home'), ('Back', 'Back to previous …"
      ]
     },
     "metadata": {},
     "output_type": "display_data"
    }
   ],
   "source": [
    "%matplotlib ipympl\n",
    "plt.plot(data.radius, data.radial_electric_field)\n",
    "plt.xlabel(\"rho\")\n",
    "plt.ylabel(\"Erho\")\n",
    "plt.title(f\"Radial Electric Field, B={B}\")\n",
    "plt.show()"
   ]
  },
  {
   "cell_type": "code",
   "execution_count": 14,
   "id": "1900c689-62fc-4c3a-abdd-8a14daf3e0ac",
   "metadata": {},
   "outputs": [
    {
     "data": {
      "application/vnd.jupyter.widget-view+json": {
       "model_id": "353c75e703bc4780bbaa36eada1e336f",
       "version_major": 2,
       "version_minor": 0
      },
      "text/plain": [
       "Canvas(toolbar=Toolbar(toolitems=[('Home', 'Reset original view', 'home', 'home'), ('Back', 'Back to previous …"
      ]
     },
     "metadata": {},
     "output_type": "display_data"
    }
   ],
   "source": [
    "%matplotlib ipympl\n",
    "plt.plot(data.radius, data.potential)\n",
    "plt.xlabel(\"rho\")\n",
    "plt.ylabel(\"psi\")\n",
    "plt.title(f\"Electric Potential, B={B}\")\n",
    "plt.show()"
   ]
  },
  {
   "cell_type": "markdown",
   "id": "b592521d-6447-42ae-8a01-28572b63eed5",
   "metadata": {},
   "source": [
    "# Derived Quantities"
   ]
  },
  {
   "cell_type": "code",
   "execution_count": null,
   "id": "34dd6160-1951-40ef-9b6e-d54cc33cfc16",
   "metadata": {},
   "outputs": [],
   "source": [
    "me = 1\n",
    "qe = -1"
   ]
  },
  {
   "cell_type": "markdown",
   "id": "5120da12-0539-4687-b537-4796288578b4",
   "metadata": {},
   "source": [
    "## Velocities"
   ]
  },
  {
   "cell_type": "code",
   "execution_count": 215,
   "id": "b4394054-9da0-4a48-8eac-79292cebfba5",
   "metadata": {},
   "outputs": [
    {
     "data": {
      "application/vnd.jupyter.widget-view+json": {
       "model_id": "04828d77aec745bb9eb66dcfa1006b44",
       "version_major": 2,
       "version_minor": 0
      },
      "text/plain": [
       "Canvas(toolbar=Toolbar(toolitems=[('Home', 'Reset original view', 'home', 'home'), ('Back', 'Back to previous …"
      ]
     },
     "metadata": {},
     "output_type": "display_data"
    }
   ],
   "source": [
    "%matplotlib ipympl\n",
    "\n",
    "ExB_drift = -data.radial_electric_field / B\n",
    "vT = (data.temperature / me)**.5\n",
    "\n",
    "plt.plot(data.radius, 0 * data.radius, linewidth=.5, color='gray')\n",
    "plt.plot(data.radius, ExB_drift, label='ExB drift')\n",
    "plt.plot(data.radius, data.azimuthal_velocity, label='v0')\n",
    "# plt.plot(data.radius, -vT, label='vT')\n",
    "plt.plot(data.radius, -vT / 2**.5, label='azimuthal vT')\n",
    "plt.title(f\"Azimuthal velocities, B={B}\")\n",
    "plt.xlabel(\"radius\")\n",
    "plt.ylabel(\"velocity\")\n",
    "plt.legend()\n",
    "\n",
    "lim=.02\n",
    "plt.xlim(0, .008)\n",
    "# plt.ylim(-lim/8, lim/8)\n",
    "plt.show()"
   ]
  },
  {
   "cell_type": "markdown",
   "id": "19dc9237-1853-41bd-ab2c-b97872bfd777",
   "metadata": {},
   "source": [
    "## Diameters"
   ]
  },
  {
   "cell_type": "code",
   "execution_count": 220,
   "id": "68263cdf-748e-488a-8bc0-73d7b36d0959",
   "metadata": {},
   "outputs": [
    {
     "data": {
      "application/vnd.jupyter.widget-view+json": {
       "model_id": "43517d03dd79488f93bc8aca6ad9c063",
       "version_major": 2,
       "version_minor": 0
      },
      "text/plain": [
       "Canvas(toolbar=Toolbar(toolitems=[('Home', 'Reset original view', 'home', 'home'), ('Back', 'Back to previous …"
      ]
     },
     "metadata": {},
     "output_type": "display_data"
    }
   ],
   "source": [
    "%matplotlib ipympl\n",
    "\n",
    "gyroradius = abs(me * data.azimuthal_velocity / B / qe)\n",
    "thermal_gyroradius = abs(kB * me * vT / B / qe)\n",
    "\n",
    "plt.plot(data.radius, 0 * data.radius, linewidth=.5, color='gray')\n",
    "plt.plot(data.radius, data.radius, linestyle='--', color='gray', linewidth=.5, label='radial distance')\n",
    "plt.plot(data.radius, 2*gyroradius, label='gyrodiameter')\n",
    "plt.plot(data.radius, 2*thermal_gyroradius, label='thermal gyrodiameter')\n",
    "plt.title(f\"B = {B}; gyrofrequency = {qe * B / me}\")\n",
    "plt.xlabel(\"radial distance\")\n",
    "plt.ylabel(\"radius\")\n",
    "plt.legend()\n",
    "\n",
    "lim=.1\n",
    "plt.xlim(0, lim)\n",
    "plt.ylim(-lim/100, lim/4)\n",
    "plt.show()"
   ]
  },
  {
   "cell_type": "code",
   "execution_count": null,
   "id": "c6ec4e52-fe0b-40ba-be8c-5204e4eb2fea",
   "metadata": {},
   "outputs": [],
   "source": []
  }
 ],
 "metadata": {
  "kernelspec": {
   "display_name": "Python 3",
   "language": "python",
   "name": "python3"
  },
  "language_info": {
   "codemirror_mode": {
    "name": "ipython",
    "version": 3
   },
   "file_extension": ".py",
   "mimetype": "text/x-python",
   "name": "python",
   "nbconvert_exporter": "python",
   "pygments_lexer": "ipython3",
   "version": "3.9.6"
  }
 },
 "nbformat": 4,
 "nbformat_minor": 5
}
