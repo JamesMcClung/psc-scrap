{
 "cells": [
  {
   "cell_type": "code",
   "execution_count": null,
   "id": "1de0458a",
   "metadata": {},
   "outputs": [],
   "source": [
    "import pandas as pd\n",
    "import matplotlib.pyplot as plt"
   ]
  },
  {
   "cell_type": "code",
   "execution_count": null,
   "id": "a834be52",
   "metadata": {},
   "outputs": [],
   "source": [
    "# file = \"case1-input.txt\"\n",
    "B=1\n",
    "file = f\"/mnt/lustre/IAM851/jm1667/psc/inputs/bgk/case1-B={B}-input.txt\"\n",
    "data = pd.read_csv(file, sep=\"\\s+\")\n",
    "data.columns = [\"radius\", \"number_density\", \"azimuthal_velocity\", \"temperature\", \"radial_electric_field\", \"potential\"]"
   ]
  },
  {
   "cell_type": "code",
   "execution_count": null,
   "id": "bec8f433",
   "metadata": {},
   "outputs": [],
   "source": [
    "data.head()"
   ]
  },
  {
   "cell_type": "code",
   "execution_count": null,
   "id": "e1c60f37",
   "metadata": {},
   "outputs": [],
   "source": [
    "data= data[data.radius <= .02]"
   ]
  },
  {
   "cell_type": "code",
   "execution_count": null,
   "id": "7af7e32b",
   "metadata": {},
   "outputs": [],
   "source": [
    "def save_fig(name: str):\n",
    "    plt.savefig(f\"figs-setup/{name}-B{B:05.2f}.png\", bbox_inches=\"tight\", pad_inches=0.01, dpi=300)"
   ]
  },
  {
   "attachments": {},
   "cell_type": "markdown",
   "id": "0a262dcc",
   "metadata": {},
   "source": [
    "# Plots"
   ]
  },
  {
   "cell_type": "code",
   "execution_count": null,
   "id": "684b9ead",
   "metadata": {},
   "outputs": [],
   "source": [
    "%matplotlib widget\n",
    "plt.close(\"all\")\n",
    "plt.plot(data.radius, data.number_density)\n",
    "plt.xlabel(\"$\\\\rho$\")\n",
    "plt.ylabel(\"$n_e$\")\n",
    "plt.title(f\"Electron Density Profile, $B_0={B}$\")\n",
    "plt.show()"
   ]
  },
  {
   "cell_type": "code",
   "execution_count": null,
   "id": "835e7565",
   "metadata": {},
   "outputs": [],
   "source": [
    "save_fig(\"ne\")"
   ]
  },
  {
   "cell_type": "code",
   "execution_count": null,
   "id": "187f721c",
   "metadata": {},
   "outputs": [],
   "source": [
    "%matplotlib widget\n",
    "plt.close(\"all\")\n",
    "plt.plot(data.radius, data.azimuthal_velocity)\n",
    "plt.xlabel(\"$\\\\rho$\")\n",
    "plt.ylabel(\"$v_\\\\phi$\")\n",
    "plt.title(f\"Mean Azimuthal Electron Velocity Profile, $B_0={B}$\")\n",
    "plt.show()"
   ]
  },
  {
   "cell_type": "code",
   "execution_count": null,
   "id": "6e5ce92a",
   "metadata": {},
   "outputs": [],
   "source": [
    "save_fig(\"vphi\")"
   ]
  },
  {
   "cell_type": "code",
   "execution_count": null,
   "id": "869e3d96",
   "metadata": {},
   "outputs": [],
   "source": [
    "%matplotlib widget\n",
    "plt.close(\"all\")\n",
    "plt.plot(data.radius, data.temperature)\n",
    "plt.xlabel(\"$\\\\rho$\")\n",
    "plt.ylabel(\"$T_e$\")\n",
    "plt.title(f\"Electron Temperature Profile, $B_0={B}$\")\n",
    "plt.show()"
   ]
  },
  {
   "cell_type": "code",
   "execution_count": null,
   "id": "0ffe198f",
   "metadata": {},
   "outputs": [],
   "source": [
    "save_fig(\"te\")"
   ]
  },
  {
   "cell_type": "code",
   "execution_count": null,
   "id": "611a9bd0",
   "metadata": {},
   "outputs": [],
   "source": [
    "%matplotlib widget\n",
    "plt.close(\"all\")\n",
    "plt.plot(data.radius, data.radial_electric_field)\n",
    "plt.xlabel(\"$\\\\rho$\")\n",
    "plt.ylabel(\"$E_\\\\rho$\")\n",
    "plt.title(f\"Radial Electric Field Profile, $B_0={B}$\")\n",
    "plt.show()"
   ]
  },
  {
   "cell_type": "code",
   "execution_count": null,
   "id": "b234af89",
   "metadata": {},
   "outputs": [],
   "source": [
    "save_fig(\"erho\")"
   ]
  },
  {
   "cell_type": "code",
   "execution_count": null,
   "id": "1900c689-62fc-4c3a-abdd-8a14daf3e0ac",
   "metadata": {},
   "outputs": [],
   "source": [
    "%matplotlib widget\n",
    "plt.close(\"all\")\n",
    "plt.plot(data.radius, data.potential)\n",
    "plt.xlabel(\"$\\\\rho$\")\n",
    "plt.ylabel(\"$\\\\psi$\")\n",
    "plt.title(f\"Electric Potential Profile, $B_0={B}$\")\n",
    "plt.show()"
   ]
  },
  {
   "cell_type": "code",
   "execution_count": null,
   "id": "cf3f0168",
   "metadata": {},
   "outputs": [],
   "source": [
    "save_fig(\"psi\")"
   ]
  },
  {
   "attachments": {},
   "cell_type": "markdown",
   "id": "b592521d-6447-42ae-8a01-28572b63eed5",
   "metadata": {},
   "source": [
    "# Derived Quantities"
   ]
  },
  {
   "cell_type": "code",
   "execution_count": null,
   "id": "537b262b",
   "metadata": {},
   "outputs": [],
   "source": [
    "import numpy as np"
   ]
  },
  {
   "cell_type": "code",
   "execution_count": null,
   "id": "9b09ae21",
   "metadata": {},
   "outputs": [],
   "source": [
    "k = .4\n",
    "h = .9\n",
    "beta = 1000\n",
    "rho = data.radius * 1000\n",
    "gamma = np.sqrt(1 + 2*k*rho**2)\n",
    "alpha = 1 - h/gamma * np.exp(-1/4 * k * B**2 * rho**4 /gamma**2)\n",
    "eta = k*B*rho**3 / gamma**2\n",
    "mu = (1-1/alpha) * eta\n",
    "# sigma2 = eta**2 * (1-1/alpha**2) + 1/gamma**2 * (1 - 1/alpha) + 1/alpha\n",
    "\n",
    "real_sigma2 = 1/alpha - mu**2 + (1-1/alpha) * (1/gamma**2 + eta**2)\n",
    "T2 = (real_sigma2 + 2)/3 / beta**2\n",
    "# T = (sigma2 + 1)/2 / beta**2\n",
    "vphi = mu / beta"
   ]
  },
  {
   "cell_type": "code",
   "execution_count": null,
   "id": "d7902bfb",
   "metadata": {},
   "outputs": [],
   "source": [
    "%matplotlib widget\n",
    "plt.plot(data.radius, T2, label=\"theoretical\", ls=\"solid\")\n",
    "plt.plot(data.radius, data.temperature, label=\"actual\", ls=\"dashed\")\n",
    "plt.xlabel(\"$\\\\rho$\")\n",
    "plt.ylabel(\"$T$\")\n",
    "plt.title(f\"T, B={B}\")\n",
    "plt.legend()\n",
    "plt.show()"
   ]
  },
  {
   "cell_type": "code",
   "execution_count": null,
   "id": "f4dcf224",
   "metadata": {},
   "outputs": [],
   "source": [
    "%matplotlib widget\n",
    "plt.plot(data.radius, T/data.temperature, label=\"ratio\", ls=\"solid\")\n",
    "plt.xlabel(\"$\\\\rho$\")\n",
    "plt.ylabel(\"$T$\")\n",
    "plt.title(f\"T, B={B}\")\n",
    "plt.legend()\n",
    "plt.show()"
   ]
  },
  {
   "cell_type": "code",
   "execution_count": null,
   "id": "295d3abe",
   "metadata": {},
   "outputs": [],
   "source": [
    "%matplotlib widget\n",
    "plt.plot(data.radius, vphi, label=\"theoretical\", ls=\"solid\")\n",
    "plt.plot(data.radius, data.azimuthal_velocity, label=\"actual\", ls=\"dashed\")\n",
    "plt.xlabel(\"$\\\\rho$\")\n",
    "plt.ylabel(\"$v_\\\\phi$\")\n",
    "plt.title(f\"vphi, B={B}\")\n",
    "plt.legend()\n",
    "plt.show()"
   ]
  },
  {
   "attachments": {},
   "cell_type": "markdown",
   "id": "5120da12-0539-4687-b537-4796288578b4",
   "metadata": {},
   "source": [
    "## Velocities"
   ]
  },
  {
   "cell_type": "code",
   "execution_count": null,
   "id": "34dd6160-1951-40ef-9b6e-d54cc33cfc16",
   "metadata": {},
   "outputs": [],
   "source": [
    "me = 1\n",
    "qe = -1"
   ]
  },
  {
   "cell_type": "code",
   "execution_count": null,
   "id": "b4394054-9da0-4a48-8eac-79292cebfba5",
   "metadata": {},
   "outputs": [],
   "source": [
    "%matplotlib ipympl\n",
    "\n",
    "ExB_drift = -data.radial_electric_field / B\n",
    "vT = (data.temperature / me)**.5\n",
    "\n",
    "plt.plot(data.radius, 0 * data.radius, linewidth=.5, color='gray')\n",
    "plt.plot(data.radius, ExB_drift, label='ExB drift')\n",
    "plt.plot(data.radius, data.azimuthal_velocity, label='v0')\n",
    "# plt.plot(data.radius, -vT, label='vT')\n",
    "plt.plot(data.radius, -vT / 2**.5, label='azimuthal vT')\n",
    "plt.title(f\"Azimuthal velocities, B={B}\")\n",
    "plt.xlabel(\"radius\")\n",
    "plt.ylabel(\"velocity\")\n",
    "plt.legend()\n",
    "\n",
    "lim=.02\n",
    "plt.xlim(0, .008)\n",
    "# plt.ylim(-lim/8, lim/8)\n",
    "plt.show()"
   ]
  },
  {
   "attachments": {},
   "cell_type": "markdown",
   "id": "19dc9237-1853-41bd-ab2c-b97872bfd777",
   "metadata": {},
   "source": [
    "## Diameters"
   ]
  },
  {
   "cell_type": "code",
   "execution_count": null,
   "id": "68263cdf-748e-488a-8bc0-73d7b36d0959",
   "metadata": {},
   "outputs": [],
   "source": [
    "%matplotlib ipympl\n",
    "\n",
    "gyroradius = abs(me * data.azimuthal_velocity / B / qe)\n",
    "thermal_gyroradius = abs(kB * me * vT / B / qe)\n",
    "\n",
    "plt.plot(data.radius, 0 * data.radius, linewidth=.5, color='gray')\n",
    "plt.plot(data.radius, data.radius, linestyle='--', color='gray', linewidth=.5, label='radial distance')\n",
    "plt.plot(data.radius, 2*gyroradius, label='gyrodiameter')\n",
    "plt.plot(data.radius, 2*thermal_gyroradius, label='thermal gyrodiameter')\n",
    "plt.title(f\"B = {B}; gyrofrequency = {qe * B / me}\")\n",
    "plt.xlabel(\"radial distance\")\n",
    "plt.ylabel(\"radius\")\n",
    "plt.legend()\n",
    "\n",
    "lim=.1\n",
    "plt.xlim(0, lim)\n",
    "plt.ylim(-lim/100, lim/4)\n",
    "plt.show()"
   ]
  },
  {
   "cell_type": "code",
   "execution_count": null,
   "id": "c6ec4e52-fe0b-40ba-be8c-5204e4eb2fea",
   "metadata": {},
   "outputs": [],
   "source": []
  }
 ],
 "metadata": {
  "kernelspec": {
   "display_name": "Python 3",
   "language": "python",
   "name": "python3"
  },
  "language_info": {
   "codemirror_mode": {
    "name": "ipython",
    "version": 3
   },
   "file_extension": ".py",
   "mimetype": "text/x-python",
   "name": "python",
   "nbconvert_exporter": "python",
   "pygments_lexer": "ipython3",
   "version": "3.11.2"
  },
  "vscode": {
   "interpreter": {
    "hash": "59f2629c73b3a2e9dda9fcb3aaef44005eb025cd0f43af32343255decab64b9c"
   }
  }
 },
 "nbformat": 4,
 "nbformat_minor": 5
}
