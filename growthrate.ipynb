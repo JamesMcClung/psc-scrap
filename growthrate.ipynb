{
 "cells": [
  {
   "cell_type": "code",
   "execution_count": null,
   "metadata": {},
   "outputs": [],
   "source": [
    "import numpy as np\n",
    "import scipy.optimize as opt\n",
    "import matplotlib.pyplot as plt\n",
    "\n",
    "import bgk\n",
    "import bgk.run_params as rp"
   ]
  },
  {
   "cell_type": "markdown",
   "metadata": {},
   "source": [
    "# Helpers"
   ]
  },
  {
   "cell_type": "code",
   "execution_count": null,
   "metadata": {},
   "outputs": [],
   "source": [
    "def moving_average(arr: list[float], window: int) -> list[float]:\n",
    "    ret = np.cumsum(arr)\n",
    "    ret[window:] = ret[window:] - ret[:-window]\n",
    "    return ret[window - 1:] / window\n",
    "\n",
    "def plot(xs: list[float], *ys_argss: list):\n",
    "    plt.close(\"all\")\n",
    "    for [ys, *args] in ys_argss:\n",
    "        if callable(ys):\n",
    "            ys = [ys(x) for x in xs]\n",
    "        plt.plot(xs, ys, *args)\n",
    "\n",
    "def print_errs(pnames: list[str], popts: np.ndarray, pcovs: np.ndarray):\n",
    "    perrs = np.sqrt(np.diag(pcovs))\n",
    "    perr_rels = abs(perrs / popts)\n",
    "    for p, popt, perr_rel in zip(pnames, popts, perr_rels):\n",
    "        print(f\"{p:6s} = {popt:6.3f} ± {100*perr_rel:4.2f}%\")\n",
    "\n",
    "def sigmoid(x: float, x0: float, y0: float, sx: float, sy: float) -> float:\n",
    "    return y0 + sy / (1 + np.exp(-(x - x0) / sx))\n",
    "\n",
    "def get_sigmoid_fit(xs: list[float], ys: list[float]) -> tuple[np.ndarray, np.ndarray]:\n",
    "    p0 = [np.median(xs), min(ys), max(xs) - min(xs), max(ys) - min(ys)]\n",
    "    return opt.curve_fit(sigmoid, xs, ys, p0, method='dogbox')\n",
    "\n",
    "def get_growth_rate_sigmoid(popts: np.ndarray, pcovs: np.ndarray) -> tuple[float, float]:\n",
    "    return 1 / popts[2], np.sqrt(pcovs[2, 2]) / popts[2]**2\n",
    "\n",
    "def exponential(x: float, y0: float, sx: float, sy: float) -> float:\n",
    "    return y0 + sy * np.exp(x / sx)\n",
    "\n",
    "def get_exponential_fit(xs: list[float], ys: list[float]) -> tuple[np.ndarray, np.ndarray]:\n",
    "    p0 = [min(ys), max(xs) - min(xs), max(ys) - min(ys)]\n",
    "    return opt.curve_fit(exponential, xs, ys, p0, method='dogbox')\n",
    "\n",
    "def get_growth_rate_exponential(popts: np.ndarray, pcovs: np.ndarray) -> tuple[float, float]:\n",
    "    return 1 / popts[1], np.sqrt(pcovs[1, 1]) / popts[1]**2"
   ]
  },
  {
   "cell_type": "markdown",
   "metadata": {},
   "source": [
    "# Load Data"
   ]
  },
  {
   "cell_type": "code",
   "execution_count": null,
   "metadata": {},
   "outputs": [],
   "source": [
    "path = f\"/mnt/lustre/IAM851/jm1667/psc-runs/case1/trials/exact/B00.25-n512-cont/\"\n",
    "\n",
    "run_manager = bgk.RunManager(path)\n",
    "params_record = run_manager.params_record\n",
    "run_diagnostics = run_manager.run_diagnostics\n",
    "\n",
    "size = run_diagnostics.domain_size\n",
    "struct_radius = run_diagnostics.hole_radius\n",
    "\n",
    "wholeSlice = bgk.DataSlice(slice(None, None), \"\")\n",
    "centerSlice = bgk.DataSlice(slice(-struct_radius, struct_radius), \"Central \")\n",
    "\n",
    "run_diagnostics.print_params()\n",
    "run_diagnostics.check_params()"
   ]
  },
  {
   "cell_type": "code",
   "execution_count": null,
   "metadata": {},
   "outputs": [],
   "source": [
    "# fiddle with this until as many steps as possible are used (usually, they can all be used)\n",
    "nframes = 201\n",
    "\n",
    "videoMaker = bgk.VideoMaker(nframes, run_manager)\n",
    "\n",
    "videoMaker.frame_manager.print_coverage()"
   ]
  },
  {
   "cell_type": "code",
   "execution_count": null,
   "metadata": {},
   "outputs": [],
   "source": [
    "videoMaker.loadData(rp.ne)\n",
    "videoMaker.setSlice(wholeSlice)"
   ]
  },
  {
   "cell_type": "markdown",
   "metadata": {},
   "source": [
    "# Preprocessing"
   ]
  },
  {
   "cell_type": "code",
   "execution_count": null,
   "metadata": {},
   "outputs": [],
   "source": [
    "rolling_window = 30\n",
    "ts = moving_average(videoMaker.times, rolling_window)\n",
    "ys = moving_average(videoMaker._getMeansAtOrigin(), rolling_window)"
   ]
  },
  {
   "cell_type": "markdown",
   "metadata": {},
   "source": [
    "## Fit Sigmoid"
   ]
  },
  {
   "cell_type": "code",
   "execution_count": null,
   "metadata": {},
   "outputs": [],
   "source": [
    "popts_sigmoid, pcovs_sigmoid = get_sigmoid_fit(ts, ys)"
   ]
  },
  {
   "cell_type": "code",
   "execution_count": null,
   "metadata": {},
   "outputs": [],
   "source": [
    "plot(ts, [ys, \".\"], [lambda t: sigmoid(t, *popts_sigmoid), \"-\"])\n",
    "print_errs([\"t0\", \"y0\", \"st\", \"sy\"], popts_sigmoid, pcovs_sigmoid)"
   ]
  },
  {
   "cell_type": "markdown",
   "metadata": {},
   "source": [
    "## Fit Exponential"
   ]
  },
  {
   "cell_type": "code",
   "execution_count": null,
   "metadata": {},
   "outputs": [],
   "source": [
    "tstart = 0\n",
    "tstop = 30\n",
    "growth_phase = slice(np.argmax(ts > tstart), np.argmax(ts > tstop))\n",
    "\n",
    "ts2 = ts[growth_phase]\n",
    "ys2 = ys[growth_phase]"
   ]
  },
  {
   "cell_type": "code",
   "execution_count": null,
   "metadata": {},
   "outputs": [],
   "source": [
    "popts_exp, pcovs_exp = get_exponential_fit(ts2, ys2)"
   ]
  },
  {
   "cell_type": "code",
   "execution_count": null,
   "metadata": {},
   "outputs": [],
   "source": [
    "print_errs([\"y0\", \"st\", \"sy\"], popts_exp, pcovs_exp)\n",
    "plot(ts2, [ys2, \".\"], [lambda t: exponential(t, *popts_exp), \"-\"], [lambda t: -.004 + exponential(t - popts_sigmoid[0], *popts_sigmoid[1:]), \"--\"])"
   ]
  },
  {
   "cell_type": "code",
   "execution_count": null,
   "metadata": {},
   "outputs": [],
   "source": [
    "growth_rate_sigmoid, growth_rate_sigmoid_err = get_growth_rate_sigmoid(popts_sigmoid, pcovs_sigmoid)\n",
    "growth_rate_exp, growth_rate_exp_err = get_growth_rate_exponential(popts_exp, pcovs_exp)\n",
    "\n",
    "print(f\"growth rate sigmoid:     {growth_rate_sigmoid:.4f} ± {growth_rate_sigmoid_err:.4f}\")\n",
    "print(f\"growth rate exponential: {growth_rate_exp:.4f} ± {growth_rate_exp_err:.4f}\")"
   ]
  },
  {
   "cell_type": "code",
   "execution_count": null,
   "metadata": {},
   "outputs": [],
   "source": []
  }
 ],
 "metadata": {
  "kernelspec": {
   "display_name": "Python 3",
   "language": "python",
   "name": "python3"
  },
  "language_info": {
   "codemirror_mode": {
    "name": "ipython",
    "version": 3
   },
   "file_extension": ".py",
   "mimetype": "text/x-python",
   "name": "python",
   "nbconvert_exporter": "python",
   "pygments_lexer": "ipython3",
   "version": "3.11.2"
  },
  "orig_nbformat": 4
 },
 "nbformat": 4,
 "nbformat_minor": 2
}
