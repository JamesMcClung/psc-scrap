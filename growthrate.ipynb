{
 "cells": [
  {
   "cell_type": "code",
   "execution_count": null,
   "metadata": {},
   "outputs": [],
   "source": [
    "import numpy as np\n",
    "import scipy.optimize as opt\n",
    "import matplotlib.pyplot as plt\n",
    "import xarray as xr\n",
    "import os\n",
    "from typing import TypeVar\n",
    "\n",
    "import bgk\n",
    "import bgk.run_params as rp\n",
    "import bgk.autofigs.util as util"
   ]
  },
  {
   "cell_type": "markdown",
   "metadata": {},
   "source": [
    "# Helpers"
   ]
  },
  {
   "cell_type": "code",
   "execution_count": null,
   "metadata": {},
   "outputs": [],
   "source": [
    "T = TypeVar(\"T\", float, np.ndarray)\n",
    "\n",
    "def moving_average(arr: list[float], window: int) -> list[float]:\n",
    "    ret = np.cumsum(arr)\n",
    "    ret[window:] = ret[window:] - ret[:-window]\n",
    "    return ret[window - 1:] / window\n",
    "\n",
    "def plot(xs: list[float], *ys_argss: list):\n",
    "    plt.close(\"all\")\n",
    "    for [ys, *args] in ys_argss:\n",
    "        if callable(ys):\n",
    "            ys = [ys(x) for x in xs]\n",
    "        plt.plot(xs, ys, *args)\n",
    "\n",
    "def print_errs(pnames: list[str], popts: np.ndarray, pcovs: np.ndarray):\n",
    "    perrs = np.sqrt(np.diag(pcovs))\n",
    "    perr_rels = abs(perrs / popts)\n",
    "    for p, popt, perr_rel in zip(pnames, popts, perr_rels):\n",
    "        print(f\"{p:6s} = {popt:6.3f} ± {100*perr_rel:4.2f}%\")\n",
    "\n",
    "\n",
    "def sigmoid_gaussian(x: T, x0: float, y0: float, sx: float, sy_s: float, sy_g: float) -> T:\n",
    "    return y0 + sy_s / (1 + np.exp(-(x - x0) / sx)) + sy_g * np.exp(-((x-x0)/sx)**2)\n",
    "\n",
    "def jac_sigmoid_gaussian(x: T, x0: float, y0: float, sx: float, sy_s: float, sy_g: float) -> T:\n",
    "    x = (x - x0) / sx\n",
    "    ex = np.exp(-x)\n",
    "    ex2 = np.exp(-x**2)\n",
    "\n",
    "    j_x0 = -1/sx * (sy_s * ex / (1 + ex)**2 - 2 * x * sy_g * ex2)\n",
    "    j_y0 = np.ones_like(x)\n",
    "    j_sx = x * j_x0\n",
    "    j_sy_s = 1 / (1 + ex)\n",
    "    j_sy_g = ex2\n",
    "\n",
    "    return np.array([j_x0, j_y0, j_sx, j_sy_s, j_sy_g]).T\n",
    "\n",
    "def get_sigmoid_gaussian_fit(xs: list[float], ys: list[float]) -> tuple[np.ndarray, np.ndarray]:\n",
    "    p0 = [xs[np.argmax(ys)], min(ys), max(xs) - min(xs), ys[-1] - ys[0], max(ys) - ys[-1]]\n",
    "    return opt.curve_fit(sigmoid_gaussian, xs, ys, p0, method=\"dogbox\", bounds=([-np.inf, -np.inf, 0, -np.inf, -np.inf], np.inf))\n",
    "\n",
    "def get_growth_rate_sigmoid_gaussian(popts: np.ndarray, pcovs: np.ndarray) -> tuple[float, float]:\n",
    "    return 1 / popts[2], np.sqrt(pcovs[2, 2]) / popts[2]**2\n",
    "\n",
    "\n",
    "def exponential(x: T, y0: float, sx: float, sy: float) -> T:\n",
    "    return y0 + sy * np.exp(x / sx)\n",
    "\n",
    "def get_exponential_fit(xs: list[float], ys: list[float]) -> tuple[np.ndarray, np.ndarray]:\n",
    "    p0 = [ys[0], xs[-1] - xs[0], ys[-1] - ys[0]]\n",
    "    return opt.curve_fit(exponential, xs, ys, p0, method='dogbox')\n",
    "\n",
    "def get_growth_rate_exponential(popts: np.ndarray, pcovs: np.ndarray) -> tuple[float, float]:\n",
    "    return 1 / popts[1], np.sqrt(pcovs[1, 1]) / popts[1]**2"
   ]
  },
  {
   "cell_type": "markdown",
   "metadata": {},
   "source": [
    "# Load Data"
   ]
  },
  {
   "cell_type": "code",
   "execution_count": null,
   "metadata": {},
   "outputs": [],
   "source": [
    "path = f\"/mnt/lustre/IAM851/jm1667/psc-runs/case1/trials/exact/B00.25-n512-cont/\"\n",
    "\n",
    "run_manager = bgk.RunManager(path)\n",
    "params_record = run_manager.params_record\n",
    "run_diagnostics = run_manager.run_diagnostics\n",
    "\n",
    "size = run_diagnostics.domain_size\n",
    "struct_radius = run_diagnostics.hole_radius\n",
    "\n",
    "wholeSlice = bgk.DataSlice(slice(None, None), \"\")\n",
    "centerSlice = bgk.DataSlice(slice(-struct_radius, struct_radius), \"Central \")\n",
    "\n",
    "run_diagnostics.print_params()\n",
    "run_diagnostics.check_params()"
   ]
  },
  {
   "cell_type": "code",
   "execution_count": null,
   "metadata": {},
   "outputs": [],
   "source": [
    "# fiddle with this until as many steps as possible are used (usually, they can all be used)\n",
    "nframes = 201\n",
    "\n",
    "videoMaker = bgk.VideoMaker(nframes, run_manager)\n",
    "\n",
    "videoMaker.frame_manager.print_coverage()"
   ]
  },
  {
   "cell_type": "code",
   "execution_count": null,
   "metadata": {},
   "outputs": [],
   "source": [
    "videoMaker.loadData(rp.e_phi)\n",
    "videoMaker.setSlice(wholeSlice)"
   ]
  },
  {
   "cell_type": "markdown",
   "metadata": {},
   "source": [
    "# Preprocessing"
   ]
  },
  {
   "cell_type": "code",
   "execution_count": null,
   "metadata": {},
   "outputs": [],
   "source": [
    "rho = 2 * run_diagnostics.hole_radius"
   ]
  },
  {
   "cell_type": "code",
   "execution_count": null,
   "metadata": {},
   "outputs": [],
   "source": [
    "drho = run_diagnostics.domain_size / 100\n",
    "\n",
    "def getRslice(data: xr.DataArray, rho: float) -> xr.DataArray:\n",
    "    return data.where((rho <= videoMaker.grid_rho) & (videoMaker.grid_rho < rho + drho))\n",
    "\n",
    "def get_y(data: xr.DataArray, rho: float) -> float:\n",
    "    return abs(getRslice(data, rho)).mean() * 1e5"
   ]
  },
  {
   "cell_type": "code",
   "execution_count": null,
   "metadata": {},
   "outputs": [],
   "source": [
    "%matplotlib inline\n",
    "plt.close(\"all\")\n",
    "im = plt.imshow(\n",
    "            getRslice(videoMaker.slicedDatas[-1], rho),\n",
    "            origin=\"lower\",\n",
    "            extent=(\n",
    "                videoMaker._currentSlice.slice.start,\n",
    "                videoMaker._currentSlice.slice.stop,\n",
    "                videoMaker._currentSlice.slice.start,\n",
    "                videoMaker._currentSlice.slice.stop,\n",
    "            ),)\n",
    "plt.colorbar(im)"
   ]
  },
  {
   "cell_type": "code",
   "execution_count": null,
   "metadata": {},
   "outputs": [],
   "source": [
    "rolling_window = 10\n",
    "ts = moving_average(videoMaker.times, rolling_window)\n",
    "ys = moving_average([get_y(data, rho) for data in videoMaker.slicedDatas], rolling_window)"
   ]
  },
  {
   "cell_type": "markdown",
   "metadata": {},
   "source": [
    "# Fits"
   ]
  },
  {
   "cell_type": "markdown",
   "metadata": {},
   "source": [
    "## Fit Sigmoid"
   ]
  },
  {
   "cell_type": "code",
   "execution_count": null,
   "metadata": {},
   "outputs": [],
   "source": [
    "popts_sg, pcovs_sg = get_sigmoid_gaussian_fit(ts, ys)\n",
    "plot(ts, [ys, \".\"], [sigmoid_gaussian(ts, *popts_sg), \"-\"])\n",
    "print_errs([\"t0\", \"y0\", \"st\", \"sy_s\", \"sy_g\"], popts_sg, pcovs_sg)"
   ]
  },
  {
   "cell_type": "markdown",
   "metadata": {},
   "source": [
    "## Fit Exponential"
   ]
  },
  {
   "cell_type": "code",
   "execution_count": null,
   "metadata": {},
   "outputs": [],
   "source": [
    "tstart = 0\n",
    "tstop = 50\n",
    "growth_phase = slice(np.argmax(ts > tstart), np.argmax(ts > tstop))\n",
    "\n",
    "ts2 = ts[growth_phase]\n",
    "ys2 = ys[growth_phase]"
   ]
  },
  {
   "cell_type": "code",
   "execution_count": null,
   "metadata": {},
   "outputs": [],
   "source": [
    "popts_exp, pcovs_exp = get_exponential_fit(ts2, ys2)\n",
    "print_errs([\"y0\", \"st\", \"sy\"], popts_exp, pcovs_exp)\n",
    "plot(ts2, [ys2, \".\"], [exponential(ts2, *popts_exp), \"-\"], [exponential(ts2 - popts_sg[0], *popts_sg[1:4]), \"--\"])\n",
    "# plot(ts2, [ys2, \".\"], [exponential(ts2, *popts_exp), \"-\"])"
   ]
  },
  {
   "cell_type": "code",
   "execution_count": null,
   "metadata": {},
   "outputs": [],
   "source": [
    "growth_rate_exp, growth_rate_exp_err = get_growth_rate_exponential(popts_exp, pcovs_exp)\n",
    "growth_rate_sg, growth_rate_sg_err = get_growth_rate_sigmoid_gaussian(popts_sg, pcovs_sg)\n",
    "\n",
    "print(f\"growth rate exp: {growth_rate_exp:.4f} ± {growth_rate_exp_err:.4f}\")\n",
    "print(f\"growth rate sg:  {growth_rate_sg:.4f} ± {growth_rate_sg_err:.4f}\")"
   ]
  },
  {
   "cell_type": "markdown",
   "metadata": {},
   "source": [
    "## Semilog"
   ]
  },
  {
   "cell_type": "code",
   "execution_count": null,
   "metadata": {},
   "outputs": [],
   "source": [
    "# y0 = popts_exp[0]\n",
    "y0 = popts_sg[1]\n",
    "# y0 = ys[0]"
   ]
  },
  {
   "cell_type": "code",
   "execution_count": null,
   "metadata": {},
   "outputs": [],
   "source": [
    "tstart = 23\n",
    "tstop = 40\n",
    "linear_phase = slice(np.argmax(ts > tstart), np.argmax(ts > tstop))\n",
    "\n",
    "ts3 = ts[linear_phase]\n",
    "ys3 = np.log(ys[linear_phase] - y0)\n",
    "\n",
    "wherefinite = np.isfinite(ys3) \n",
    "ts3 = ts3[wherefinite]\n",
    "ys3 = ys3[wherefinite]"
   ]
  },
  {
   "cell_type": "code",
   "execution_count": null,
   "metadata": {},
   "outputs": [],
   "source": [
    "def linear(t: float, m: float, b: float) -> float:\n",
    "    return m*t + b\n",
    "    \n",
    "popts_lin, pcovs_lin = opt.curve_fit(linear, ts3, ys3)\n",
    "print_errs([\"m\", \"b\"], popts_lin, pcovs_lin)"
   ]
  },
  {
   "cell_type": "code",
   "execution_count": null,
   "metadata": {},
   "outputs": [],
   "source": [
    "plt.close(\"all\")\n",
    "fig, ax = plt.subplots(1,1)\n",
    "ax.plot(ts, ys - y0, label=\"From run\")\n",
    "ax.plot(ts3, np.exp(linear(ts3, *popts_lin)), label=rf\"Linear fit ($\\omega_I={popts_lin[0]:.3f} \\pm {np.sqrt(pcovs_lin[0,0]):.3f}$)\")\n",
    "# ax.plot(ts, exponential(ts, *popts_exp) - y0, label=\"exp\")\n",
    "ax.plot(ts, sigmoid_gaussian(ts, *popts_sg) - y0, label=\"sg\")\n",
    "ax.axvline(ts3[0], color=\"grey\", linestyle=\"--\")\n",
    "ax.axvline(ts3[-1], color=\"grey\", linestyle=\"--\")\n",
    "ax.set_xlabel(\"Time\")\n",
    "ax.set_ylabel(rf\"$\\propto const + \\int|E_\\phi(\\rho,\\phi)| d\\phi$\")\n",
    "ax.set_yscale('log')\n",
    "ax.set_title(rf\"Growth of Instability in {videoMaker._currentParam.title} ($B_0={params_record.B0}$, $\\rho={rStart:.3f}$, {params_record.init_strategy.capitalize()})\")\n",
    "ax.legend()\n",
    "plt.show()"
   ]
  },
  {
   "cell_type": "code",
   "execution_count": null,
   "metadata": {},
   "outputs": [],
   "source": [
    "os.makedirs(\"figs-manual\", exist_ok=True)\n",
    "# util.save_fig(fig, f\"figs-manual/growth-{videoMaker._currentParam.name}-{params_record.init_strategy}-B{params_record.B0:4.2f}-n{params_record.res}.png\")"
   ]
  },
  {
   "cell_type": "markdown",
   "metadata": {},
   "source": [
    "## Rho Dependence"
   ]
  },
  {
   "cell_type": "code",
   "execution_count": null,
   "metadata": {},
   "outputs": [],
   "source": [
    "from dataclasses import dataclass\n",
    "\n",
    "def get_ys(rho: float) -> np.ndarray:\n",
    "    return moving_average([get_y(data, rho) for data in videoMaker.slicedDatas], rolling_window)\n",
    "    \n",
    "@dataclass\n",
    "class Growth:\n",
    "    time_start: float\n",
    "    time_stop: float\n",
    "    rate: float\n",
    "    rate_err: float\n",
    "\n",
    "    def exclude(self) -> bool:\n",
    "        return np.nan in [self.time_start, self.time_stop, self.rate, self.rate_err] or self.rate < self.rate_err or self.rate_err < 1e-6\n",
    "\n",
    "def get_growth(ts: np.ndarray, ys: np.ndarray) -> Growth:\n",
    "    lbound = 0\n",
    "    ubound = np.argmax(ys) // 2\n",
    "\n",
    "    try:\n",
    "        popts, pcovs = get_exponential_fit(ts[lbound:ubound], ys[lbound:ubound])\n",
    "        rate, rate_err = get_growth_rate_exponential(popts, pcovs)\n",
    "        return Growth(ts[lbound], ts[ubound], rate, rate_err)\n",
    "    except:\n",
    "        return Growth(np.nan, np.nan, np.nan, np.nan)\n"
   ]
  },
  {
   "cell_type": "code",
   "execution_count": null,
   "metadata": {},
   "outputs": [],
   "source": [
    "rhos = np.linspace(run_diagnostics.hole_radius / 2, run_diagnostics.domain_size / 2, 100)\n",
    "yss = [get_ys(rho) for rho in rhos]"
   ]
  },
  {
   "cell_type": "code",
   "execution_count": null,
   "metadata": {},
   "outputs": [],
   "source": [
    "# grs_errs_of_rho = [get_growth_rate_exponential(*get_exponential_fit(ts[growth_phase], ys[growth_phase])) for ys, growth_phase in zip(ys_of_rho[:nrhos], growth_phases[:nrhos])]\n",
    "growths = [get_growth(ts, ys) for ys in yss]"
   ]
  },
  {
   "cell_type": "code",
   "execution_count": null,
   "metadata": {},
   "outputs": [],
   "source": [
    "for i, g in enumerate(growths):\n",
    "    if g.exclude():\n",
    "        rhos[i] = np.nan"
   ]
  },
  {
   "cell_type": "code",
   "execution_count": null,
   "metadata": {},
   "outputs": [],
   "source": [
    "fig, ax1 = plt.subplots()\n",
    "ax2 = ax1.twinx()\n",
    "ax1.set_zorder(ax2.get_zorder() + 1)\n",
    "ax1.set_facecolor('none')\n",
    "\n",
    "color_ax1 = \"b\"\n",
    "color_ax2 = \"g\"\n",
    "\n",
    "ax1.set_title(\"Linear Growth Rates\")\n",
    "ax1.set_xlabel(rf\"$\\rho$\")\n",
    "ax1.set_ylabel(\"Growth Rate\", color=color_ax1)\n",
    "ax1.errorbar(rhos, [g.rate for g in growths], yerr=[g.rate_err for g in growths], color=color_ax1, capsize=1.7)\n",
    "ax2.set_ylabel(\"Linear Growth Phase\", color=color_ax2)\n",
    "ax2.vlines(rhos, [g.time_start for g in growths], [g.time_stop for g in growths], colors=color_ax2, alpha=.4)\n"
   ]
  },
  {
   "cell_type": "code",
   "execution_count": null,
   "metadata": {},
   "outputs": [],
   "source": [
    "os.makedirs(\"figs-test\", exist_ok=True)\n",
    "util.save_fig(fig, f\"figs-test/growth1-{videoMaker._currentParam.name}-{params_record.init_strategy}-B{params_record.B0:4.2f}-n{params_record.res}.png\")"
   ]
  },
  {
   "cell_type": "markdown",
   "metadata": {},
   "source": [
    "## Detecting Linear Region"
   ]
  },
  {
   "cell_type": "code",
   "execution_count": null,
   "metadata": {},
   "outputs": [],
   "source": [
    "logys = np.log(ys - y0)\n",
    "dlogys = np.gradient(logys, ts)\n",
    "ddlogys = np.gradient(dlogys, ts)"
   ]
  },
  {
   "cell_type": "code",
   "execution_count": null,
   "metadata": {},
   "outputs": [],
   "source": [
    "plot(ts, [ddlogys])"
   ]
  },
  {
   "cell_type": "code",
   "execution_count": null,
   "metadata": {},
   "outputs": [],
   "source": [
    "smooth_width = 30\n",
    "x_conv = np.linspace(-3,3,smooth_width)\n",
    "y_conv = (4*x_conv**2 - 2) * np.exp(-x_conv**2) / smooth_width * 8"
   ]
  },
  {
   "cell_type": "code",
   "execution_count": null,
   "metadata": {},
   "outputs": [],
   "source": [
    "ddlogys_conv = np.convolve(logys, y_conv, mode=\"same\")\n",
    "plot(ts, [ddlogys_conv])"
   ]
  },
  {
   "cell_type": "code",
   "execution_count": null,
   "metadata": {},
   "outputs": [],
   "source": []
  }
 ],
 "metadata": {
  "kernelspec": {
   "display_name": "Python 3",
   "language": "python",
   "name": "python3"
  },
  "language_info": {
   "codemirror_mode": {
    "name": "ipython",
    "version": 3
   },
   "file_extension": ".py",
   "mimetype": "text/x-python",
   "name": "python",
   "nbconvert_exporter": "python",
   "pygments_lexer": "ipython3",
   "version": "3.11.2"
  },
  "orig_nbformat": 4
 },
 "nbformat": 4,
 "nbformat_minor": 2
}
