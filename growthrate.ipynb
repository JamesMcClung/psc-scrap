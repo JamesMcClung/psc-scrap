{
 "cells": [
  {
   "cell_type": "code",
   "execution_count": null,
   "metadata": {},
   "outputs": [],
   "source": [
    "import numpy as np\n",
    "import scipy.optimize as opt\n",
    "import matplotlib.pyplot as plt\n",
    "import xarray as xr\n",
    "\n",
    "import bgk\n",
    "import bgk.run_params as rp"
   ]
  },
  {
   "cell_type": "markdown",
   "metadata": {},
   "source": [
    "# Helpers"
   ]
  },
  {
   "cell_type": "code",
   "execution_count": null,
   "metadata": {},
   "outputs": [],
   "source": [
    "def moving_average(arr: list[float], window: int) -> list[float]:\n",
    "    ret = np.cumsum(arr)\n",
    "    ret[window:] = ret[window:] - ret[:-window]\n",
    "    return ret[window - 1:] / window\n",
    "\n",
    "def plot(xs: list[float], *ys_argss: list):\n",
    "    plt.close(\"all\")\n",
    "    for [ys, *args] in ys_argss:\n",
    "        if callable(ys):\n",
    "            ys = [ys(x) for x in xs]\n",
    "        plt.plot(xs, ys, *args)\n",
    "\n",
    "def print_errs(pnames: list[str], popts: np.ndarray, pcovs: np.ndarray):\n",
    "    perrs = np.sqrt(np.diag(pcovs))\n",
    "    perr_rels = abs(perrs / popts)\n",
    "    for p, popt, perr_rel in zip(pnames, popts, perr_rels):\n",
    "        print(f\"{p:6s} = {popt:6.3f} ± {100*perr_rel:4.2f}%\")\n",
    "\n",
    "def sigmoid(x: float, x0: float, y0: float, sx: float, sy: float) -> float:\n",
    "    return y0 + sy / (1 + np.exp(-(x - x0) / sx))\n",
    "\n",
    "def get_sigmoid_fit(xs: list[float], ys: list[float]) -> tuple[np.ndarray, np.ndarray]:\n",
    "    p0 = [np.median(xs), min(ys), max(xs) - min(xs), max(ys) - min(ys)]\n",
    "    return opt.curve_fit(sigmoid, xs, ys, p0, method='dogbox')\n",
    "\n",
    "def get_growth_rate_sigmoid(popts: np.ndarray, pcovs: np.ndarray) -> tuple[float, float]:\n",
    "    return 1 / popts[2], np.sqrt(pcovs[2, 2]) / popts[2]**2\n",
    "\n",
    "def exponential(x: float, y0: float, sx: float, sy: float) -> float:\n",
    "    return y0 + sy * np.exp(x / sx)\n",
    "\n",
    "def get_exponential_fit(xs: list[float], ys: list[float]) -> tuple[np.ndarray, np.ndarray]:\n",
    "    p0 = [min(ys), max(xs) - min(xs), max(ys) - min(ys)]\n",
    "    return opt.curve_fit(exponential, xs, ys, p0, method='dogbox')\n",
    "\n",
    "def get_growth_rate_exponential(popts: np.ndarray, pcovs: np.ndarray) -> tuple[float, float]:\n",
    "    return 1 / popts[1], np.sqrt(pcovs[1, 1]) / popts[1]**2"
   ]
  },
  {
   "cell_type": "markdown",
   "metadata": {},
   "source": [
    "# Load Data"
   ]
  },
  {
   "cell_type": "code",
   "execution_count": null,
   "metadata": {},
   "outputs": [],
   "source": [
    "path = f\"/mnt/lustre/IAM851/jm1667/psc-runs/case1/trials/exact/B00.25-n512-cont/\"\n",
    "\n",
    "run_manager = bgk.RunManager(path)\n",
    "params_record = run_manager.params_record\n",
    "run_diagnostics = run_manager.run_diagnostics\n",
    "\n",
    "size = run_diagnostics.domain_size\n",
    "struct_radius = run_diagnostics.hole_radius\n",
    "\n",
    "wholeSlice = bgk.DataSlice(slice(None, None), \"\")\n",
    "centerSlice = bgk.DataSlice(slice(-struct_radius, struct_radius), \"Central \")\n",
    "\n",
    "run_diagnostics.print_params()\n",
    "run_diagnostics.check_params()"
   ]
  },
  {
   "cell_type": "code",
   "execution_count": null,
   "metadata": {},
   "outputs": [],
   "source": [
    "# fiddle with this until as many steps as possible are used (usually, they can all be used)\n",
    "nframes = 201\n",
    "\n",
    "videoMaker = bgk.VideoMaker(nframes, run_manager)\n",
    "\n",
    "videoMaker.frame_manager.print_coverage()"
   ]
  },
  {
   "cell_type": "code",
   "execution_count": null,
   "metadata": {},
   "outputs": [],
   "source": [
    "videoMaker.loadData(rp.e_phi)\n",
    "videoMaker.setSlice(wholeSlice)"
   ]
  },
  {
   "cell_type": "markdown",
   "metadata": {},
   "source": [
    "# Preprocessing"
   ]
  },
  {
   "cell_type": "code",
   "execution_count": null,
   "metadata": {},
   "outputs": [],
   "source": [
    "rStart = 2 * run_diagnostics.hole_radius\n",
    "rStop = rStart + run_diagnostics.domain_size / 100"
   ]
  },
  {
   "cell_type": "code",
   "execution_count": null,
   "metadata": {},
   "outputs": [],
   "source": [
    "def getRslice(data: xr.DataArray) -> xr.DataArray:\n",
    "    return data.where((rStart <= videoMaker.grid_rho) & (videoMaker.grid_rho < rStop))\n",
    "\n",
    "def get_y(data: xr.DataArray) -> float:\n",
    "    return abs(getRslice(data)).mean() * 1e5"
   ]
  },
  {
   "cell_type": "code",
   "execution_count": null,
   "metadata": {},
   "outputs": [],
   "source": [
    "%matplotlib inline\n",
    "plt.close(\"all\")\n",
    "im = plt.imshow(\n",
    "            getRslice(videoMaker.slicedDatas[-1]),\n",
    "            origin=\"lower\",\n",
    "            extent=(\n",
    "                videoMaker._currentSlice.slice.start,\n",
    "                videoMaker._currentSlice.slice.stop,\n",
    "                videoMaker._currentSlice.slice.start,\n",
    "                videoMaker._currentSlice.slice.stop,\n",
    "            ),)\n",
    "plt.colorbar(im)"
   ]
  },
  {
   "cell_type": "code",
   "execution_count": null,
   "metadata": {},
   "outputs": [],
   "source": [
    "rolling_window = 30\n",
    "ts = moving_average(videoMaker.times, rolling_window)\n",
    "ys = moving_average([get_y(data) for data in videoMaker.slicedDatas], rolling_window)"
   ]
  },
  {
   "cell_type": "markdown",
   "metadata": {},
   "source": [
    "## Fit Sigmoid"
   ]
  },
  {
   "cell_type": "code",
   "execution_count": null,
   "metadata": {},
   "outputs": [],
   "source": [
    "popts_sigmoid, pcovs_sigmoid = get_sigmoid_fit(ts, ys)"
   ]
  },
  {
   "cell_type": "code",
   "execution_count": null,
   "metadata": {},
   "outputs": [],
   "source": [
    "plot(ts, [ys, \".\"], [lambda t: sigmoid(t, *popts_sigmoid), \"-\"])\n",
    "print_errs([\"t0\", \"y0\", \"st\", \"sy\"], popts_sigmoid, pcovs_sigmoid)"
   ]
  },
  {
   "cell_type": "markdown",
   "metadata": {},
   "source": [
    "## Fit Exponential"
   ]
  },
  {
   "cell_type": "code",
   "execution_count": null,
   "metadata": {},
   "outputs": [],
   "source": [
    "tstart = 0\n",
    "tstop = 30\n",
    "growth_phase = slice(np.argmax(ts > tstart), np.argmax(ts > tstop))\n",
    "\n",
    "ts2 = ts[growth_phase]\n",
    "ys2 = ys[growth_phase]"
   ]
  },
  {
   "cell_type": "code",
   "execution_count": null,
   "metadata": {},
   "outputs": [],
   "source": [
    "popts_exp, pcovs_exp = get_exponential_fit(ts2, ys2)"
   ]
  },
  {
   "cell_type": "code",
   "execution_count": null,
   "metadata": {},
   "outputs": [],
   "source": [
    "print_errs([\"y0\", \"st\", \"sy\"], popts_exp, pcovs_exp)\n",
    "# plot(ts2, [ys2, \".\"], [lambda t: exponential(t, *popts_exp), \"-\"], [lambda t: -.004 + exponential(t - popts_sigmoid[0], *popts_sigmoid[1:]), \"--\"])\n",
    "plot(ts2, [ys2, \".\"], [lambda t: exponential(t, *popts_exp), \"-\"])"
   ]
  },
  {
   "cell_type": "code",
   "execution_count": null,
   "metadata": {},
   "outputs": [],
   "source": [
    "growth_rate_sigmoid, growth_rate_sigmoid_err = get_growth_rate_sigmoid(popts_sigmoid, pcovs_sigmoid)\n",
    "growth_rate_exp, growth_rate_exp_err = get_growth_rate_exponential(popts_exp, pcovs_exp)\n",
    "\n",
    "print(f\"growth rate sigmoid:     {growth_rate_sigmoid:.4f} ± {growth_rate_sigmoid_err:.4f}\")\n",
    "print(f\"growth rate exponential: {growth_rate_exp:.4f} ± {growth_rate_exp_err:.4f}\")"
   ]
  },
  {
   "cell_type": "markdown",
   "metadata": {},
   "source": [
    "## Semilog"
   ]
  },
  {
   "cell_type": "code",
   "execution_count": null,
   "metadata": {},
   "outputs": [],
   "source": [
    "plot(ts, [np.log(ys)], [ys])"
   ]
  },
  {
   "cell_type": "code",
   "execution_count": null,
   "metadata": {},
   "outputs": [],
   "source": [
    "tstart = np.argmax(ts > 35)\n",
    "tstop = np.argmax(ts > 55)\n",
    "linear_phase = slice(tstart, tstop)\n",
    "\n",
    "ts3 = ts[linear_phase]\n",
    "ys3 = np.log(ys[linear_phase])"
   ]
  },
  {
   "cell_type": "code",
   "execution_count": null,
   "metadata": {},
   "outputs": [],
   "source": [
    "def linear(t: float, m: float, b: float) -> float:\n",
    "    return m*t + b\n",
    "    \n",
    "popts_lin, pcovs_lin = opt.curve_fit(linear, ts3, ys3)\n",
    "print_errs([\"m\", \"b\"], popts_lin, pcovs_lin)"
   ]
  },
  {
   "cell_type": "code",
   "execution_count": null,
   "metadata": {},
   "outputs": [],
   "source": [
    "plt.close(\"all\")\n",
    "fig, ax = plt.subplots(1,1)\n",
    "ax.plot(ts, ys, label=\"From run\")\n",
    "ax.plot(ts3, [np.exp(linear(t, *popts_lin)) for t in ts3], label=rf\"Linear fit ($\\omega_I={popts_lin[0]:.3f} \\pm {np.sqrt(pcovs_lin[0,0]):.3f}$)\")\n",
    "ax.axvline(ts3[0], color=\"grey\", linestyle=\"--\")\n",
    "ax.axvline(ts3[-1], color=\"grey\", linestyle=\"--\")\n",
    "ax.set_xlabel(\"Time\")\n",
    "ax.set_ylabel(rf\"$\\propto\\int|E_\\phi(\\rho,\\phi)| d\\phi$\")\n",
    "ax.set_yscale('log')\n",
    "ax.set_title(rf\"Growth of Instability in {videoMaker._currentParam.title} ($B_0={params_record.B0}$, $\\rho={rStart:.3f}$, {params_record.init_strategy.capitalize()})\")\n",
    "ax.legend()\n",
    "plt.show()"
   ]
  },
  {
   "cell_type": "code",
   "execution_count": null,
   "metadata": {},
   "outputs": [],
   "source": [
    "import bgk.autofigs.util as util\n",
    "import os"
   ]
  },
  {
   "cell_type": "code",
   "execution_count": null,
   "metadata": {},
   "outputs": [],
   "source": [
    "os.makedirs(\"figs-manual\", exist_ok=True)\n",
    "util.save_fig(fig, f\"figs-manual/growth-{videoMaker._currentParam.name}-{params_record.init_strategy}-B{params_record.B0:4.2f}-n{params_record.res}.png\")"
   ]
  }
 ],
 "metadata": {
  "kernelspec": {
   "display_name": "Python 3",
   "language": "python",
   "name": "python3"
  },
  "language_info": {
   "codemirror_mode": {
    "name": "ipython",
    "version": 3
   },
   "file_extension": ".py",
   "mimetype": "text/x-python",
   "name": "python",
   "nbconvert_exporter": "python",
   "pygments_lexer": "ipython3",
   "version": "3.11.2"
  },
  "orig_nbformat": 4
 },
 "nbformat": 4,
 "nbformat_minor": 2
}
