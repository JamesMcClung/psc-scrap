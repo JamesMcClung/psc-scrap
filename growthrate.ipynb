{
    "cells": [
        {
            "cell_type": "code",
            "execution_count": null,
            "metadata": {},
            "outputs": [],
            "source": [
                "import numpy as np\n",
                "import scipy.optimize as opt\n",
                "import matplotlib.pyplot as plt\n",
                "import xarray as xr\n",
                "import os\n",
                "from typing import TypeVar, Literal, Callable\n",
                "\n",
                "import bgk\n",
                "import bgk.run_params as rp\n",
                "import bgk.autofigs.util as util"
            ]
        },
        {
            "cell_type": "markdown",
            "metadata": {},
            "source": [
                "# Helpers"
            ]
        },
        {
            "cell_type": "code",
            "execution_count": null,
            "metadata": {},
            "outputs": [],
            "source": [
                "T = TypeVar(\"T\", float, np.ndarray)\n",
                "\n",
                "def smooth(arr: np.ndarray,\n",
                "           window: int,\n",
                "           keep_edge: Literal[\"left\", \"right\", \"both\", \"none\"]=\"none\",\n",
                "           keep_edge_half: bool=False, # if true, keep only half of each enabled edge\n",
                "           pad: Literal[\"copy\", \"wrap\", \"trim_kernel\", \"none\"]=\"none\",\n",
                "           kernel: Callable[[np.ndarray], float] | Literal[\"gauss\", \"mean\"]=\"mean\",\n",
                "           extent: float=3.0 # extent along x-axis of gaussian if `kernel==\"gauss\"`\n",
                "           ) -> np.ndarray:\n",
                "    if kernel == \"gauss\":\n",
                "        kernel = np.exp(-np.linspace(-extent,extent,window,True)**2)\n",
                "        kernel = (kernel / sum(kernel)).dot\n",
                "    elif kernel == \"mean\":\n",
                "        kernel = np.mean\n",
                "    keep_left = keep_edge in [\"left\", \"both\"]\n",
                "    keep_right = keep_edge in [\"right\", \"both\"]\n",
                "    ret = np.zeros(len(arr) + (window - 1) * (keep_left + keep_right) // (keep_edge_half + 1) - (window - 1))\n",
                "    for i in range(0, len(ret)):\n",
                "        start = i - (window - 1) * keep_left // (keep_edge_half + 1)\n",
                "        stop = start + window\n",
                "        subarr = arr[max(0, start):stop]\n",
                "        if pad == \"wrap\":\n",
                "            raise NotImplementedError()\n",
                "        elif pad == \"copy\":\n",
                "            subarr = np.concatenate([np.full(max(0, -start), arr[0]), subarr, np.full(max(0, stop - len(arr)), arr[-1])])\n",
                "        elif pad == \"trim_kernel\":\n",
                "            n_zeros_before = max(0, -start)\n",
                "            n_zeros_after = max(0, stop - len(arr))\n",
                "            if n_zeros_before + n_zeros_after > 0:\n",
                "                rescale = kernel(np.concatenate([np.zeros(n_zeros_before), np.ones_like(subarr), np.zeros(n_zeros_after)]))\n",
                "                subarr = np.concatenate([np.zeros(n_zeros_before), subarr, np.zeros(n_zeros_after)]) / rescale\n",
                "        ret[i] = kernel(subarr)\n",
                "    return ret\n",
                "\n",
                "def _plot_curve(xs: list[float], ys: list[float] | Callable[[float], float], args: list, labels: bool):\n",
                "        if callable(ys):\n",
                "            ys = [ys(x) for x in xs]\n",
                "        elif len(ys) < len(xs):\n",
                "            ys = np.concatenate((ys, np.full(len(xs) - len(ys), np.nan)))\n",
                "        label = args.pop(0) if labels and args else \"_nolegend\"\n",
                "        plt.plot(xs, ys[:len(xs)], *args, label=label)\n",
                "\n",
                "\n",
                "def plot(xs: list[float], *ys_argss: list, labels:bool=False):\n",
                "    plt.close(\"all\")\n",
                "    for [ys, *args] in ys_argss:\n",
                "        _plot_curve(xs, ys, args, labels)\n",
                "    if labels:\n",
                "        plt.legend()\n",
                "\n",
                "def plots(*plots: list[list], labels:bool=False):\n",
                "    plt.close(\"all\")\n",
                "    for [xs, ys, *args] in plots:\n",
                "        _plot_curve(xs, ys, args, labels)\n",
                "    if labels:\n",
                "        plt.legend()\n",
                "\n",
                "def print_errs(pnames: list[str], popts: np.ndarray, pcovs: np.ndarray):\n",
                "    perrs = np.sqrt(np.diag(pcovs))\n",
                "    perr_rels = abs(perrs / popts)\n",
                "    for p, popt, perr_rel in zip(pnames, popts, perr_rels):\n",
                "        print(f\"{p:6s} = {popt:6.3f} ± {100*perr_rel:4.2f}%\")\n",
                "\n",
                "\n",
                "def sigmoid_gaussian(x: T, x0: float, y0: float, sx: float, sy_s: float, sy_g: float) -> T:\n",
                "    return y0 + sy_s / (1 + np.exp(-(x - x0) / sx)) + sy_g * np.exp(-((x-x0)/sx)**2)\n",
                "\n",
                "def jac_sigmoid_gaussian(x: T, x0: float, y0: float, sx: float, sy_s: float, sy_g: float) -> T:\n",
                "    x = (x - x0) / sx\n",
                "    ex = np.exp(-x)\n",
                "    ex2 = np.exp(-x**2)\n",
                "\n",
                "    j_x0 = -1/sx * (sy_s * ex / (1 + ex)**2 - 2 * x * sy_g * ex2)\n",
                "    j_y0 = np.ones_like(x)\n",
                "    j_sx = x * j_x0\n",
                "    j_sy_s = 1 / (1 + ex)\n",
                "    j_sy_g = ex2\n",
                "\n",
                "    return np.array([j_x0, j_y0, j_sx, j_sy_s, j_sy_g]).T\n",
                "\n",
                "def get_sigmoid_gaussian_fit(xs: list[float], ys: list[float]) -> tuple[np.ndarray, np.ndarray]:\n",
                "    p0 = [xs[np.argmax(ys)], min(ys), max(xs) - min(xs), ys[-1] - ys[0], max(ys) - ys[-1]]\n",
                "    return opt.curve_fit(sigmoid_gaussian, xs, ys, p0, method=\"dogbox\", bounds=([-np.inf, -np.inf, 0, -np.inf, -np.inf], np.inf))\n",
                "\n",
                "def get_growth_rate_sigmoid_gaussian(popts: np.ndarray, pcovs: np.ndarray) -> tuple[float, float]:\n",
                "    return 1 / popts[2], np.sqrt(pcovs[2, 2]) / popts[2]**2\n",
                "\n",
                "\n",
                "def exponential(x: T, y0: float, sx: float, sy: float) -> T:\n",
                "    return y0 + sy * np.exp(x / sx)\n",
                "\n",
                "def get_exponential_fit(xs: list[float], ys: list[float]) -> tuple[np.ndarray, np.ndarray]:\n",
                "    p0 = [ys[0], xs[-1] - xs[0], ys[-1] - ys[0]]\n",
                "    return opt.curve_fit(exponential, xs, ys, p0, method='dogbox')\n",
                "\n",
                "def get_growth_rate_exponential(popts: np.ndarray, pcovs: np.ndarray) -> tuple[float, float]:\n",
                "    return 1 / popts[1], np.sqrt(pcovs[1, 1]) / popts[1]**2"
            ]
        },
        {
            "cell_type": "markdown",
            "metadata": {},
            "source": [
                "# Load Data"
            ]
        },
        {
            "cell_type": "code",
            "execution_count": null,
            "metadata": {},
            "outputs": [],
            "source": [
                "path = f\"/mnt/lustre/IAM851/jm1667/psc-runs/case1/trials/exact/B00.25-n512-cont/\"\n",
                "\n",
                "run_manager = bgk.RunManager(path)\n",
                "params_record = run_manager.params_record\n",
                "run_diagnostics = run_manager.run_diagnostics\n",
                "\n",
                "size = run_diagnostics.domain_size\n",
                "struct_radius = run_diagnostics.hole_radius\n",
                "\n",
                "whole_view = bgk.Bounds3D.whole()\n",
                "center_view = bgk.Bounds3D.center_yz(struct_radius)\n",
                "\n",
                "run_diagnostics.print_params()\n",
                "run_diagnostics.check_params()"
            ]
        },
        {
            "cell_type": "code",
            "execution_count": null,
            "metadata": {},
            "outputs": [],
            "source": [
                "# fiddle with this until as many steps as possible are used (usually, they can all be used)\n",
                "nframes = 201\n",
                "\n",
                "videoMaker = bgk.VideoMaker(nframes, run_manager)\n",
                "\n",
                "videoMaker.frame_manager.print_coverage()"
            ]
        },
        {
            "cell_type": "code",
            "execution_count": null,
            "metadata": {},
            "outputs": [],
            "source": [
                "videoMaker.set_param(rp.e_phi)\n",
                "videoMaker.set_view_bounds(whole_view)"
            ]
        },
        {
            "cell_type": "markdown",
            "metadata": {},
            "source": [
                "# Preprocessing"
            ]
        },
        {
            "cell_type": "code",
            "execution_count": null,
            "metadata": {},
            "outputs": [],
            "source": [
                "rho = 1.3 * run_diagnostics.hole_radius"
            ]
        },
        {
            "cell_type": "code",
            "execution_count": null,
            "metadata": {},
            "outputs": [],
            "source": [
                "drho = run_diagnostics.domain_size / 100\n",
                "\n",
                "def getRslice(data: xr.DataArray, rho: float) -> xr.DataArray:\n",
                "    return data.where((rho <= videoMaker.grid_rho) & (videoMaker.grid_rho < rho + drho))\n",
                "\n",
                "def get_y(data: xr.DataArray, rho: float) -> float:\n",
                "    return abs(getRslice(data, rho)).mean() * 1e5\n",
                "\n",
                "def get_ys(rho: float) -> np.ndarray:\n",
                "    return [get_y(data, rho) for data in videoMaker.datas]"
            ]
        },
        {
            "cell_type": "code",
            "execution_count": null,
            "metadata": {},
            "outputs": [],
            "source": [
                "%matplotlib inline\n",
                "plt.close(\"all\")\n",
                "im = plt.imshow(getRslice(videoMaker.datas[-1], rho), origin=\"lower\", extent=videoMaker.view_bounds.get_extent())\n",
                "plt.colorbar(im)"
            ]
        },
        {
            "cell_type": "code",
            "execution_count": null,
            "metadata": {},
            "outputs": [],
            "source": [
                "smoother = lambda arr: smooth(arr, 25, keep_edge=\"both\", keep_edge_half=True, pad=\"trim_kernel\", kernel=\"gauss\", extent=3)\n",
                "ts = smoother(videoMaker.axis_t)\n",
                "ys = smoother(get_ys(rho))"
            ]
        },
        {
            "cell_type": "markdown",
            "metadata": {},
            "source": [
                "# Fits"
            ]
        },
        {
            "cell_type": "markdown",
            "metadata": {},
            "source": [
                "## Fit Sigmoid"
            ]
        },
        {
            "cell_type": "code",
            "execution_count": null,
            "metadata": {},
            "outputs": [],
            "source": [
                "popts_sg, pcovs_sg = get_sigmoid_gaussian_fit(ts, ys)\n",
                "plot(ts, [ys, \".\"], [sigmoid_gaussian(ts, *popts_sg), \"-\"])\n",
                "print_errs([\"t0\", \"y0\", \"st\", \"sy_s\", \"sy_g\"], popts_sg, pcovs_sg)"
            ]
        },
        {
            "cell_type": "markdown",
            "metadata": {},
            "source": [
                "## Fit Exponential"
            ]
        },
        {
            "cell_type": "code",
            "execution_count": null,
            "metadata": {},
            "outputs": [],
            "source": [
                "tstart = 0\n",
                "tstop = 50\n",
                "growth_phase = slice(np.argmax(ts > tstart), np.argmax(ts > tstop))\n",
                "\n",
                "ts2 = ts[growth_phase]\n",
                "ys2 = ys[growth_phase]"
            ]
        },
        {
            "cell_type": "code",
            "execution_count": null,
            "metadata": {},
            "outputs": [],
            "source": [
                "popts_exp, pcovs_exp = get_exponential_fit(ts2, ys2)\n",
                "print_errs([\"y0\", \"st\", \"sy\"], popts_exp, pcovs_exp)\n",
                "plot(ts2, [ys2, \".\"], [exponential(ts2, *popts_exp), \"-\"], [exponential(ts2 - popts_sg[0], *popts_sg[1:4]), \"--\"])\n",
                "# plot(ts2, [ys2, \".\"], [exponential(ts2, *popts_exp), \"-\"])"
            ]
        },
        {
            "cell_type": "code",
            "execution_count": null,
            "metadata": {},
            "outputs": [],
            "source": [
                "growth_rate_exp, growth_rate_exp_err = get_growth_rate_exponential(popts_exp, pcovs_exp)\n",
                "growth_rate_sg, growth_rate_sg_err = get_growth_rate_sigmoid_gaussian(popts_sg, pcovs_sg)\n",
                "\n",
                "print(f\"growth rate exp: {growth_rate_exp:.4f} ± {growth_rate_exp_err:.4f}\")\n",
                "print(f\"growth rate sg:  {growth_rate_sg:.4f} ± {growth_rate_sg_err:.4f}\")"
            ]
        },
        {
            "cell_type": "markdown",
            "metadata": {},
            "source": [
                "## Rho Dependence"
            ]
        },
        {
            "cell_type": "code",
            "execution_count": null,
            "metadata": {},
            "outputs": [],
            "source": [
                "from dataclasses import dataclass\n",
                "    \n",
                "@dataclass\n",
                "class Growth:\n",
                "    time_start: float\n",
                "    time_stop: float\n",
                "    rate: float\n",
                "    rate_err: float\n",
                "\n",
                "    def exclude(self) -> bool:\n",
                "        return self.rate < 5 * self.rate_err or self.rate_err < 1e-6\n",
                "    \n",
                "    @classmethod\n",
                "    def empty(cls):\n",
                "        return Growth(np.nan, np.nan, np.nan, np.inf)\n",
                "\n",
                "def get_growth(ts: np.ndarray, ys: np.ndarray) -> Growth:\n",
                "    try:\n",
                "        popts, pcovs = get_exponential_fit(ts, ys)\n",
                "        rate, rate_err = get_growth_rate_exponential(popts, pcovs)\n",
                "        return Growth(ts[0], ts[-1], rate, rate_err)\n",
                "    except:\n",
                "        return Growth.empty()\n",
                "\n",
                "def get_growth_opt(ts_raw: np.ndarray, ys_raw: np.ndarray) -> Growth:\n",
                "    lbound = 0\n",
                "    ubound = np.argmax(ys_raw)\n",
                "    min_pts = 10\n",
                "\n",
                "    best = Growth.empty()\n",
                "    for istop in range(lbound + min_pts, ubound, min_pts//2):\n",
                "        for istart in range(lbound, istop - min_pts, min_pts//2):\n",
                "            g = get_growth(ts_raw[istart:istop], ys_raw[istart:istop])\n",
                "            if not g.exclude() and g.rate_err < best.rate_err:\n",
                "                best = g\n",
                "    return best"
            ]
        },
        {
            "cell_type": "code",
            "execution_count": null,
            "metadata": {},
            "outputs": [],
            "source": [
                "rhos = np.linspace(run_diagnostics.hole_radius / 2, run_diagnostics.domain_size / 2, 100)\n",
                "\n",
                "yss = [smoother(get_ys(rho)) for rho in rhos]\n",
                "ts2 = smoother(videoMaker.axis_t)"
            ]
        },
        {
            "cell_type": "code",
            "execution_count": null,
            "metadata": {},
            "outputs": [],
            "source": [
                "# growths = [get_growth_opt(ts2, ys) for ys in yss]\n",
                "growths = [get_growth(ts2[:50], ys[:50]) for ys in yss]"
            ]
        },
        {
            "cell_type": "code",
            "execution_count": null,
            "metadata": {},
            "outputs": [],
            "source": [
                "rhos_sparse = np.array(rhos)\n",
                "for i, g in enumerate(growths):\n",
                "    if g.exclude():\n",
                "        rhos_sparse[i] = np.nan"
            ]
        },
        {
            "cell_type": "code",
            "execution_count": null,
            "metadata": {},
            "outputs": [],
            "source": [
                "fig, ax1 = plt.subplots()\n",
                "ax2 = ax1.twinx()\n",
                "ax1.set_zorder(ax2.get_zorder() + 1)\n",
                "ax1.set_facecolor('none')\n",
                "\n",
                "color_ax1 = \"b\"\n",
                "color_ax2 = \"g\"\n",
                "\n",
                "ax1.set_title(\"Linear Growth Rates\")\n",
                "ax1.set_xlabel(rf\"$\\rho$\")\n",
                "ax1.set_ylabel(\"Growth Rate\", color=color_ax1)\n",
                "ax1.errorbar(rhos_sparse, [g.rate for g in growths], yerr=[g.rate_err for g in growths], color=color_ax1, capsize=1.7)\n",
                "ax1.set_ylim(bottom=0)\n",
                "ax2.set_ylabel(\"Period of Linear Growth (t)\", color=color_ax2)\n",
                "ax2.vlines(rhos_sparse, [g.time_start for g in growths], [g.time_stop for g in growths], colors=color_ax2, alpha=.4)\n",
                "ax2.set_ylim(bottom=0)"
            ]
        },
        {
            "cell_type": "code",
            "execution_count": null,
            "metadata": {},
            "outputs": [],
            "source": [
                "os.makedirs(\"figs-test\", exist_ok=True)\n",
                "util.save_fig(fig, f\"figs-test/growth2-{videoMaker._currentParam.name}-{params_record.init_strategy}-B{params_record.B0:4.2f}-n{params_record.res}.png\")"
            ]
        },
        {
            "cell_type": "markdown",
            "metadata": {},
            "source": [
                "## Detecting Linear Region"
            ]
        },
        {
            "cell_type": "code",
            "execution_count": null,
            "metadata": {},
            "outputs": [],
            "source": [
                "def grad_nice(ys: np.ndarray, xs: np.ndarray, rolling_window: int) -> tuple[np.ndarray, np.ndarray]:\n",
                "    # grad = np.gradient(ys, xs)\n",
                "    grad = (ys[1:] - ys[:-1]) / (xs[1:] - xs[:-1])\n",
                "    xs = (xs[1:] + xs[:-1]) / 2\n",
                "    # remove nans\n",
                "    where_finite = np.isfinite(grad)\n",
                "    grad = grad[where_finite]\n",
                "    xs = xs[where_finite]\n",
                "    # smooth\n",
                "    # grad = moving_average(grad, rolling_window)\n",
                "    # xs = moving_average(xs, rolling_window)\n",
                "    # rescale to [-1, 1]\n",
                "    grad /= max(abs(grad))\n",
                "    return grad, xs\n",
                "\n",
                "def grad2_conv(ys: np.ndarray, xs: np.ndarray, smooth_width: int) -> tuple[np.ndarray, np.ndarray]:\n",
                "    smooth_width = 30\n",
                "    x_conv = np.linspace(-3, 3, smooth_width)\n",
                "    y_conv = (4 * x_conv**2 - 2) * np.exp(-x_conv**2) / smooth_width * 8\n",
                "    return np.convolve(ys, y_conv, mode=\"valid\")\n",
                "\n",
                "def log_nice(ys: np.ndarray) -> np.ndarray:\n",
                "    logys = np.log(ys)\n",
                "    # filter infs\n",
                "    logys[np.isinf(logys)] = np.nan\n",
                "    return logys\n",
                "    "
            ]
        },
        {
            "cell_type": "code",
            "execution_count": null,
            "metadata": {},
            "outputs": [],
            "source": [
                "rho = run_diagnostics.hole_radius * 1.3\n",
                "ts = smoother(videoMaker.axis_t)\n",
                "ys = smoother(get_ys(rho))"
            ]
        },
        {
            "cell_type": "code",
            "execution_count": null,
            "metadata": {},
            "outputs": [],
            "source": [
                "# y = y0 + Y * exp(t/T)\n",
                "# dy = Y/T * exp(t/T)\n",
                "# log dy = log(Y/T) * t/T\n",
                "# d log dy = log(Y/T) / T"
            ]
        },
        {
            "cell_type": "code",
            "execution_count": null,
            "metadata": {},
            "outputs": [],
            "source": [
                "# logys = log_nice(ys - y0)\n",
                "# dlogys = np.gradient(logys, ts)\n",
                "# ddlogys = np.gradient(dlogys, ts)\n",
                "\n",
                "dys, ts2 = grad_nice(ys, ts, 10)\n",
                "logdys = log_nice(dys)\n",
                "dlogdys, ts3 = grad_nice(logdys, ts2, 10)\n",
                "ddlogdys, ts4 = grad_nice(dlogdys, ts3, 10)"
            ]
        },
        {
            "cell_type": "code",
            "execution_count": null,
            "metadata": {},
            "outputs": [],
            "source": [
                "# plot(ts, [np.zeros_like(ts)], [ys, \"y\"], [ddlogys / max(abs(ddlogys)), \"ddlog\"], [dlogys / max(abs(dlogys)), \"dlog\"], [logys, \"log\"], labels=True)\n",
                "# plot(ts, [np.zeros_like(ts)], [ys, \"y\"], [dys, \"d\"], [logdys, \"logd\"], [dlogdys, \"dlogd\"], [ddlogdys, \"ddlogd\"], labels=True)\n",
                "plt.close(\"all\")\n",
                "plt.plot(ts, np.zeros_like(ts))\n",
                "plt.plot(ts, ys, label=\"y\")\n",
                "plt.plot(ts2, dys, label=\"dy\")\n",
                "plt.plot(ts2, logdys, label=\"logdy\")\n",
                "plt.plot(ts3, dlogdys, label=\"dlogdy\")\n",
                "plt.plot(ts4, ddlogdys, label=\"ddlogdy\")\n",
                "plt.legend()"
            ]
        },
        {
            "cell_type": "code",
            "execution_count": null,
            "metadata": {},
            "outputs": [],
            "source": [
                "smooth_width = 30\n",
                "x_conv = np.linspace(-3,3,smooth_width)\n",
                "y_conv = (4*x_conv**2 - 2) * np.exp(-x_conv**2) / smooth_width * 8"
            ]
        },
        {
            "cell_type": "code",
            "execution_count": null,
            "metadata": {},
            "outputs": [],
            "source": [
                "ddlogys_conv = np.convolve(logys, y_conv, mode=\"valid\")\n",
                "plot(ts, [ddlogys_conv])"
            ]
        },
        {
            "cell_type": "code",
            "execution_count": null,
            "metadata": {},
            "outputs": [],
            "source": []
        }
    ],
    "metadata": {
        "kernelspec": {
            "display_name": "Python 3",
            "language": "python",
            "name": "python3"
        },
        "language_info": {
            "codemirror_mode": {
                "name": "ipython",
                "version": 3
            },
            "file_extension": ".py",
            "mimetype": "text/x-python",
            "name": "python",
            "nbconvert_exporter": "python",
            "pygments_lexer": "ipython3",
            "version": "3.11.2"
        },
        "orig_nbformat": 4
    },
    "nbformat": 4,
    "nbformat_minor": 2
}