{
 "cells": [
  {
   "cell_type": "code",
   "execution_count": null,
   "metadata": {},
   "outputs": [],
   "source": [
    "import h5py\n",
    "import matplotlib as mpl\n",
    "from matplotlib import pyplot as plt\n",
    "import numpy as np\n",
    "import pandas as pd"
   ]
  },
  {
   "cell_type": "code",
   "execution_count": null,
   "metadata": {},
   "outputs": [],
   "source": [
    "path = '/mnt/lustre/IAM851/jm1667/psc-runs/case1/single_static/B10_n512_v+'"
   ]
  },
  {
   "cell_type": "code",
   "execution_count": null,
   "metadata": {},
   "outputs": [],
   "source": [
    "def read_step(step: int):\n",
    "    rank = 0\n",
    "    df = pd.read_hdf(path + f\"/prt.{step:06d}_p{rank:06d}.h5\", 'particles/p0/1d')\n",
    "    df = df[df.q == -1]\n",
    "    df[\"step\"] = step\n",
    "    return df"
   ]
  },
  {
   "cell_type": "code",
   "execution_count": null,
   "metadata": {},
   "outputs": [],
   "source": [
    "steps = range(0, 100000, 1000)\n",
    "dfs = [read_step(steps[0])[::1000000]]\n",
    "ids = dfs[0].id\n",
    "for step in steps[1:]:\n",
    "    df = read_step(step)\n",
    "    dfs.append(df[df.id.isin(ids)])\n",
    "\n",
    "dfs = pd.concat(dfs)\n",
    "dfs.sort_values(by=[\"id\"]);"
   ]
  },
  {
   "cell_type": "code",
   "execution_count": null,
   "metadata": {},
   "outputs": [],
   "source": [
    "%matplotlib widget\n",
    "dfs.plot.scatter(x=\"y\", y=\"z\", marker='.')\n",
    "plt.gca().set_aspect(1)\n",
    "# plt.quiver(dfs.y, dfs.z, dfs.py, dfs.pz)"
   ]
  },
  {
   "cell_type": "code",
   "execution_count": null,
   "metadata": {},
   "outputs": [],
   "source": [
    "df1 = df.iloc[::100]\n",
    "df1[df1.q==-1].plot.scatter('z', 'y', marker='.')\n",
    "plt.gca().set_aspect(1);\n",
    "#plt.xlim(4, 6)\n",
    "#plt.ylim(4, 6)\n",
    "plt.tight_layout()"
   ]
  },
  {
   "cell_type": "code",
   "execution_count": null,
   "metadata": {},
   "outputs": [],
   "source": [
    "def plot_distribution(df1):\n",
    "    fig, ax = plt.subplots(1, 2)\n",
    "    df1[df1.q==-1].plot.hexbin('py', 'pz', gridsize=50, ax=ax[0]);\n",
    "    # ax[0].set_xlim(-.005, .005)\n",
    "    # ax[0].set_ylim(-.005, .005)\n",
    "    ax[0].set_aspect(1.)\n",
    "    df1[df1.q==1].plot.hexbin('py', 'pz', gridsize=50, ax=ax[1]);\n",
    "    # ax[1].set_xlim(-.5, .5)\n",
    "    # ax[1].set_ylim(-.5, .5)\n",
    "    ax[1].set_aspect(1.)"
   ]
  },
  {
   "cell_type": "code",
   "execution_count": null,
   "metadata": {},
   "outputs": [],
   "source": [
    "plot_distribution(df)"
   ]
  }
 ],
 "metadata": {
  "kernelspec": {
   "display_name": "Python 3.9.6 (conda)",
   "language": "python",
   "name": "python3"
  },
  "language_info": {
   "codemirror_mode": {
    "name": "ipython",
    "version": 3
   },
   "file_extension": ".py",
   "mimetype": "text/x-python",
   "name": "python",
   "nbconvert_exporter": "python",
   "pygments_lexer": "ipython3",
   "version": "3.9.6"
  },
  "vscode": {
   "interpreter": {
    "hash": "59f2629c73b3a2e9dda9fcb3aaef44005eb025cd0f43af32343255decab64b9c"
   }
  }
 },
 "nbformat": 4,
 "nbformat_minor": 4
}
