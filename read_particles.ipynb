{
 "cells": [
  {
   "cell_type": "code",
   "execution_count": null,
   "metadata": {},
   "outputs": [],
   "source": [
    "import h5py\n",
    "import matplotlib as mpl\n",
    "from matplotlib import pyplot as plt\n",
    "import numpy as np\n",
    "import pandas as pd"
   ]
  },
  {
   "cell_type": "code",
   "execution_count": null,
   "metadata": {},
   "outputs": [],
   "source": [
    "def read_step(step: int, electronsOnly: bool = True):\n",
    "    rank = 0\n",
    "    df = pd.read_hdf(path + f\"prt.{step:06d}_p{rank:06d}.h5\", 'particles/p0/1d')\n",
    "    df.drop(columns=[\"x\", \"px\", \"m\", \"w\", \"tag\"], inplace=True)\n",
    "    if electronsOnly:\n",
    "        df = df[df.q == -1]\n",
    "        df.drop(columns=[\"q\"], inplace=True)\n",
    "    df[\"step\"] = step\n",
    "    return df\n",
    "\n",
    "def plot_distribution(df, x: str, y: str):\n",
    "    fig, ax = plt.subplots(1, 1)\n",
    "    df.plot.hexbin(x, y, gridsize=50, ax=ax);\n",
    "    if x.endswith(tuple(\"y, z\")) and y.endswith(tuple(\"y, z\")):\n",
    "        ax.set_aspect(1.)"
   ]
  },
  {
   "cell_type": "code",
   "execution_count": null,
   "metadata": {},
   "outputs": [],
   "source": [
    "path = '/mnt/lustre/IAM851/jm1667/psc-runs/case1/single_prt/B10_n512_v+/'"
   ]
  },
  {
   "cell_type": "markdown",
   "metadata": {},
   "source": [
    "## View paths of sample particles"
   ]
  },
  {
   "cell_type": "code",
   "execution_count": null,
   "metadata": {},
   "outputs": [],
   "source": [
    "steps = range(0, 100000, 10000)\n",
    "dfs = [read_step(steps[0])[::100000]]\n",
    "ids = dfs[0].id\n",
    "for step in steps[1:]:\n",
    "    df = read_step(step)\n",
    "    dfs.append(df[df.id.isin(ids)])\n",
    "\n",
    "dfs = pd.concat(dfs)\n",
    "dfs.sort_values(by=[\"id\"]);"
   ]
  },
  {
   "cell_type": "code",
   "execution_count": null,
   "metadata": {},
   "outputs": [],
   "source": [
    "%matplotlib widget\n",
    "dfs.plot.scatter(x=\"y\", y=\"z\", marker='.', c=\"id\")\n",
    "# plt.quiver(dfs.y, dfs.z, dfs.py, dfs.pz)\n",
    "plt.gca().set_aspect(1)"
   ]
  },
  {
   "cell_type": "code",
   "execution_count": null,
   "metadata": {},
   "outputs": [],
   "source": [
    "step = 10000\n",
    "df = read_step(step).iloc[::100]\n",
    "df[df.q==-1].plot.scatter('z', 'y', marker='.')\n",
    "plt.gca().set_aspect(1);\n",
    "plt.tight_layout()"
   ]
  },
  {
   "cell_type": "code",
   "execution_count": null,
   "metadata": {},
   "outputs": [],
   "source": [
    "plot_distribution(df, \"py\", \"pz\")"
   ]
  },
  {
   "cell_type": "markdown",
   "metadata": {},
   "source": [
    "## View f(w, l)"
   ]
  },
  {
   "cell_type": "code",
   "execution_count": null,
   "metadata": {},
   "outputs": [],
   "source": [
    "import bgk"
   ]
  },
  {
   "cell_type": "code",
   "execution_count": null,
   "metadata": {},
   "outputs": [],
   "source": [
    "inputFile = bgk.readParam(path, \"path_to_data\", str)\n",
    "B = bgk.readParam(path, \"H_x\", int)\n",
    "maxStep = bgk.readParam(path, \"nmax\", int)\n",
    "\n",
    "print(f\"Path={path}\")\n",
    "print(f\"Input{inputFile}\")\n",
    "print(f\"max step={maxStep}\")\n",
    "print(f\"B={B}\")"
   ]
  },
  {
   "cell_type": "code",
   "execution_count": null,
   "metadata": {},
   "outputs": [],
   "source": [
    "input = bgk.Input(inputFile)\n",
    "\n",
    "# convert to CS units\n",
    "beta = input.Te[0] ** .5\n",
    "df.y = df.y / beta\n",
    "df.z = df.z / beta\n",
    "df.py = df.py / beta\n",
    "df.pz = df.pz / beta\n",
    "input.convert_to_cs_units()"
   ]
  },
  {
   "cell_type": "code",
   "execution_count": null,
   "metadata": {},
   "outputs": [],
   "source": [
    "step = 1000000\n",
    "df = read_step(step)\n",
    "df"
   ]
  },
  {
   "cell_type": "code",
   "execution_count": null,
   "metadata": {},
   "outputs": [],
   "source": [
    "df[\"r\"] = (df.y ** 2 + df.z ** 2) ** .5\n",
    "df[\"v_phi\"] = (df.pz * df.y - df.py * df.z) / df.r\n",
    "df[\"w\"] = (df.py ** 2 + df.pz ** 2) / 2 - df.r.map(lambda r: input.interpolate_value(r, \"Psi\"))\n",
    "df[\"l\"] = 2 * df.r * df.v_phi - B * df.r ** 2\n",
    "df"
   ]
  },
  {
   "cell_type": "code",
   "execution_count": null,
   "metadata": {},
   "outputs": [],
   "source": [
    "%matplotlib widget\n",
    "plot_distribution(df, \"w\", \"l\")"
   ]
  }
 ],
 "metadata": {
  "kernelspec": {
   "display_name": "Python 3.9.6 (conda)",
   "language": "python",
   "name": "python3"
  },
  "language_info": {
   "codemirror_mode": {
    "name": "ipython",
    "version": 3
   },
   "file_extension": ".py",
   "mimetype": "text/x-python",
   "name": "python",
   "nbconvert_exporter": "python",
   "pygments_lexer": "ipython3",
   "version": "3.9.6"
  },
  "vscode": {
   "interpreter": {
    "hash": "59f2629c73b3a2e9dda9fcb3aaef44005eb025cd0f43af32343255decab64b9c"
   }
  }
 },
 "nbformat": 4,
 "nbformat_minor": 4
}
