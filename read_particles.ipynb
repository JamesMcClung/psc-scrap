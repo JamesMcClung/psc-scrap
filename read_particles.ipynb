{
 "cells": [
  {
   "cell_type": "code",
   "execution_count": null,
   "metadata": {},
   "outputs": [],
   "source": [
    "import h5py\n",
    "import matplotlib as mpl\n",
    "from matplotlib import pyplot as plt\n",
    "import numpy as np\n",
    "import pandas as pd"
   ]
  },
  {
   "cell_type": "code",
   "execution_count": null,
   "metadata": {},
   "outputs": [],
   "source": [
    "def read_step(step: int, electronsOnly: bool = True):\n",
    "    rank = 0\n",
    "    df = pd.read_hdf(path + f\"prt.{step:06d}_p{rank:06d}.h5\", 'particles/p0/1d')\n",
    "    df.drop(columns=[\"x\", \"px\", \"m\", \"w\", \"tag\"], inplace=True)\n",
    "    if electronsOnly:\n",
    "        df = df[df.q == -1]\n",
    "        df.drop(columns=[\"q\"], inplace=True)\n",
    "    df[\"step\"] = step\n",
    "    return df\n",
    "\n",
    "def plot_distribution(df, x: str, y: str):\n",
    "    fig, ax = plt.subplots(1, 1)\n",
    "    df.plot.hexbin(x, y, gridsize=50, ax=ax);\n",
    "    ax.set_title(f\"f({x}, {y}) at t={t} for B={B}\")\n",
    "    if x.endswith(tuple(\"y, z\")) and y.endswith(tuple(\"y, z\")):\n",
    "        ax.set_aspect(1.)"
   ]
  },
  {
   "attachments": {},
   "cell_type": "markdown",
   "metadata": {},
   "source": [
    "## View paths of sample particles"
   ]
  },
  {
   "cell_type": "code",
   "execution_count": null,
   "metadata": {},
   "outputs": [],
   "source": [
    "path = '/mnt/lustre/IAM851/jm1667/psc-runs/case1/single/B.1_n512_v+/'\n",
    "\n",
    "steps = range(0, 100000, 10000)\n",
    "dfs = [read_step(steps[0])[::100000]]\n",
    "ids = dfs[0].id\n",
    "for step in steps[1:]:\n",
    "    df = read_step(step)\n",
    "    dfs.append(df[df.id.isin(ids)])\n",
    "\n",
    "dfs = pd.concat(dfs)\n",
    "dfs.sort_values(by=[\"id\"]);"
   ]
  },
  {
   "cell_type": "code",
   "execution_count": null,
   "metadata": {},
   "outputs": [],
   "source": [
    "%matplotlib widget\n",
    "dfs.plot.scatter(x=\"y\", y=\"z\", marker='.', c=\"id\")\n",
    "# plt.quiver(dfs.y, dfs.z, dfs.py, dfs.pz)\n",
    "plt.gca().set_aspect(1)"
   ]
  },
  {
   "cell_type": "code",
   "execution_count": null,
   "metadata": {},
   "outputs": [],
   "source": [
    "step = 10000\n",
    "df = read_step(step).iloc[::100]\n",
    "df.plot.scatter('z', 'y', marker='.')\n",
    "plt.gca().set_aspect(1);\n",
    "plt.tight_layout()"
   ]
  },
  {
   "cell_type": "code",
   "execution_count": null,
   "metadata": {},
   "outputs": [],
   "source": [
    "plot_distribution(df, \"py\", \"pz\")"
   ]
  },
  {
   "attachments": {},
   "cell_type": "markdown",
   "metadata": {},
   "source": [
    "## View f"
   ]
  },
  {
   "cell_type": "code",
   "execution_count": null,
   "metadata": {},
   "outputs": [],
   "source": [
    "import bgk"
   ]
  },
  {
   "cell_type": "code",
   "execution_count": null,
   "metadata": {},
   "outputs": [],
   "source": [
    "# 5a: 4 nodes, release -> FAILS unless \n",
    "# 5b: 1 node, release\n",
    "# 5c: 4 nodes, debug -> WORKS\n",
    "# path = '/mnt/lustre/IAM851/jm1667/psc-runs/tests/test7/' # worked\n",
    "path = '/mnt/lustre/IAM851/jm1667/psc-runs/case1/trials/exact/B00.10-n256/'\n",
    "params_record = bgk.backend.ParamsRecord(path)\n",
    "\n",
    "inputFile = params_record.path_to_input\n",
    "B = params_record.B0\n",
    "maxStep = params_record.nmax\n",
    "reversed = params_record.reversed\n",
    "\n",
    "print(f\"path={path}\")\n",
    "print(f\"input={inputFile}\")\n",
    "print(f\"max step={maxStep}\")\n",
    "print(f\"B={B}\")\n",
    "print(f\"reversed={reversed}\")"
   ]
  },
  {
   "cell_type": "code",
   "execution_count": null,
   "metadata": {},
   "outputs": [],
   "source": [
    "step = 0\n",
    "t = bgk.Loader(path, engine=\"pscadios2\", species_names=['e', 'i'])._get_xr_dataset(\"pfd\", step).time\n",
    "print(f\"t={t}\")\n",
    "\n",
    "df = read_step(step)\n",
    "input = bgk.Input(inputFile)\n",
    "\n",
    "df[\"r\"] = (df.y ** 2 + df.z ** 2) ** .5\n",
    "df[\"v_phi\"] = (df.pz * df.y - df.py * df.z) / df.r\n",
    "df[\"v_rho\"] = (df.py * df.y + df.pz * df.z) / df.r\n",
    "df.v_phi.fillna(0, inplace=True)\n",
    "df.v_rho.fillna(0, inplace=True)\n",
    "# df[\"w\"] = (df.py ** 2 + df.pz ** 2) / 2 - df.r.map(lambda r: input.interpolate_value(r, \"Psi\"))\n",
    "# df[\"l\"] = 2 * df.r * df.v_phi - B * df.r ** 2"
   ]
  },
  {
   "cell_type": "code",
   "execution_count": null,
   "metadata": {},
   "outputs": [],
   "source": [
    "# df = df[abs(df.v_phi) > 10]\n",
    "df[abs(df.v_phi) > .1]"
   ]
  },
  {
   "cell_type": "code",
   "execution_count": null,
   "metadata": {},
   "outputs": [],
   "source": [
    "hist, rhos, v_phis = np.histogram2d(df.r, df.v_phi, bins=[60,80])\n",
    "\n",
    "v_phis_cc = (v_phis[1:] + v_phis[:-1]) / 2\n",
    "rhos_cc = (rhos[1:] + rhos[:-1]) / 2\n",
    "fs2d = hist.T / rhos_cc\n",
    "\n",
    "mean_v_phis = fs2d.T.dot(v_phis_cc) / fs2d.sum(axis=0)\n",
    "mean_v_phis_input = np.array([input.interpolate_value(rho, \"v_phi\") for rho in rhos_cc])"
   ]
  },
  {
   "cell_type": "code",
   "execution_count": null,
   "metadata": {},
   "outputs": [],
   "source": [
    "# f(rho, v_phi)\n",
    "plt.close(\"all\")\n",
    "%matplotlib widget\n",
    "plt.pcolormesh(rhos, v_phis, fs2d, cmap=\"Reds\")\n",
    "plt.xlabel(\"$\\\\rho$\")\n",
    "plt.ylabel(\"$v_\\\\phi$\")\n",
    "plt.plot(rhos_cc, mean_v_phis, 'k', label=\"actual mean\")\n",
    "plt.plot(rhos_cc, mean_v_phis_input, 'b', label=\"target mean\")\n",
    "plt.title(f\"f($\\\\rho$, $v_\\\\phi$) at t={t:.3f} for $B={B}$\")\n",
    "plt.colorbar()\n",
    "plt.legend()\n",
    "# plt.ylim(-.003, .003)\n",
    "pass # don't print any output"
   ]
  },
  {
   "cell_type": "code",
   "execution_count": null,
   "metadata": {},
   "outputs": [],
   "source": [
    "%matplotlib widget\n",
    "plot_distribution(df, \"y\", \"z\")\n",
    "# plot_distribution(df, \"r\", \"l\")\n",
    "# plot_distribution(df, \"r\", \"l\")\n",
    "# plot_distribution(df, \"r\", \"w\")"
   ]
  }
 ],
 "metadata": {
  "kernelspec": {
   "display_name": "Python 3.9.6 (conda)",
   "language": "python",
   "name": "python3"
  },
  "language_info": {
   "codemirror_mode": {
    "name": "ipython",
    "version": 3
   },
   "file_extension": ".py",
   "mimetype": "text/x-python",
   "name": "python",
   "nbconvert_exporter": "python",
   "pygments_lexer": "ipython3",
   "version": "3.11.2"
  },
  "vscode": {
   "interpreter": {
    "hash": "59f2629c73b3a2e9dda9fcb3aaef44005eb025cd0f43af32343255decab64b9c"
   }
  }
 },
 "nbformat": 4,
 "nbformat_minor": 4
}
