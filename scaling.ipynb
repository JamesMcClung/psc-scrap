{
 "cells": [
  {
   "cell_type": "code",
   "execution_count": null,
   "metadata": {},
   "outputs": [],
   "source": [
    "import bgk\n",
    "import matplotlib.pyplot as plt\n",
    "import bgk.run_params as rp\n",
    "import os"
   ]
  },
  {
   "cell_type": "code",
   "execution_count": null,
   "metadata": {},
   "outputs": [],
   "source": [
    "# Parameters to adjust figures\n",
    "case = \"exact\" # exact, max, exact-rev, or max-rev\n",
    "\n",
    "nframes = 100\n",
    "param = rp.ne"
   ]
  },
  {
   "cell_type": "code",
   "execution_count": null,
   "metadata": {},
   "outputs": [],
   "source": [
    "basepath = f\"/mnt/lustre/IAM851/jm1667/psc-runs/case1/trials/{case}/\"\n",
    "# paths = [\"B00.25-n256\", \"B00.25-n256-nicell400\", \"B00.25-n512-cont\", \"B00.25-n512-nicell25\", \"B00.25-n128\", \"B00.25-n128-nicell400\", \"B00.25-n128-nicell1600\"]\n",
    "from_ymls = [False] * 7\n",
    "Bs = [.25] * 7\n",
    "ress = [128] * 3 + [256] * 2 + [512] * 2\n",
    "maxsteps = [500_000] * 3 + [1_000_000] * 2 + [2_000_000] * 2\n",
    "nicells = [100, 400, 1600] + [100, 400] + [25, 100]\n",
    "conts = [False] * 3 + [False] * 2 + [False, True]\n",
    "# paths = [\"B00.10-n256\", \"B00.10-n512\", \"B00.10-n1024\", \"B00.10-n2048\"]\n",
    "# Bs = [.1] * 4\n",
    "# ress = [256, 512, 1024, 2048]\n",
    "# maxsteps = [1000000, 1000000, 2000000, 2000000]\n",
    "# from_ymls = [False, False, True, True]\n",
    "# nicells = [100, 100, 100, 100]\n",
    "\n",
    "paths = [f\"B{B:05.2f}-n{res}{f'-nicell{nicell}' if nicell != 100 else ''}{'-cont' if cont else ''}\" for B, res, nicell, cont in zip(Bs, ress, nicells, conts)]\n",
    "print(paths)"
   ]
  },
  {
   "cell_type": "code",
   "execution_count": null,
   "metadata": {},
   "outputs": [],
   "source": [
    "def get_line(path, res, maxstep, nframes, param) -> tuple[list[float], list[float]]:\n",
    "    run_manager = bgk.RunManager(path, maxstep)\n",
    "    videoMaker = bgk.VideoMaker(nframes, run_manager)\n",
    "\n",
    "    whole_view = bgk.Bounds3D.whole()\n",
    "    videoMaker.loadData(param)\n",
    "    videoMaker.set_view_bounds(whole_view)\n",
    "    \n",
    "    return videoMaker.times, videoMaker._getMeansAtOrigin(res//64)"
   ]
  },
  {
   "cell_type": "code",
   "execution_count": null,
   "metadata": {},
   "outputs": [],
   "source": [
    "# Load Data\n",
    "lines: list[tuple] = []\n",
    "for halfpath, res, maxstep, from_yml in zip(paths, ress, maxsteps, from_ymls):\n",
    "    if from_yml:\n",
    "        print(f\"Loading {halfpath} from yaml...\")\n",
    "        data = bgk.autofigs.figdata.OriginMeans(halfpath, param.name)\n",
    "        x, y = data.times, data.means\n",
    "        if maxstep:\n",
    "            x = x[:maxstep]\n",
    "            y = y[:maxstep]\n",
    "    else:   \n",
    "        path = basepath + halfpath\n",
    "        print(f\"Loading {path} from pfd...\")\n",
    "        # print(f\"{path}, res={res}, maxstep={maxstep}\")\n",
    "        x, y = get_line(path, res, maxstep, nframes, param)\n",
    "    lines.append((x, y))"
   ]
  },
  {
   "cell_type": "code",
   "execution_count": null,
   "metadata": {},
   "outputs": [],
   "source": [
    "# Generate Figure\n",
    "fig, ax = plt.subplots()\n",
    "\n",
    "ax.set_xlabel(\"Time\")\n",
    "ax.set_ylabel(f\"Mean {param.title}\")\n",
    "# ax.set_title(f\"Comparisons of Mean {param.title} Near Origin\")\n",
    "ax.set_title(f\"Comparisons of Mean {param.title} Near Origin for $B_0={.25}$\")\n",
    "\n",
    "for B, res, (x, y), nicell in zip(Bs, ress, lines, nicells):\n",
    "    # ax.plot(x, y, label=f\"$B_0={B}, n={res}$\")\n",
    "    \n",
    "    color = {256:\"tab:blue\", 512:\"tab:orange\", 128:\"tab:green\"}[res]\n",
    "    line = {100:\"dotted\", 400:\"dashed\", 1600:\"solid\"}[nicell * (res/128)**2]\n",
    "    ax.plot(x, y, label=f\"${res}^2, nicell={nicell}$\", color=color, ls=line)\n",
    "    print()\n",
    "\n",
    "\n",
    "ax.legend();"
   ]
  },
  {
   "cell_type": "code",
   "execution_count": null,
   "metadata": {},
   "outputs": [],
   "source": [
    "def get_fig_path(outdir, fig_name: str) -> str:\n",
    "    return os.path.join(outdir, fig_name)\n",
    "\n",
    "def get_fig_name() -> str:\n",
    "    param_str = param.title.replace(\"_\", \"\").replace(\"$\", \"\")\n",
    "    Bs_str = \",\".join([f\"B{B:05.2f}\" for B in set(Bs)])\n",
    "    return f\"scaling-{param_str}-{case}-{Bs_str}.png\""
   ]
  },
  {
   "cell_type": "code",
   "execution_count": null,
   "metadata": {},
   "outputs": [],
   "source": [
    "# Save Figure\n",
    "outdir = f\"/mnt/lustre/IAM851/jm1667/psc-scrap/figs-{case}-etc/\"\n",
    "os.makedirs(outdir, exist_ok=True)\n",
    "\n",
    "fig.savefig(get_fig_path(outdir, get_fig_name()), bbox_inches=\"tight\", pad_inches=0.01, dpi=300)"
   ]
  },
  {
   "cell_type": "code",
   "execution_count": null,
   "metadata": {},
   "outputs": [],
   "source": []
  }
 ],
 "metadata": {
  "kernelspec": {
   "display_name": "Python 3",
   "language": "python",
   "name": "python3"
  },
  "language_info": {
   "codemirror_mode": {
    "name": "ipython",
    "version": 3
   },
   "file_extension": ".py",
   "mimetype": "text/x-python",
   "name": "python",
   "nbconvert_exporter": "python",
   "pygments_lexer": "ipython3",
   "version": "3.11.2"
  },
  "orig_nbformat": 4
 },
 "nbformat": 4,
 "nbformat_minor": 2
}
