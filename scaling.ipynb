{
 "cells": [
  {
   "cell_type": "code",
   "execution_count": null,
   "metadata": {},
   "outputs": [],
   "source": [
    "import bgk\n",
    "import matplotlib.pyplot as plt\n",
    "import bgk.run_params as rp\n",
    "import os"
   ]
  },
  {
   "cell_type": "code",
   "execution_count": null,
   "metadata": {},
   "outputs": [],
   "source": [
    "# Parameters to adjust figures\n",
    "Bs = [.5, 1, 2]\n",
    "ress = [256, 512]\n",
    "case = [\"exact\", \"max\", \"exact-rev\", \"max-rev\"][0]\n",
    "\n",
    "nframes = 100\n",
    "param = rp.ne"
   ]
  },
  {
   "cell_type": "code",
   "execution_count": null,
   "metadata": {},
   "outputs": [],
   "source": [
    "path_fmt = f\"/mnt/lustre/IAM851/jm1667/psc-runs/case1/trials/{case}/B{{:05.2f}}-n{{}}/\"\n",
    "\n",
    "def get_line(B, res, nframes, param) -> tuple[list[float], list[float]]:\n",
    "    path = path_fmt.format(B, res)\n",
    "\n",
    "    loader = bgk.Loader(path, engine=\"pscadios2\", species_names=['e', 'i'])\n",
    "    videoMaker = bgk.VideoMaker(nframes, loader)\n",
    "\n",
    "    wholeSlice = bgk.DataSlice(slice(None, None), \"\")\n",
    "    videoMaker.loadData(param)\n",
    "    videoMaker.setSlice(wholeSlice)\n",
    "    \n",
    "    return videoMaker.times, videoMaker._getMeansAtOrigin(res//128)"
   ]
  },
  {
   "cell_type": "code",
   "execution_count": null,
   "metadata": {},
   "outputs": [],
   "source": [
    "# Load Data\n",
    "liness: list[list[tuple]] = []\n",
    "for B in Bs:\n",
    "    liness.append([])\n",
    "    for res in ress:\n",
    "        print(\"Loading \" + path_fmt.format(B, res) + \"...\")\n",
    "        x, y = get_line(B, res, nframes, param)\n",
    "        liness[-1].append((x, y))"
   ]
  },
  {
   "cell_type": "code",
   "execution_count": null,
   "metadata": {},
   "outputs": [],
   "source": [
    "# Generate Figure\n",
    "fig, ax = plt.subplots()\n",
    "\n",
    "ax.set_xlabel(\"Time\")\n",
    "ax.set_ylabel(f\"Mean {param.title}\")\n",
    "ax.set_title(f\"Comparisons of Mean {param.title} Near Origin\")\n",
    "\n",
    "for B, lines in zip(Bs, liness):\n",
    "    for res, (x, y) in zip(ress, lines):\n",
    "        ax.plot(x, y, label=f\"$B_0={B}, n={res}$\")\n",
    "\n",
    "\n",
    "ax.legend();"
   ]
  },
  {
   "cell_type": "code",
   "execution_count": null,
   "metadata": {},
   "outputs": [],
   "source": [
    "def get_fig_path(outdir, fig_name: str) -> str:\n",
    "    return os.path.join(outdir, fig_name)\n",
    "\n",
    "def get_fig_name() -> str:\n",
    "    param_str = param.title.replace(\"_\", \"\").replace(\"$\", \"\")\n",
    "    Bs_str = \",\".join([f\"B{B:05.2f}\" for B in Bs])\n",
    "    return f\"scaling-{param_str}-{case}-{Bs_str}.png\""
   ]
  },
  {
   "cell_type": "code",
   "execution_count": null,
   "metadata": {},
   "outputs": [],
   "source": [
    "# Save Figure\n",
    "outdir = f\"/mnt/lustre/IAM851/jm1667/psc-scrap/figs-{case}/\"\n",
    "os.makedirs(outdir, exist_ok=True)\n",
    "\n",
    "fig.savefig(get_fig_path(outdir, get_fig_name()), bbox_inches=\"tight\", pad_inches=0.01, dpi=300)"
   ]
  },
  {
   "cell_type": "code",
   "execution_count": null,
   "metadata": {},
   "outputs": [],
   "source": []
  }
 ],
 "metadata": {
  "kernelspec": {
   "display_name": "Python 3",
   "language": "python",
   "name": "python3"
  },
  "language_info": {
   "codemirror_mode": {
    "name": "ipython",
    "version": 3
   },
   "file_extension": ".py",
   "mimetype": "text/x-python",
   "name": "python",
   "nbconvert_exporter": "python",
   "pygments_lexer": "ipython3",
   "version": "3.11.2"
  },
  "orig_nbformat": 4
 },
 "nbformat": 4,
 "nbformat_minor": 2
}
