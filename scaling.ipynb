{
 "cells": [
  {
   "cell_type": "code",
   "execution_count": null,
   "metadata": {},
   "outputs": [],
   "source": [
    "import bgk\n",
    "import matplotlib.pyplot as plt\n",
    "import bgk.run_params as rp\n",
    "import os"
   ]
  },
  {
   "cell_type": "code",
   "execution_count": null,
   "metadata": {},
   "outputs": [],
   "source": [
    "# Parameters to adjust figures\n",
    "case = \"exact\" # exact, max, exact-rev, or max-rev\n",
    "cont = False\n",
    "\n",
    "nframes = 100\n",
    "param = rp.ne"
   ]
  },
  {
   "cell_type": "code",
   "execution_count": null,
   "metadata": {},
   "outputs": [],
   "source": [
    "basepath = f\"/mnt/lustre/IAM851/jm1667/psc-runs/case1/trials/{case}/\"\n",
    "# paths = [\"B00.25-n256\", \"B00.25-n256-nicell400\", \"B00.25-n512-cont\", \"B00.25-n512-nicell25\"]\n",
    "# Bs = [.25] * 4\n",
    "# ress = [256, 256, 512, 512]\n",
    "# maxsteps = [1000000, 1000000, 2000000, 2000000]\n",
    "# from_ymls = [False, False, False, False]\n",
    "# nicells = [100, 400, 100, 25]\n",
    "paths = [\"B00.10-n256\", \"B00.10-n512\", \"B00.10-n1024\", \"B00.10-n2048\"]\n",
    "Bs = [.1] * 4\n",
    "ress = [256, 512, 1024, 2048]\n",
    "maxsteps = [1000000, 1000000, 2000000, 2000000]\n",
    "from_ymls = [False, False, True, True]\n",
    "nicells = [100, 100, 100, 100]"
   ]
  },
  {
   "cell_type": "code",
   "execution_count": null,
   "metadata": {},
   "outputs": [],
   "source": [
    "# path_fmt = f\"/mnt/lustre/IAM851/jm1667/psc-runs/case1/trials/{case}/B{{:05.2f}}-n{{}}/\"\n",
    "\n",
    "def get_line(path, res, maxstep, nframes, param) -> tuple[list[float], list[float]]:\n",
    "    # path = path_fmt.format(B, res)\n",
    "\n",
    "    loader = bgk.Loader(path, engine=\"pscadios2\", species_names=['e', 'i'], max_step=maxstep)\n",
    "    videoMaker = bgk.VideoMaker(nframes, loader)\n",
    "\n",
    "    wholeSlice = bgk.DataSlice(slice(None, None), \"\")\n",
    "    videoMaker.loadData(param)\n",
    "    videoMaker.setSlice(wholeSlice)\n",
    "    \n",
    "    return videoMaker.times, videoMaker._getMeansAtOrigin(res//128)"
   ]
  },
  {
   "cell_type": "code",
   "execution_count": null,
   "metadata": {},
   "outputs": [],
   "source": [
    "# Load Data\n",
    "# liness: list[list[tuple]] = []\n",
    "lines: list[tuple] = []\n",
    "for halfpath, res, maxstep, from_yml in zip(paths, ress, maxsteps, from_ymls):\n",
    "    if from_yml:\n",
    "        print(f\"Loading {halfpath} from yaml...\")\n",
    "        data = bgk.autofigs.figdata.OriginMeans(halfpath, param.name)\n",
    "        x, y = data.times, data.means\n",
    "        if maxstep:\n",
    "            x = x[:maxstep]\n",
    "            y = y[:maxstep]\n",
    "    else:   \n",
    "        path = basepath + halfpath\n",
    "        print(f\"Loading {path} from pfd...\")\n",
    "        x, y = get_line(path, res, maxstep, nframes, param)\n",
    "    lines.append((x, y))"
   ]
  },
  {
   "cell_type": "code",
   "execution_count": null,
   "metadata": {},
   "outputs": [],
   "source": [
    "# Generate Figure\n",
    "fig, ax = plt.subplots()\n",
    "\n",
    "ax.set_xlabel(\"Time\")\n",
    "ax.set_ylabel(f\"Mean {param.title}\")\n",
    "# ax.set_title(f\"Comparisons of Mean {param.title} Near Origin\")\n",
    "ax.set_title(f\"Comparisons of Mean {param.title} Near Origin for $B_0={.25}$\")\n",
    "\n",
    "for B, res, (x, y), nicell in zip(Bs, ress, lines, nicells):\n",
    "    # ax.plot(x, y, label=f\"$B_0={B}, n={res}$\")\n",
    "    \n",
    "    color = \"b\" if res == 256 else \"r\"\n",
    "    line = \"-\" if nicell == 100 else \"--\"\n",
    "    ax.plot(x, y, label=f\"${res}^2, nicell={nicell}$\", color=color, ls=line)\n",
    "    print()\n",
    "\n",
    "\n",
    "ax.legend();"
   ]
  },
  {
   "cell_type": "code",
   "execution_count": null,
   "metadata": {},
   "outputs": [],
   "source": [
    "def get_fig_path(outdir, fig_name: str) -> str:\n",
    "    return os.path.join(outdir, fig_name)\n",
    "\n",
    "def get_fig_name() -> str:\n",
    "    param_str = param.title.replace(\"_\", \"\").replace(\"$\", \"\")\n",
    "    Bs_str = \",\".join([f\"B{B:05.2f}\" for B in set(Bs)])\n",
    "    return f\"scaling-{param_str}-{case}-{Bs_str}.png\""
   ]
  },
  {
   "cell_type": "code",
   "execution_count": null,
   "metadata": {},
   "outputs": [],
   "source": [
    "# Save Figure\n",
    "outdir = f\"/mnt/lustre/IAM851/jm1667/psc-scrap/figs-{case}-etc/\"\n",
    "os.makedirs(outdir, exist_ok=True)\n",
    "\n",
    "fig.savefig(get_fig_path(outdir, get_fig_name()), bbox_inches=\"tight\", pad_inches=0.01, dpi=300)"
   ]
  },
  {
   "cell_type": "code",
   "execution_count": null,
   "metadata": {},
   "outputs": [],
   "source": []
  }
 ],
 "metadata": {
  "kernelspec": {
   "display_name": "Python 3",
   "language": "python",
   "name": "python3"
  },
  "language_info": {
   "codemirror_mode": {
    "name": "ipython",
    "version": 3
   },
   "file_extension": ".py",
   "mimetype": "text/x-python",
   "name": "python",
   "nbconvert_exporter": "python",
   "pygments_lexer": "ipython3",
   "version": "3.11.2"
  },
  "orig_nbformat": 4
 },
 "nbformat": 4,
 "nbformat_minor": 2
}
